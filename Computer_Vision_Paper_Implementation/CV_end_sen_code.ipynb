{
  "nbformat": 4,
  "nbformat_minor": 0,
  "metadata": {
    "colab": {
      "name": "CV_end_sen_code.ipynb",
      "provenance": [],
      "collapsed_sections": [
        "_a67hPPoAk_y"
      ]
    },
    "kernelspec": {
      "name": "python3",
      "display_name": "Python 3"
    },
    "language_info": {
      "name": "python"
    },
    "accelerator": "GPU",
    "widgets": {
      "application/vnd.jupyter.widget-state+json": {
        "156cc9707ca448a98c5b120edb3da3eb": {
          "model_module": "@jupyter-widgets/controls",
          "model_name": "HBoxModel",
          "state": {
            "_view_name": "HBoxView",
            "_dom_classes": [],
            "_model_name": "HBoxModel",
            "_view_module": "@jupyter-widgets/controls",
            "_model_module_version": "1.5.0",
            "_view_count": null,
            "_view_module_version": "1.5.0",
            "box_style": "",
            "layout": "IPY_MODEL_42af93bc1da541159c255c44528ea3e6",
            "_model_module": "@jupyter-widgets/controls",
            "children": [
              "IPY_MODEL_d962345fa86341b1b2a6b51fa0a157a3",
              "IPY_MODEL_e4fdd40370534f409cceac8dd20cc808"
            ]
          }
        },
        "42af93bc1da541159c255c44528ea3e6": {
          "model_module": "@jupyter-widgets/base",
          "model_name": "LayoutModel",
          "state": {
            "_view_name": "LayoutView",
            "grid_template_rows": null,
            "right": null,
            "justify_content": null,
            "_view_module": "@jupyter-widgets/base",
            "overflow": null,
            "_model_module_version": "1.2.0",
            "_view_count": null,
            "flex_flow": null,
            "width": null,
            "min_width": null,
            "border": null,
            "align_items": null,
            "bottom": null,
            "_model_module": "@jupyter-widgets/base",
            "top": null,
            "grid_column": null,
            "overflow_y": null,
            "overflow_x": null,
            "grid_auto_flow": null,
            "grid_area": null,
            "grid_template_columns": null,
            "flex": null,
            "_model_name": "LayoutModel",
            "justify_items": null,
            "grid_row": null,
            "max_height": null,
            "align_content": null,
            "visibility": null,
            "align_self": null,
            "height": null,
            "min_height": null,
            "padding": null,
            "grid_auto_rows": null,
            "grid_gap": null,
            "max_width": null,
            "order": null,
            "_view_module_version": "1.2.0",
            "grid_template_areas": null,
            "object_position": null,
            "object_fit": null,
            "grid_auto_columns": null,
            "margin": null,
            "display": null,
            "left": null
          }
        },
        "d962345fa86341b1b2a6b51fa0a157a3": {
          "model_module": "@jupyter-widgets/controls",
          "model_name": "FloatProgressModel",
          "state": {
            "_view_name": "ProgressView",
            "style": "IPY_MODEL_3b3fb1f9141b4839a40c28a7d4d161d9",
            "_dom_classes": [],
            "description": "",
            "_model_name": "FloatProgressModel",
            "bar_style": "success",
            "max": 170498071,
            "_view_module": "@jupyter-widgets/controls",
            "_model_module_version": "1.5.0",
            "value": 170498071,
            "_view_count": null,
            "_view_module_version": "1.5.0",
            "orientation": "horizontal",
            "min": 0,
            "description_tooltip": null,
            "_model_module": "@jupyter-widgets/controls",
            "layout": "IPY_MODEL_acd266b84f13446c9b8522377700634a"
          }
        },
        "e4fdd40370534f409cceac8dd20cc808": {
          "model_module": "@jupyter-widgets/controls",
          "model_name": "HTMLModel",
          "state": {
            "_view_name": "HTMLView",
            "style": "IPY_MODEL_59e3f4fd883d4df48f2bee8d7be31fc6",
            "_dom_classes": [],
            "description": "",
            "_model_name": "HTMLModel",
            "placeholder": "​",
            "_view_module": "@jupyter-widgets/controls",
            "_model_module_version": "1.5.0",
            "value": " 170499072/? [10:34&lt;00:00, 268887.11it/s]",
            "_view_count": null,
            "_view_module_version": "1.5.0",
            "description_tooltip": null,
            "_model_module": "@jupyter-widgets/controls",
            "layout": "IPY_MODEL_8b90f8d0b8154f85ba01bc10bd36130c"
          }
        },
        "3b3fb1f9141b4839a40c28a7d4d161d9": {
          "model_module": "@jupyter-widgets/controls",
          "model_name": "ProgressStyleModel",
          "state": {
            "_view_name": "StyleView",
            "_model_name": "ProgressStyleModel",
            "description_width": "initial",
            "_view_module": "@jupyter-widgets/base",
            "_model_module_version": "1.5.0",
            "_view_count": null,
            "_view_module_version": "1.2.0",
            "bar_color": null,
            "_model_module": "@jupyter-widgets/controls"
          }
        },
        "acd266b84f13446c9b8522377700634a": {
          "model_module": "@jupyter-widgets/base",
          "model_name": "LayoutModel",
          "state": {
            "_view_name": "LayoutView",
            "grid_template_rows": null,
            "right": null,
            "justify_content": null,
            "_view_module": "@jupyter-widgets/base",
            "overflow": null,
            "_model_module_version": "1.2.0",
            "_view_count": null,
            "flex_flow": null,
            "width": null,
            "min_width": null,
            "border": null,
            "align_items": null,
            "bottom": null,
            "_model_module": "@jupyter-widgets/base",
            "top": null,
            "grid_column": null,
            "overflow_y": null,
            "overflow_x": null,
            "grid_auto_flow": null,
            "grid_area": null,
            "grid_template_columns": null,
            "flex": null,
            "_model_name": "LayoutModel",
            "justify_items": null,
            "grid_row": null,
            "max_height": null,
            "align_content": null,
            "visibility": null,
            "align_self": null,
            "height": null,
            "min_height": null,
            "padding": null,
            "grid_auto_rows": null,
            "grid_gap": null,
            "max_width": null,
            "order": null,
            "_view_module_version": "1.2.0",
            "grid_template_areas": null,
            "object_position": null,
            "object_fit": null,
            "grid_auto_columns": null,
            "margin": null,
            "display": null,
            "left": null
          }
        },
        "59e3f4fd883d4df48f2bee8d7be31fc6": {
          "model_module": "@jupyter-widgets/controls",
          "model_name": "DescriptionStyleModel",
          "state": {
            "_view_name": "StyleView",
            "_model_name": "DescriptionStyleModel",
            "description_width": "",
            "_view_module": "@jupyter-widgets/base",
            "_model_module_version": "1.5.0",
            "_view_count": null,
            "_view_module_version": "1.2.0",
            "_model_module": "@jupyter-widgets/controls"
          }
        },
        "8b90f8d0b8154f85ba01bc10bd36130c": {
          "model_module": "@jupyter-widgets/base",
          "model_name": "LayoutModel",
          "state": {
            "_view_name": "LayoutView",
            "grid_template_rows": null,
            "right": null,
            "justify_content": null,
            "_view_module": "@jupyter-widgets/base",
            "overflow": null,
            "_model_module_version": "1.2.0",
            "_view_count": null,
            "flex_flow": null,
            "width": null,
            "min_width": null,
            "border": null,
            "align_items": null,
            "bottom": null,
            "_model_module": "@jupyter-widgets/base",
            "top": null,
            "grid_column": null,
            "overflow_y": null,
            "overflow_x": null,
            "grid_auto_flow": null,
            "grid_area": null,
            "grid_template_columns": null,
            "flex": null,
            "_model_name": "LayoutModel",
            "justify_items": null,
            "grid_row": null,
            "max_height": null,
            "align_content": null,
            "visibility": null,
            "align_self": null,
            "height": null,
            "min_height": null,
            "padding": null,
            "grid_auto_rows": null,
            "grid_gap": null,
            "max_width": null,
            "order": null,
            "_view_module_version": "1.2.0",
            "grid_template_areas": null,
            "object_position": null,
            "object_fit": null,
            "grid_auto_columns": null,
            "margin": null,
            "display": null,
            "left": null
          }
        },
        "aaeca9029c124daebc8b63d4a8506ae8": {
          "model_module": "@jupyter-widgets/controls",
          "model_name": "HBoxModel",
          "state": {
            "_view_name": "HBoxView",
            "_dom_classes": [],
            "_model_name": "HBoxModel",
            "_view_module": "@jupyter-widgets/controls",
            "_model_module_version": "1.5.0",
            "_view_count": null,
            "_view_module_version": "1.5.0",
            "box_style": "",
            "layout": "IPY_MODEL_8344435627594965a45bea15c7bb1542",
            "_model_module": "@jupyter-widgets/controls",
            "children": [
              "IPY_MODEL_d3d2a1400a184bf3b14a9f76a6b21133",
              "IPY_MODEL_9fc263ba255746d8a5bfd7001f70ea4d"
            ]
          }
        },
        "8344435627594965a45bea15c7bb1542": {
          "model_module": "@jupyter-widgets/base",
          "model_name": "LayoutModel",
          "state": {
            "_view_name": "LayoutView",
            "grid_template_rows": null,
            "right": null,
            "justify_content": null,
            "_view_module": "@jupyter-widgets/base",
            "overflow": null,
            "_model_module_version": "1.2.0",
            "_view_count": null,
            "flex_flow": null,
            "width": null,
            "min_width": null,
            "border": null,
            "align_items": null,
            "bottom": null,
            "_model_module": "@jupyter-widgets/base",
            "top": null,
            "grid_column": null,
            "overflow_y": null,
            "overflow_x": null,
            "grid_auto_flow": null,
            "grid_area": null,
            "grid_template_columns": null,
            "flex": null,
            "_model_name": "LayoutModel",
            "justify_items": null,
            "grid_row": null,
            "max_height": null,
            "align_content": null,
            "visibility": null,
            "align_self": null,
            "height": null,
            "min_height": null,
            "padding": null,
            "grid_auto_rows": null,
            "grid_gap": null,
            "max_width": null,
            "order": null,
            "_view_module_version": "1.2.0",
            "grid_template_areas": null,
            "object_position": null,
            "object_fit": null,
            "grid_auto_columns": null,
            "margin": null,
            "display": null,
            "left": null
          }
        },
        "d3d2a1400a184bf3b14a9f76a6b21133": {
          "model_module": "@jupyter-widgets/controls",
          "model_name": "FloatProgressModel",
          "state": {
            "_view_name": "ProgressView",
            "style": "IPY_MODEL_607b0e65f99546c498886d58f388f054",
            "_dom_classes": [],
            "description": "",
            "_model_name": "FloatProgressModel",
            "bar_style": "success",
            "max": 9912422,
            "_view_module": "@jupyter-widgets/controls",
            "_model_module_version": "1.5.0",
            "value": 9912422,
            "_view_count": null,
            "_view_module_version": "1.5.0",
            "orientation": "horizontal",
            "min": 0,
            "description_tooltip": null,
            "_model_module": "@jupyter-widgets/controls",
            "layout": "IPY_MODEL_c219e3800fcf4adeab026ec70f10e101"
          }
        },
        "9fc263ba255746d8a5bfd7001f70ea4d": {
          "model_module": "@jupyter-widgets/controls",
          "model_name": "HTMLModel",
          "state": {
            "_view_name": "HTMLView",
            "style": "IPY_MODEL_6115d83d3be84c7d9962dcd96921251f",
            "_dom_classes": [],
            "description": "",
            "_model_name": "HTMLModel",
            "placeholder": "​",
            "_view_module": "@jupyter-widgets/controls",
            "_model_module_version": "1.5.0",
            "value": " 9913344/? [00:04&lt;00:00, 2008540.70it/s]",
            "_view_count": null,
            "_view_module_version": "1.5.0",
            "description_tooltip": null,
            "_model_module": "@jupyter-widgets/controls",
            "layout": "IPY_MODEL_6878b25a969b482b934207aac0a13a6b"
          }
        },
        "607b0e65f99546c498886d58f388f054": {
          "model_module": "@jupyter-widgets/controls",
          "model_name": "ProgressStyleModel",
          "state": {
            "_view_name": "StyleView",
            "_model_name": "ProgressStyleModel",
            "description_width": "initial",
            "_view_module": "@jupyter-widgets/base",
            "_model_module_version": "1.5.0",
            "_view_count": null,
            "_view_module_version": "1.2.0",
            "bar_color": null,
            "_model_module": "@jupyter-widgets/controls"
          }
        },
        "c219e3800fcf4adeab026ec70f10e101": {
          "model_module": "@jupyter-widgets/base",
          "model_name": "LayoutModel",
          "state": {
            "_view_name": "LayoutView",
            "grid_template_rows": null,
            "right": null,
            "justify_content": null,
            "_view_module": "@jupyter-widgets/base",
            "overflow": null,
            "_model_module_version": "1.2.0",
            "_view_count": null,
            "flex_flow": null,
            "width": null,
            "min_width": null,
            "border": null,
            "align_items": null,
            "bottom": null,
            "_model_module": "@jupyter-widgets/base",
            "top": null,
            "grid_column": null,
            "overflow_y": null,
            "overflow_x": null,
            "grid_auto_flow": null,
            "grid_area": null,
            "grid_template_columns": null,
            "flex": null,
            "_model_name": "LayoutModel",
            "justify_items": null,
            "grid_row": null,
            "max_height": null,
            "align_content": null,
            "visibility": null,
            "align_self": null,
            "height": null,
            "min_height": null,
            "padding": null,
            "grid_auto_rows": null,
            "grid_gap": null,
            "max_width": null,
            "order": null,
            "_view_module_version": "1.2.0",
            "grid_template_areas": null,
            "object_position": null,
            "object_fit": null,
            "grid_auto_columns": null,
            "margin": null,
            "display": null,
            "left": null
          }
        },
        "6115d83d3be84c7d9962dcd96921251f": {
          "model_module": "@jupyter-widgets/controls",
          "model_name": "DescriptionStyleModel",
          "state": {
            "_view_name": "StyleView",
            "_model_name": "DescriptionStyleModel",
            "description_width": "",
            "_view_module": "@jupyter-widgets/base",
            "_model_module_version": "1.5.0",
            "_view_count": null,
            "_view_module_version": "1.2.0",
            "_model_module": "@jupyter-widgets/controls"
          }
        },
        "6878b25a969b482b934207aac0a13a6b": {
          "model_module": "@jupyter-widgets/base",
          "model_name": "LayoutModel",
          "state": {
            "_view_name": "LayoutView",
            "grid_template_rows": null,
            "right": null,
            "justify_content": null,
            "_view_module": "@jupyter-widgets/base",
            "overflow": null,
            "_model_module_version": "1.2.0",
            "_view_count": null,
            "flex_flow": null,
            "width": null,
            "min_width": null,
            "border": null,
            "align_items": null,
            "bottom": null,
            "_model_module": "@jupyter-widgets/base",
            "top": null,
            "grid_column": null,
            "overflow_y": null,
            "overflow_x": null,
            "grid_auto_flow": null,
            "grid_area": null,
            "grid_template_columns": null,
            "flex": null,
            "_model_name": "LayoutModel",
            "justify_items": null,
            "grid_row": null,
            "max_height": null,
            "align_content": null,
            "visibility": null,
            "align_self": null,
            "height": null,
            "min_height": null,
            "padding": null,
            "grid_auto_rows": null,
            "grid_gap": null,
            "max_width": null,
            "order": null,
            "_view_module_version": "1.2.0",
            "grid_template_areas": null,
            "object_position": null,
            "object_fit": null,
            "grid_auto_columns": null,
            "margin": null,
            "display": null,
            "left": null
          }
        },
        "feb885515010444492fb4e1fa2e32e3f": {
          "model_module": "@jupyter-widgets/controls",
          "model_name": "HBoxModel",
          "state": {
            "_view_name": "HBoxView",
            "_dom_classes": [],
            "_model_name": "HBoxModel",
            "_view_module": "@jupyter-widgets/controls",
            "_model_module_version": "1.5.0",
            "_view_count": null,
            "_view_module_version": "1.5.0",
            "box_style": "",
            "layout": "IPY_MODEL_eb0bb10626ea461f8f4e4ebde9466a14",
            "_model_module": "@jupyter-widgets/controls",
            "children": [
              "IPY_MODEL_dba7ba0e582e4ae99202d9cf65cac3a2",
              "IPY_MODEL_357bcdaed4444f2f8fbe1d41fffa8d55"
            ]
          }
        },
        "eb0bb10626ea461f8f4e4ebde9466a14": {
          "model_module": "@jupyter-widgets/base",
          "model_name": "LayoutModel",
          "state": {
            "_view_name": "LayoutView",
            "grid_template_rows": null,
            "right": null,
            "justify_content": null,
            "_view_module": "@jupyter-widgets/base",
            "overflow": null,
            "_model_module_version": "1.2.0",
            "_view_count": null,
            "flex_flow": null,
            "width": null,
            "min_width": null,
            "border": null,
            "align_items": null,
            "bottom": null,
            "_model_module": "@jupyter-widgets/base",
            "top": null,
            "grid_column": null,
            "overflow_y": null,
            "overflow_x": null,
            "grid_auto_flow": null,
            "grid_area": null,
            "grid_template_columns": null,
            "flex": null,
            "_model_name": "LayoutModel",
            "justify_items": null,
            "grid_row": null,
            "max_height": null,
            "align_content": null,
            "visibility": null,
            "align_self": null,
            "height": null,
            "min_height": null,
            "padding": null,
            "grid_auto_rows": null,
            "grid_gap": null,
            "max_width": null,
            "order": null,
            "_view_module_version": "1.2.0",
            "grid_template_areas": null,
            "object_position": null,
            "object_fit": null,
            "grid_auto_columns": null,
            "margin": null,
            "display": null,
            "left": null
          }
        },
        "dba7ba0e582e4ae99202d9cf65cac3a2": {
          "model_module": "@jupyter-widgets/controls",
          "model_name": "FloatProgressModel",
          "state": {
            "_view_name": "ProgressView",
            "style": "IPY_MODEL_2df81fd6a5e2495d941f4392225c45f5",
            "_dom_classes": [],
            "description": "",
            "_model_name": "FloatProgressModel",
            "bar_style": "success",
            "max": 28881,
            "_view_module": "@jupyter-widgets/controls",
            "_model_module_version": "1.5.0",
            "value": 28881,
            "_view_count": null,
            "_view_module_version": "1.5.0",
            "orientation": "horizontal",
            "min": 0,
            "description_tooltip": null,
            "_model_module": "@jupyter-widgets/controls",
            "layout": "IPY_MODEL_8c591bfb9f434a32a0b0a6ad36f13c4e"
          }
        },
        "357bcdaed4444f2f8fbe1d41fffa8d55": {
          "model_module": "@jupyter-widgets/controls",
          "model_name": "HTMLModel",
          "state": {
            "_view_name": "HTMLView",
            "style": "IPY_MODEL_d3cc8beda64042a5a97b6b61259e3209",
            "_dom_classes": [],
            "description": "",
            "_model_name": "HTMLModel",
            "placeholder": "​",
            "_view_module": "@jupyter-widgets/controls",
            "_model_module_version": "1.5.0",
            "value": " 29696/? [00:01&lt;00:00, 20455.55it/s]",
            "_view_count": null,
            "_view_module_version": "1.5.0",
            "description_tooltip": null,
            "_model_module": "@jupyter-widgets/controls",
            "layout": "IPY_MODEL_a9525530c54c4a609853ed8c7144f930"
          }
        },
        "2df81fd6a5e2495d941f4392225c45f5": {
          "model_module": "@jupyter-widgets/controls",
          "model_name": "ProgressStyleModel",
          "state": {
            "_view_name": "StyleView",
            "_model_name": "ProgressStyleModel",
            "description_width": "initial",
            "_view_module": "@jupyter-widgets/base",
            "_model_module_version": "1.5.0",
            "_view_count": null,
            "_view_module_version": "1.2.0",
            "bar_color": null,
            "_model_module": "@jupyter-widgets/controls"
          }
        },
        "8c591bfb9f434a32a0b0a6ad36f13c4e": {
          "model_module": "@jupyter-widgets/base",
          "model_name": "LayoutModel",
          "state": {
            "_view_name": "LayoutView",
            "grid_template_rows": null,
            "right": null,
            "justify_content": null,
            "_view_module": "@jupyter-widgets/base",
            "overflow": null,
            "_model_module_version": "1.2.0",
            "_view_count": null,
            "flex_flow": null,
            "width": null,
            "min_width": null,
            "border": null,
            "align_items": null,
            "bottom": null,
            "_model_module": "@jupyter-widgets/base",
            "top": null,
            "grid_column": null,
            "overflow_y": null,
            "overflow_x": null,
            "grid_auto_flow": null,
            "grid_area": null,
            "grid_template_columns": null,
            "flex": null,
            "_model_name": "LayoutModel",
            "justify_items": null,
            "grid_row": null,
            "max_height": null,
            "align_content": null,
            "visibility": null,
            "align_self": null,
            "height": null,
            "min_height": null,
            "padding": null,
            "grid_auto_rows": null,
            "grid_gap": null,
            "max_width": null,
            "order": null,
            "_view_module_version": "1.2.0",
            "grid_template_areas": null,
            "object_position": null,
            "object_fit": null,
            "grid_auto_columns": null,
            "margin": null,
            "display": null,
            "left": null
          }
        },
        "d3cc8beda64042a5a97b6b61259e3209": {
          "model_module": "@jupyter-widgets/controls",
          "model_name": "DescriptionStyleModel",
          "state": {
            "_view_name": "StyleView",
            "_model_name": "DescriptionStyleModel",
            "description_width": "",
            "_view_module": "@jupyter-widgets/base",
            "_model_module_version": "1.5.0",
            "_view_count": null,
            "_view_module_version": "1.2.0",
            "_model_module": "@jupyter-widgets/controls"
          }
        },
        "a9525530c54c4a609853ed8c7144f930": {
          "model_module": "@jupyter-widgets/base",
          "model_name": "LayoutModel",
          "state": {
            "_view_name": "LayoutView",
            "grid_template_rows": null,
            "right": null,
            "justify_content": null,
            "_view_module": "@jupyter-widgets/base",
            "overflow": null,
            "_model_module_version": "1.2.0",
            "_view_count": null,
            "flex_flow": null,
            "width": null,
            "min_width": null,
            "border": null,
            "align_items": null,
            "bottom": null,
            "_model_module": "@jupyter-widgets/base",
            "top": null,
            "grid_column": null,
            "overflow_y": null,
            "overflow_x": null,
            "grid_auto_flow": null,
            "grid_area": null,
            "grid_template_columns": null,
            "flex": null,
            "_model_name": "LayoutModel",
            "justify_items": null,
            "grid_row": null,
            "max_height": null,
            "align_content": null,
            "visibility": null,
            "align_self": null,
            "height": null,
            "min_height": null,
            "padding": null,
            "grid_auto_rows": null,
            "grid_gap": null,
            "max_width": null,
            "order": null,
            "_view_module_version": "1.2.0",
            "grid_template_areas": null,
            "object_position": null,
            "object_fit": null,
            "grid_auto_columns": null,
            "margin": null,
            "display": null,
            "left": null
          }
        },
        "b83b88a92a454721904215366d979e25": {
          "model_module": "@jupyter-widgets/controls",
          "model_name": "HBoxModel",
          "state": {
            "_view_name": "HBoxView",
            "_dom_classes": [],
            "_model_name": "HBoxModel",
            "_view_module": "@jupyter-widgets/controls",
            "_model_module_version": "1.5.0",
            "_view_count": null,
            "_view_module_version": "1.5.0",
            "box_style": "",
            "layout": "IPY_MODEL_654bd3be6d5040e2bc8354c83873b188",
            "_model_module": "@jupyter-widgets/controls",
            "children": [
              "IPY_MODEL_6c86d159d2ab482bb0aa32237210b6f2",
              "IPY_MODEL_352f4f78df4a41f894d110f88ead0804"
            ]
          }
        },
        "654bd3be6d5040e2bc8354c83873b188": {
          "model_module": "@jupyter-widgets/base",
          "model_name": "LayoutModel",
          "state": {
            "_view_name": "LayoutView",
            "grid_template_rows": null,
            "right": null,
            "justify_content": null,
            "_view_module": "@jupyter-widgets/base",
            "overflow": null,
            "_model_module_version": "1.2.0",
            "_view_count": null,
            "flex_flow": null,
            "width": null,
            "min_width": null,
            "border": null,
            "align_items": null,
            "bottom": null,
            "_model_module": "@jupyter-widgets/base",
            "top": null,
            "grid_column": null,
            "overflow_y": null,
            "overflow_x": null,
            "grid_auto_flow": null,
            "grid_area": null,
            "grid_template_columns": null,
            "flex": null,
            "_model_name": "LayoutModel",
            "justify_items": null,
            "grid_row": null,
            "max_height": null,
            "align_content": null,
            "visibility": null,
            "align_self": null,
            "height": null,
            "min_height": null,
            "padding": null,
            "grid_auto_rows": null,
            "grid_gap": null,
            "max_width": null,
            "order": null,
            "_view_module_version": "1.2.0",
            "grid_template_areas": null,
            "object_position": null,
            "object_fit": null,
            "grid_auto_columns": null,
            "margin": null,
            "display": null,
            "left": null
          }
        },
        "6c86d159d2ab482bb0aa32237210b6f2": {
          "model_module": "@jupyter-widgets/controls",
          "model_name": "FloatProgressModel",
          "state": {
            "_view_name": "ProgressView",
            "style": "IPY_MODEL_3191f4c7a651422db94a142c7179e432",
            "_dom_classes": [],
            "description": "",
            "_model_name": "FloatProgressModel",
            "bar_style": "success",
            "max": 1648877,
            "_view_module": "@jupyter-widgets/controls",
            "_model_module_version": "1.5.0",
            "value": 1648877,
            "_view_count": null,
            "_view_module_version": "1.5.0",
            "orientation": "horizontal",
            "min": 0,
            "description_tooltip": null,
            "_model_module": "@jupyter-widgets/controls",
            "layout": "IPY_MODEL_cda717f809ba48f9bab4c40ef923b952"
          }
        },
        "352f4f78df4a41f894d110f88ead0804": {
          "model_module": "@jupyter-widgets/controls",
          "model_name": "HTMLModel",
          "state": {
            "_view_name": "HTMLView",
            "style": "IPY_MODEL_f3fc5028291c4bd4967e655244dba9d1",
            "_dom_classes": [],
            "description": "",
            "_model_name": "HTMLModel",
            "placeholder": "​",
            "_view_module": "@jupyter-widgets/controls",
            "_model_module_version": "1.5.0",
            "value": " 1649664/? [00:01&lt;00:00, 1502866.38it/s]",
            "_view_count": null,
            "_view_module_version": "1.5.0",
            "description_tooltip": null,
            "_model_module": "@jupyter-widgets/controls",
            "layout": "IPY_MODEL_b052b9ff039646869d908752fc09d90e"
          }
        },
        "3191f4c7a651422db94a142c7179e432": {
          "model_module": "@jupyter-widgets/controls",
          "model_name": "ProgressStyleModel",
          "state": {
            "_view_name": "StyleView",
            "_model_name": "ProgressStyleModel",
            "description_width": "initial",
            "_view_module": "@jupyter-widgets/base",
            "_model_module_version": "1.5.0",
            "_view_count": null,
            "_view_module_version": "1.2.0",
            "bar_color": null,
            "_model_module": "@jupyter-widgets/controls"
          }
        },
        "cda717f809ba48f9bab4c40ef923b952": {
          "model_module": "@jupyter-widgets/base",
          "model_name": "LayoutModel",
          "state": {
            "_view_name": "LayoutView",
            "grid_template_rows": null,
            "right": null,
            "justify_content": null,
            "_view_module": "@jupyter-widgets/base",
            "overflow": null,
            "_model_module_version": "1.2.0",
            "_view_count": null,
            "flex_flow": null,
            "width": null,
            "min_width": null,
            "border": null,
            "align_items": null,
            "bottom": null,
            "_model_module": "@jupyter-widgets/base",
            "top": null,
            "grid_column": null,
            "overflow_y": null,
            "overflow_x": null,
            "grid_auto_flow": null,
            "grid_area": null,
            "grid_template_columns": null,
            "flex": null,
            "_model_name": "LayoutModel",
            "justify_items": null,
            "grid_row": null,
            "max_height": null,
            "align_content": null,
            "visibility": null,
            "align_self": null,
            "height": null,
            "min_height": null,
            "padding": null,
            "grid_auto_rows": null,
            "grid_gap": null,
            "max_width": null,
            "order": null,
            "_view_module_version": "1.2.0",
            "grid_template_areas": null,
            "object_position": null,
            "object_fit": null,
            "grid_auto_columns": null,
            "margin": null,
            "display": null,
            "left": null
          }
        },
        "f3fc5028291c4bd4967e655244dba9d1": {
          "model_module": "@jupyter-widgets/controls",
          "model_name": "DescriptionStyleModel",
          "state": {
            "_view_name": "StyleView",
            "_model_name": "DescriptionStyleModel",
            "description_width": "",
            "_view_module": "@jupyter-widgets/base",
            "_model_module_version": "1.5.0",
            "_view_count": null,
            "_view_module_version": "1.2.0",
            "_model_module": "@jupyter-widgets/controls"
          }
        },
        "b052b9ff039646869d908752fc09d90e": {
          "model_module": "@jupyter-widgets/base",
          "model_name": "LayoutModel",
          "state": {
            "_view_name": "LayoutView",
            "grid_template_rows": null,
            "right": null,
            "justify_content": null,
            "_view_module": "@jupyter-widgets/base",
            "overflow": null,
            "_model_module_version": "1.2.0",
            "_view_count": null,
            "flex_flow": null,
            "width": null,
            "min_width": null,
            "border": null,
            "align_items": null,
            "bottom": null,
            "_model_module": "@jupyter-widgets/base",
            "top": null,
            "grid_column": null,
            "overflow_y": null,
            "overflow_x": null,
            "grid_auto_flow": null,
            "grid_area": null,
            "grid_template_columns": null,
            "flex": null,
            "_model_name": "LayoutModel",
            "justify_items": null,
            "grid_row": null,
            "max_height": null,
            "align_content": null,
            "visibility": null,
            "align_self": null,
            "height": null,
            "min_height": null,
            "padding": null,
            "grid_auto_rows": null,
            "grid_gap": null,
            "max_width": null,
            "order": null,
            "_view_module_version": "1.2.0",
            "grid_template_areas": null,
            "object_position": null,
            "object_fit": null,
            "grid_auto_columns": null,
            "margin": null,
            "display": null,
            "left": null
          }
        },
        "7508d263e14e4ab2b83682180d9d6d6a": {
          "model_module": "@jupyter-widgets/controls",
          "model_name": "HBoxModel",
          "state": {
            "_view_name": "HBoxView",
            "_dom_classes": [],
            "_model_name": "HBoxModel",
            "_view_module": "@jupyter-widgets/controls",
            "_model_module_version": "1.5.0",
            "_view_count": null,
            "_view_module_version": "1.5.0",
            "box_style": "",
            "layout": "IPY_MODEL_918079a698d5465696bd9516a6907175",
            "_model_module": "@jupyter-widgets/controls",
            "children": [
              "IPY_MODEL_46695110ff3d43a986e8a9b85f65b20e",
              "IPY_MODEL_e1f3e684f10748c6a07816836f96d583"
            ]
          }
        },
        "918079a698d5465696bd9516a6907175": {
          "model_module": "@jupyter-widgets/base",
          "model_name": "LayoutModel",
          "state": {
            "_view_name": "LayoutView",
            "grid_template_rows": null,
            "right": null,
            "justify_content": null,
            "_view_module": "@jupyter-widgets/base",
            "overflow": null,
            "_model_module_version": "1.2.0",
            "_view_count": null,
            "flex_flow": null,
            "width": null,
            "min_width": null,
            "border": null,
            "align_items": null,
            "bottom": null,
            "_model_module": "@jupyter-widgets/base",
            "top": null,
            "grid_column": null,
            "overflow_y": null,
            "overflow_x": null,
            "grid_auto_flow": null,
            "grid_area": null,
            "grid_template_columns": null,
            "flex": null,
            "_model_name": "LayoutModel",
            "justify_items": null,
            "grid_row": null,
            "max_height": null,
            "align_content": null,
            "visibility": null,
            "align_self": null,
            "height": null,
            "min_height": null,
            "padding": null,
            "grid_auto_rows": null,
            "grid_gap": null,
            "max_width": null,
            "order": null,
            "_view_module_version": "1.2.0",
            "grid_template_areas": null,
            "object_position": null,
            "object_fit": null,
            "grid_auto_columns": null,
            "margin": null,
            "display": null,
            "left": null
          }
        },
        "46695110ff3d43a986e8a9b85f65b20e": {
          "model_module": "@jupyter-widgets/controls",
          "model_name": "FloatProgressModel",
          "state": {
            "_view_name": "ProgressView",
            "style": "IPY_MODEL_5e0398dae145497fb83240df9f25b8bb",
            "_dom_classes": [],
            "description": "",
            "_model_name": "FloatProgressModel",
            "bar_style": "success",
            "max": 4542,
            "_view_module": "@jupyter-widgets/controls",
            "_model_module_version": "1.5.0",
            "value": 4542,
            "_view_count": null,
            "_view_module_version": "1.5.0",
            "orientation": "horizontal",
            "min": 0,
            "description_tooltip": null,
            "_model_module": "@jupyter-widgets/controls",
            "layout": "IPY_MODEL_1adb6537d10b449bb3149bb498f925f4"
          }
        },
        "e1f3e684f10748c6a07816836f96d583": {
          "model_module": "@jupyter-widgets/controls",
          "model_name": "HTMLModel",
          "state": {
            "_view_name": "HTMLView",
            "style": "IPY_MODEL_a384cabaa48842d5a085ffbb7117afe3",
            "_dom_classes": [],
            "description": "",
            "_model_name": "HTMLModel",
            "placeholder": "​",
            "_view_module": "@jupyter-widgets/controls",
            "_model_module_version": "1.5.0",
            "value": " 5120/? [00:00&lt;00:00, 8806.07it/s]",
            "_view_count": null,
            "_view_module_version": "1.5.0",
            "description_tooltip": null,
            "_model_module": "@jupyter-widgets/controls",
            "layout": "IPY_MODEL_f67bae835f754b0388b52444cfd5976c"
          }
        },
        "5e0398dae145497fb83240df9f25b8bb": {
          "model_module": "@jupyter-widgets/controls",
          "model_name": "ProgressStyleModel",
          "state": {
            "_view_name": "StyleView",
            "_model_name": "ProgressStyleModel",
            "description_width": "initial",
            "_view_module": "@jupyter-widgets/base",
            "_model_module_version": "1.5.0",
            "_view_count": null,
            "_view_module_version": "1.2.0",
            "bar_color": null,
            "_model_module": "@jupyter-widgets/controls"
          }
        },
        "1adb6537d10b449bb3149bb498f925f4": {
          "model_module": "@jupyter-widgets/base",
          "model_name": "LayoutModel",
          "state": {
            "_view_name": "LayoutView",
            "grid_template_rows": null,
            "right": null,
            "justify_content": null,
            "_view_module": "@jupyter-widgets/base",
            "overflow": null,
            "_model_module_version": "1.2.0",
            "_view_count": null,
            "flex_flow": null,
            "width": null,
            "min_width": null,
            "border": null,
            "align_items": null,
            "bottom": null,
            "_model_module": "@jupyter-widgets/base",
            "top": null,
            "grid_column": null,
            "overflow_y": null,
            "overflow_x": null,
            "grid_auto_flow": null,
            "grid_area": null,
            "grid_template_columns": null,
            "flex": null,
            "_model_name": "LayoutModel",
            "justify_items": null,
            "grid_row": null,
            "max_height": null,
            "align_content": null,
            "visibility": null,
            "align_self": null,
            "height": null,
            "min_height": null,
            "padding": null,
            "grid_auto_rows": null,
            "grid_gap": null,
            "max_width": null,
            "order": null,
            "_view_module_version": "1.2.0",
            "grid_template_areas": null,
            "object_position": null,
            "object_fit": null,
            "grid_auto_columns": null,
            "margin": null,
            "display": null,
            "left": null
          }
        },
        "a384cabaa48842d5a085ffbb7117afe3": {
          "model_module": "@jupyter-widgets/controls",
          "model_name": "DescriptionStyleModel",
          "state": {
            "_view_name": "StyleView",
            "_model_name": "DescriptionStyleModel",
            "description_width": "",
            "_view_module": "@jupyter-widgets/base",
            "_model_module_version": "1.5.0",
            "_view_count": null,
            "_view_module_version": "1.2.0",
            "_model_module": "@jupyter-widgets/controls"
          }
        },
        "f67bae835f754b0388b52444cfd5976c": {
          "model_module": "@jupyter-widgets/base",
          "model_name": "LayoutModel",
          "state": {
            "_view_name": "LayoutView",
            "grid_template_rows": null,
            "right": null,
            "justify_content": null,
            "_view_module": "@jupyter-widgets/base",
            "overflow": null,
            "_model_module_version": "1.2.0",
            "_view_count": null,
            "flex_flow": null,
            "width": null,
            "min_width": null,
            "border": null,
            "align_items": null,
            "bottom": null,
            "_model_module": "@jupyter-widgets/base",
            "top": null,
            "grid_column": null,
            "overflow_y": null,
            "overflow_x": null,
            "grid_auto_flow": null,
            "grid_area": null,
            "grid_template_columns": null,
            "flex": null,
            "_model_name": "LayoutModel",
            "justify_items": null,
            "grid_row": null,
            "max_height": null,
            "align_content": null,
            "visibility": null,
            "align_self": null,
            "height": null,
            "min_height": null,
            "padding": null,
            "grid_auto_rows": null,
            "grid_gap": null,
            "max_width": null,
            "order": null,
            "_view_module_version": "1.2.0",
            "grid_template_areas": null,
            "object_position": null,
            "object_fit": null,
            "grid_auto_columns": null,
            "margin": null,
            "display": null,
            "left": null
          }
        },
        "728609f74df84531a80e014a575533a3": {
          "model_module": "@jupyter-widgets/controls",
          "model_name": "HBoxModel",
          "state": {
            "_view_name": "HBoxView",
            "_dom_classes": [],
            "_model_name": "HBoxModel",
            "_view_module": "@jupyter-widgets/controls",
            "_model_module_version": "1.5.0",
            "_view_count": null,
            "_view_module_version": "1.5.0",
            "box_style": "",
            "layout": "IPY_MODEL_1a89e620a76e4c638bcd356d896b6a3b",
            "_model_module": "@jupyter-widgets/controls",
            "children": [
              "IPY_MODEL_a27e9a6c73dc4275834e1967ef81fd25",
              "IPY_MODEL_1e6265e5700b492a9dd76ae3066a45dc"
            ]
          }
        },
        "1a89e620a76e4c638bcd356d896b6a3b": {
          "model_module": "@jupyter-widgets/base",
          "model_name": "LayoutModel",
          "state": {
            "_view_name": "LayoutView",
            "grid_template_rows": null,
            "right": null,
            "justify_content": null,
            "_view_module": "@jupyter-widgets/base",
            "overflow": null,
            "_model_module_version": "1.2.0",
            "_view_count": null,
            "flex_flow": null,
            "width": null,
            "min_width": null,
            "border": null,
            "align_items": null,
            "bottom": null,
            "_model_module": "@jupyter-widgets/base",
            "top": null,
            "grid_column": null,
            "overflow_y": null,
            "overflow_x": null,
            "grid_auto_flow": null,
            "grid_area": null,
            "grid_template_columns": null,
            "flex": null,
            "_model_name": "LayoutModel",
            "justify_items": null,
            "grid_row": null,
            "max_height": null,
            "align_content": null,
            "visibility": null,
            "align_self": null,
            "height": null,
            "min_height": null,
            "padding": null,
            "grid_auto_rows": null,
            "grid_gap": null,
            "max_width": null,
            "order": null,
            "_view_module_version": "1.2.0",
            "grid_template_areas": null,
            "object_position": null,
            "object_fit": null,
            "grid_auto_columns": null,
            "margin": null,
            "display": null,
            "left": null
          }
        },
        "a27e9a6c73dc4275834e1967ef81fd25": {
          "model_module": "@jupyter-widgets/controls",
          "model_name": "FloatProgressModel",
          "state": {
            "_view_name": "ProgressView",
            "style": "IPY_MODEL_c28cdf94bdff49a28d3a821e7ac44699",
            "_dom_classes": [],
            "description": "",
            "_model_name": "FloatProgressModel",
            "bar_style": "success",
            "max": 9912422,
            "_view_module": "@jupyter-widgets/controls",
            "_model_module_version": "1.5.0",
            "value": 9912422,
            "_view_count": null,
            "_view_module_version": "1.5.0",
            "orientation": "horizontal",
            "min": 0,
            "description_tooltip": null,
            "_model_module": "@jupyter-widgets/controls",
            "layout": "IPY_MODEL_13b00c3d57924eb396ccb607a769e5b7"
          }
        },
        "1e6265e5700b492a9dd76ae3066a45dc": {
          "model_module": "@jupyter-widgets/controls",
          "model_name": "HTMLModel",
          "state": {
            "_view_name": "HTMLView",
            "style": "IPY_MODEL_8268b4d9f4cd4d95a247fb52c7f39ef6",
            "_dom_classes": [],
            "description": "",
            "_model_name": "HTMLModel",
            "placeholder": "​",
            "_view_module": "@jupyter-widgets/controls",
            "_model_module_version": "1.5.0",
            "value": " 9913344/? [00:02&lt;00:00, 4107907.10it/s]",
            "_view_count": null,
            "_view_module_version": "1.5.0",
            "description_tooltip": null,
            "_model_module": "@jupyter-widgets/controls",
            "layout": "IPY_MODEL_8b5f81f5efff4d2ebce29c4716d6fae6"
          }
        },
        "c28cdf94bdff49a28d3a821e7ac44699": {
          "model_module": "@jupyter-widgets/controls",
          "model_name": "ProgressStyleModel",
          "state": {
            "_view_name": "StyleView",
            "_model_name": "ProgressStyleModel",
            "description_width": "initial",
            "_view_module": "@jupyter-widgets/base",
            "_model_module_version": "1.5.0",
            "_view_count": null,
            "_view_module_version": "1.2.0",
            "bar_color": null,
            "_model_module": "@jupyter-widgets/controls"
          }
        },
        "13b00c3d57924eb396ccb607a769e5b7": {
          "model_module": "@jupyter-widgets/base",
          "model_name": "LayoutModel",
          "state": {
            "_view_name": "LayoutView",
            "grid_template_rows": null,
            "right": null,
            "justify_content": null,
            "_view_module": "@jupyter-widgets/base",
            "overflow": null,
            "_model_module_version": "1.2.0",
            "_view_count": null,
            "flex_flow": null,
            "width": null,
            "min_width": null,
            "border": null,
            "align_items": null,
            "bottom": null,
            "_model_module": "@jupyter-widgets/base",
            "top": null,
            "grid_column": null,
            "overflow_y": null,
            "overflow_x": null,
            "grid_auto_flow": null,
            "grid_area": null,
            "grid_template_columns": null,
            "flex": null,
            "_model_name": "LayoutModel",
            "justify_items": null,
            "grid_row": null,
            "max_height": null,
            "align_content": null,
            "visibility": null,
            "align_self": null,
            "height": null,
            "min_height": null,
            "padding": null,
            "grid_auto_rows": null,
            "grid_gap": null,
            "max_width": null,
            "order": null,
            "_view_module_version": "1.2.0",
            "grid_template_areas": null,
            "object_position": null,
            "object_fit": null,
            "grid_auto_columns": null,
            "margin": null,
            "display": null,
            "left": null
          }
        },
        "8268b4d9f4cd4d95a247fb52c7f39ef6": {
          "model_module": "@jupyter-widgets/controls",
          "model_name": "DescriptionStyleModel",
          "state": {
            "_view_name": "StyleView",
            "_model_name": "DescriptionStyleModel",
            "description_width": "",
            "_view_module": "@jupyter-widgets/base",
            "_model_module_version": "1.5.0",
            "_view_count": null,
            "_view_module_version": "1.2.0",
            "_model_module": "@jupyter-widgets/controls"
          }
        },
        "8b5f81f5efff4d2ebce29c4716d6fae6": {
          "model_module": "@jupyter-widgets/base",
          "model_name": "LayoutModel",
          "state": {
            "_view_name": "LayoutView",
            "grid_template_rows": null,
            "right": null,
            "justify_content": null,
            "_view_module": "@jupyter-widgets/base",
            "overflow": null,
            "_model_module_version": "1.2.0",
            "_view_count": null,
            "flex_flow": null,
            "width": null,
            "min_width": null,
            "border": null,
            "align_items": null,
            "bottom": null,
            "_model_module": "@jupyter-widgets/base",
            "top": null,
            "grid_column": null,
            "overflow_y": null,
            "overflow_x": null,
            "grid_auto_flow": null,
            "grid_area": null,
            "grid_template_columns": null,
            "flex": null,
            "_model_name": "LayoutModel",
            "justify_items": null,
            "grid_row": null,
            "max_height": null,
            "align_content": null,
            "visibility": null,
            "align_self": null,
            "height": null,
            "min_height": null,
            "padding": null,
            "grid_auto_rows": null,
            "grid_gap": null,
            "max_width": null,
            "order": null,
            "_view_module_version": "1.2.0",
            "grid_template_areas": null,
            "object_position": null,
            "object_fit": null,
            "grid_auto_columns": null,
            "margin": null,
            "display": null,
            "left": null
          }
        },
        "96af50269ba44e57861c795c274ceb4d": {
          "model_module": "@jupyter-widgets/controls",
          "model_name": "HBoxModel",
          "state": {
            "_view_name": "HBoxView",
            "_dom_classes": [],
            "_model_name": "HBoxModel",
            "_view_module": "@jupyter-widgets/controls",
            "_model_module_version": "1.5.0",
            "_view_count": null,
            "_view_module_version": "1.5.0",
            "box_style": "",
            "layout": "IPY_MODEL_79d364db3a18446686c7e5d6f1113ca8",
            "_model_module": "@jupyter-widgets/controls",
            "children": [
              "IPY_MODEL_b14c78139cda486f820787cbbb3a1a2c",
              "IPY_MODEL_eb85a764a85c46349961fad25d1e85a2"
            ]
          }
        },
        "79d364db3a18446686c7e5d6f1113ca8": {
          "model_module": "@jupyter-widgets/base",
          "model_name": "LayoutModel",
          "state": {
            "_view_name": "LayoutView",
            "grid_template_rows": null,
            "right": null,
            "justify_content": null,
            "_view_module": "@jupyter-widgets/base",
            "overflow": null,
            "_model_module_version": "1.2.0",
            "_view_count": null,
            "flex_flow": null,
            "width": null,
            "min_width": null,
            "border": null,
            "align_items": null,
            "bottom": null,
            "_model_module": "@jupyter-widgets/base",
            "top": null,
            "grid_column": null,
            "overflow_y": null,
            "overflow_x": null,
            "grid_auto_flow": null,
            "grid_area": null,
            "grid_template_columns": null,
            "flex": null,
            "_model_name": "LayoutModel",
            "justify_items": null,
            "grid_row": null,
            "max_height": null,
            "align_content": null,
            "visibility": null,
            "align_self": null,
            "height": null,
            "min_height": null,
            "padding": null,
            "grid_auto_rows": null,
            "grid_gap": null,
            "max_width": null,
            "order": null,
            "_view_module_version": "1.2.0",
            "grid_template_areas": null,
            "object_position": null,
            "object_fit": null,
            "grid_auto_columns": null,
            "margin": null,
            "display": null,
            "left": null
          }
        },
        "b14c78139cda486f820787cbbb3a1a2c": {
          "model_module": "@jupyter-widgets/controls",
          "model_name": "FloatProgressModel",
          "state": {
            "_view_name": "ProgressView",
            "style": "IPY_MODEL_5824b87449c849219b1a71ef70e61468",
            "_dom_classes": [],
            "description": "",
            "_model_name": "FloatProgressModel",
            "bar_style": "success",
            "max": 28881,
            "_view_module": "@jupyter-widgets/controls",
            "_model_module_version": "1.5.0",
            "value": 28881,
            "_view_count": null,
            "_view_module_version": "1.5.0",
            "orientation": "horizontal",
            "min": 0,
            "description_tooltip": null,
            "_model_module": "@jupyter-widgets/controls",
            "layout": "IPY_MODEL_831ea4b5d53441f6b68671f3f0d3baf1"
          }
        },
        "eb85a764a85c46349961fad25d1e85a2": {
          "model_module": "@jupyter-widgets/controls",
          "model_name": "HTMLModel",
          "state": {
            "_view_name": "HTMLView",
            "style": "IPY_MODEL_e961ff2d215f43ad8f540b6e56f59086",
            "_dom_classes": [],
            "description": "",
            "_model_name": "HTMLModel",
            "placeholder": "​",
            "_view_module": "@jupyter-widgets/controls",
            "_model_module_version": "1.5.0",
            "value": " 29696/? [00:01&lt;00:00, 28045.84it/s]",
            "_view_count": null,
            "_view_module_version": "1.5.0",
            "description_tooltip": null,
            "_model_module": "@jupyter-widgets/controls",
            "layout": "IPY_MODEL_ea2d98642dea46868a0539e5d2777971"
          }
        },
        "5824b87449c849219b1a71ef70e61468": {
          "model_module": "@jupyter-widgets/controls",
          "model_name": "ProgressStyleModel",
          "state": {
            "_view_name": "StyleView",
            "_model_name": "ProgressStyleModel",
            "description_width": "initial",
            "_view_module": "@jupyter-widgets/base",
            "_model_module_version": "1.5.0",
            "_view_count": null,
            "_view_module_version": "1.2.0",
            "bar_color": null,
            "_model_module": "@jupyter-widgets/controls"
          }
        },
        "831ea4b5d53441f6b68671f3f0d3baf1": {
          "model_module": "@jupyter-widgets/base",
          "model_name": "LayoutModel",
          "state": {
            "_view_name": "LayoutView",
            "grid_template_rows": null,
            "right": null,
            "justify_content": null,
            "_view_module": "@jupyter-widgets/base",
            "overflow": null,
            "_model_module_version": "1.2.0",
            "_view_count": null,
            "flex_flow": null,
            "width": null,
            "min_width": null,
            "border": null,
            "align_items": null,
            "bottom": null,
            "_model_module": "@jupyter-widgets/base",
            "top": null,
            "grid_column": null,
            "overflow_y": null,
            "overflow_x": null,
            "grid_auto_flow": null,
            "grid_area": null,
            "grid_template_columns": null,
            "flex": null,
            "_model_name": "LayoutModel",
            "justify_items": null,
            "grid_row": null,
            "max_height": null,
            "align_content": null,
            "visibility": null,
            "align_self": null,
            "height": null,
            "min_height": null,
            "padding": null,
            "grid_auto_rows": null,
            "grid_gap": null,
            "max_width": null,
            "order": null,
            "_view_module_version": "1.2.0",
            "grid_template_areas": null,
            "object_position": null,
            "object_fit": null,
            "grid_auto_columns": null,
            "margin": null,
            "display": null,
            "left": null
          }
        },
        "e961ff2d215f43ad8f540b6e56f59086": {
          "model_module": "@jupyter-widgets/controls",
          "model_name": "DescriptionStyleModel",
          "state": {
            "_view_name": "StyleView",
            "_model_name": "DescriptionStyleModel",
            "description_width": "",
            "_view_module": "@jupyter-widgets/base",
            "_model_module_version": "1.5.0",
            "_view_count": null,
            "_view_module_version": "1.2.0",
            "_model_module": "@jupyter-widgets/controls"
          }
        },
        "ea2d98642dea46868a0539e5d2777971": {
          "model_module": "@jupyter-widgets/base",
          "model_name": "LayoutModel",
          "state": {
            "_view_name": "LayoutView",
            "grid_template_rows": null,
            "right": null,
            "justify_content": null,
            "_view_module": "@jupyter-widgets/base",
            "overflow": null,
            "_model_module_version": "1.2.0",
            "_view_count": null,
            "flex_flow": null,
            "width": null,
            "min_width": null,
            "border": null,
            "align_items": null,
            "bottom": null,
            "_model_module": "@jupyter-widgets/base",
            "top": null,
            "grid_column": null,
            "overflow_y": null,
            "overflow_x": null,
            "grid_auto_flow": null,
            "grid_area": null,
            "grid_template_columns": null,
            "flex": null,
            "_model_name": "LayoutModel",
            "justify_items": null,
            "grid_row": null,
            "max_height": null,
            "align_content": null,
            "visibility": null,
            "align_self": null,
            "height": null,
            "min_height": null,
            "padding": null,
            "grid_auto_rows": null,
            "grid_gap": null,
            "max_width": null,
            "order": null,
            "_view_module_version": "1.2.0",
            "grid_template_areas": null,
            "object_position": null,
            "object_fit": null,
            "grid_auto_columns": null,
            "margin": null,
            "display": null,
            "left": null
          }
        },
        "21a7ad3fdbc044eb9f9f5887dd2e762b": {
          "model_module": "@jupyter-widgets/controls",
          "model_name": "HBoxModel",
          "state": {
            "_view_name": "HBoxView",
            "_dom_classes": [],
            "_model_name": "HBoxModel",
            "_view_module": "@jupyter-widgets/controls",
            "_model_module_version": "1.5.0",
            "_view_count": null,
            "_view_module_version": "1.5.0",
            "box_style": "",
            "layout": "IPY_MODEL_3ceecb166a9f4b88aaa97028fec1b158",
            "_model_module": "@jupyter-widgets/controls",
            "children": [
              "IPY_MODEL_ffd1de0ec75e438a805575f48575544a",
              "IPY_MODEL_20fdf553499249839e0216484c3280a6"
            ]
          }
        },
        "3ceecb166a9f4b88aaa97028fec1b158": {
          "model_module": "@jupyter-widgets/base",
          "model_name": "LayoutModel",
          "state": {
            "_view_name": "LayoutView",
            "grid_template_rows": null,
            "right": null,
            "justify_content": null,
            "_view_module": "@jupyter-widgets/base",
            "overflow": null,
            "_model_module_version": "1.2.0",
            "_view_count": null,
            "flex_flow": null,
            "width": null,
            "min_width": null,
            "border": null,
            "align_items": null,
            "bottom": null,
            "_model_module": "@jupyter-widgets/base",
            "top": null,
            "grid_column": null,
            "overflow_y": null,
            "overflow_x": null,
            "grid_auto_flow": null,
            "grid_area": null,
            "grid_template_columns": null,
            "flex": null,
            "_model_name": "LayoutModel",
            "justify_items": null,
            "grid_row": null,
            "max_height": null,
            "align_content": null,
            "visibility": null,
            "align_self": null,
            "height": null,
            "min_height": null,
            "padding": null,
            "grid_auto_rows": null,
            "grid_gap": null,
            "max_width": null,
            "order": null,
            "_view_module_version": "1.2.0",
            "grid_template_areas": null,
            "object_position": null,
            "object_fit": null,
            "grid_auto_columns": null,
            "margin": null,
            "display": null,
            "left": null
          }
        },
        "ffd1de0ec75e438a805575f48575544a": {
          "model_module": "@jupyter-widgets/controls",
          "model_name": "FloatProgressModel",
          "state": {
            "_view_name": "ProgressView",
            "style": "IPY_MODEL_f4bb39b60f7f450db398f5abeb928f41",
            "_dom_classes": [],
            "description": "",
            "_model_name": "FloatProgressModel",
            "bar_style": "success",
            "max": 1648877,
            "_view_module": "@jupyter-widgets/controls",
            "_model_module_version": "1.5.0",
            "value": 1648877,
            "_view_count": null,
            "_view_module_version": "1.5.0",
            "orientation": "horizontal",
            "min": 0,
            "description_tooltip": null,
            "_model_module": "@jupyter-widgets/controls",
            "layout": "IPY_MODEL_717e1566b0134a9eaddbeba022e3f810"
          }
        },
        "20fdf553499249839e0216484c3280a6": {
          "model_module": "@jupyter-widgets/controls",
          "model_name": "HTMLModel",
          "state": {
            "_view_name": "HTMLView",
            "style": "IPY_MODEL_b1aa7a64e95a4b08a6d1902700a9dc1a",
            "_dom_classes": [],
            "description": "",
            "_model_name": "HTMLModel",
            "placeholder": "​",
            "_view_module": "@jupyter-widgets/controls",
            "_model_module_version": "1.5.0",
            "value": " 1649664/? [00:00&lt;00:00, 2956470.00it/s]",
            "_view_count": null,
            "_view_module_version": "1.5.0",
            "description_tooltip": null,
            "_model_module": "@jupyter-widgets/controls",
            "layout": "IPY_MODEL_64de7fb1894b4147967a616c0bc5bb51"
          }
        },
        "f4bb39b60f7f450db398f5abeb928f41": {
          "model_module": "@jupyter-widgets/controls",
          "model_name": "ProgressStyleModel",
          "state": {
            "_view_name": "StyleView",
            "_model_name": "ProgressStyleModel",
            "description_width": "initial",
            "_view_module": "@jupyter-widgets/base",
            "_model_module_version": "1.5.0",
            "_view_count": null,
            "_view_module_version": "1.2.0",
            "bar_color": null,
            "_model_module": "@jupyter-widgets/controls"
          }
        },
        "717e1566b0134a9eaddbeba022e3f810": {
          "model_module": "@jupyter-widgets/base",
          "model_name": "LayoutModel",
          "state": {
            "_view_name": "LayoutView",
            "grid_template_rows": null,
            "right": null,
            "justify_content": null,
            "_view_module": "@jupyter-widgets/base",
            "overflow": null,
            "_model_module_version": "1.2.0",
            "_view_count": null,
            "flex_flow": null,
            "width": null,
            "min_width": null,
            "border": null,
            "align_items": null,
            "bottom": null,
            "_model_module": "@jupyter-widgets/base",
            "top": null,
            "grid_column": null,
            "overflow_y": null,
            "overflow_x": null,
            "grid_auto_flow": null,
            "grid_area": null,
            "grid_template_columns": null,
            "flex": null,
            "_model_name": "LayoutModel",
            "justify_items": null,
            "grid_row": null,
            "max_height": null,
            "align_content": null,
            "visibility": null,
            "align_self": null,
            "height": null,
            "min_height": null,
            "padding": null,
            "grid_auto_rows": null,
            "grid_gap": null,
            "max_width": null,
            "order": null,
            "_view_module_version": "1.2.0",
            "grid_template_areas": null,
            "object_position": null,
            "object_fit": null,
            "grid_auto_columns": null,
            "margin": null,
            "display": null,
            "left": null
          }
        },
        "b1aa7a64e95a4b08a6d1902700a9dc1a": {
          "model_module": "@jupyter-widgets/controls",
          "model_name": "DescriptionStyleModel",
          "state": {
            "_view_name": "StyleView",
            "_model_name": "DescriptionStyleModel",
            "description_width": "",
            "_view_module": "@jupyter-widgets/base",
            "_model_module_version": "1.5.0",
            "_view_count": null,
            "_view_module_version": "1.2.0",
            "_model_module": "@jupyter-widgets/controls"
          }
        },
        "64de7fb1894b4147967a616c0bc5bb51": {
          "model_module": "@jupyter-widgets/base",
          "model_name": "LayoutModel",
          "state": {
            "_view_name": "LayoutView",
            "grid_template_rows": null,
            "right": null,
            "justify_content": null,
            "_view_module": "@jupyter-widgets/base",
            "overflow": null,
            "_model_module_version": "1.2.0",
            "_view_count": null,
            "flex_flow": null,
            "width": null,
            "min_width": null,
            "border": null,
            "align_items": null,
            "bottom": null,
            "_model_module": "@jupyter-widgets/base",
            "top": null,
            "grid_column": null,
            "overflow_y": null,
            "overflow_x": null,
            "grid_auto_flow": null,
            "grid_area": null,
            "grid_template_columns": null,
            "flex": null,
            "_model_name": "LayoutModel",
            "justify_items": null,
            "grid_row": null,
            "max_height": null,
            "align_content": null,
            "visibility": null,
            "align_self": null,
            "height": null,
            "min_height": null,
            "padding": null,
            "grid_auto_rows": null,
            "grid_gap": null,
            "max_width": null,
            "order": null,
            "_view_module_version": "1.2.0",
            "grid_template_areas": null,
            "object_position": null,
            "object_fit": null,
            "grid_auto_columns": null,
            "margin": null,
            "display": null,
            "left": null
          }
        },
        "cc4df2d2985241e7bbc42dd0b1f805ea": {
          "model_module": "@jupyter-widgets/controls",
          "model_name": "HBoxModel",
          "state": {
            "_view_name": "HBoxView",
            "_dom_classes": [],
            "_model_name": "HBoxModel",
            "_view_module": "@jupyter-widgets/controls",
            "_model_module_version": "1.5.0",
            "_view_count": null,
            "_view_module_version": "1.5.0",
            "box_style": "",
            "layout": "IPY_MODEL_d1618009fac0414095b0bd249726e3a3",
            "_model_module": "@jupyter-widgets/controls",
            "children": [
              "IPY_MODEL_4745b1b907844a869b34b0bc1f6eccb1",
              "IPY_MODEL_02533f196a514c7f9f37a90332c736e1"
            ]
          }
        },
        "d1618009fac0414095b0bd249726e3a3": {
          "model_module": "@jupyter-widgets/base",
          "model_name": "LayoutModel",
          "state": {
            "_view_name": "LayoutView",
            "grid_template_rows": null,
            "right": null,
            "justify_content": null,
            "_view_module": "@jupyter-widgets/base",
            "overflow": null,
            "_model_module_version": "1.2.0",
            "_view_count": null,
            "flex_flow": null,
            "width": null,
            "min_width": null,
            "border": null,
            "align_items": null,
            "bottom": null,
            "_model_module": "@jupyter-widgets/base",
            "top": null,
            "grid_column": null,
            "overflow_y": null,
            "overflow_x": null,
            "grid_auto_flow": null,
            "grid_area": null,
            "grid_template_columns": null,
            "flex": null,
            "_model_name": "LayoutModel",
            "justify_items": null,
            "grid_row": null,
            "max_height": null,
            "align_content": null,
            "visibility": null,
            "align_self": null,
            "height": null,
            "min_height": null,
            "padding": null,
            "grid_auto_rows": null,
            "grid_gap": null,
            "max_width": null,
            "order": null,
            "_view_module_version": "1.2.0",
            "grid_template_areas": null,
            "object_position": null,
            "object_fit": null,
            "grid_auto_columns": null,
            "margin": null,
            "display": null,
            "left": null
          }
        },
        "4745b1b907844a869b34b0bc1f6eccb1": {
          "model_module": "@jupyter-widgets/controls",
          "model_name": "FloatProgressModel",
          "state": {
            "_view_name": "ProgressView",
            "style": "IPY_MODEL_9e32e0263aa748308b4c2f6cbe7d978b",
            "_dom_classes": [],
            "description": "",
            "_model_name": "FloatProgressModel",
            "bar_style": "success",
            "max": 4542,
            "_view_module": "@jupyter-widgets/controls",
            "_model_module_version": "1.5.0",
            "value": 4542,
            "_view_count": null,
            "_view_module_version": "1.5.0",
            "orientation": "horizontal",
            "min": 0,
            "description_tooltip": null,
            "_model_module": "@jupyter-widgets/controls",
            "layout": "IPY_MODEL_343de4af23174499bcdfabf505035b33"
          }
        },
        "02533f196a514c7f9f37a90332c736e1": {
          "model_module": "@jupyter-widgets/controls",
          "model_name": "HTMLModel",
          "state": {
            "_view_name": "HTMLView",
            "style": "IPY_MODEL_eaa2a293c0e140f485e5265f92bba7e2",
            "_dom_classes": [],
            "description": "",
            "_model_name": "HTMLModel",
            "placeholder": "​",
            "_view_module": "@jupyter-widgets/controls",
            "_model_module_version": "1.5.0",
            "value": " 5120/? [00:00&lt;00:00, 12303.30it/s]",
            "_view_count": null,
            "_view_module_version": "1.5.0",
            "description_tooltip": null,
            "_model_module": "@jupyter-widgets/controls",
            "layout": "IPY_MODEL_dd578a0179a34e3a8049dd375b6d93f1"
          }
        },
        "9e32e0263aa748308b4c2f6cbe7d978b": {
          "model_module": "@jupyter-widgets/controls",
          "model_name": "ProgressStyleModel",
          "state": {
            "_view_name": "StyleView",
            "_model_name": "ProgressStyleModel",
            "description_width": "initial",
            "_view_module": "@jupyter-widgets/base",
            "_model_module_version": "1.5.0",
            "_view_count": null,
            "_view_module_version": "1.2.0",
            "bar_color": null,
            "_model_module": "@jupyter-widgets/controls"
          }
        },
        "343de4af23174499bcdfabf505035b33": {
          "model_module": "@jupyter-widgets/base",
          "model_name": "LayoutModel",
          "state": {
            "_view_name": "LayoutView",
            "grid_template_rows": null,
            "right": null,
            "justify_content": null,
            "_view_module": "@jupyter-widgets/base",
            "overflow": null,
            "_model_module_version": "1.2.0",
            "_view_count": null,
            "flex_flow": null,
            "width": null,
            "min_width": null,
            "border": null,
            "align_items": null,
            "bottom": null,
            "_model_module": "@jupyter-widgets/base",
            "top": null,
            "grid_column": null,
            "overflow_y": null,
            "overflow_x": null,
            "grid_auto_flow": null,
            "grid_area": null,
            "grid_template_columns": null,
            "flex": null,
            "_model_name": "LayoutModel",
            "justify_items": null,
            "grid_row": null,
            "max_height": null,
            "align_content": null,
            "visibility": null,
            "align_self": null,
            "height": null,
            "min_height": null,
            "padding": null,
            "grid_auto_rows": null,
            "grid_gap": null,
            "max_width": null,
            "order": null,
            "_view_module_version": "1.2.0",
            "grid_template_areas": null,
            "object_position": null,
            "object_fit": null,
            "grid_auto_columns": null,
            "margin": null,
            "display": null,
            "left": null
          }
        },
        "eaa2a293c0e140f485e5265f92bba7e2": {
          "model_module": "@jupyter-widgets/controls",
          "model_name": "DescriptionStyleModel",
          "state": {
            "_view_name": "StyleView",
            "_model_name": "DescriptionStyleModel",
            "description_width": "",
            "_view_module": "@jupyter-widgets/base",
            "_model_module_version": "1.5.0",
            "_view_count": null,
            "_view_module_version": "1.2.0",
            "_model_module": "@jupyter-widgets/controls"
          }
        },
        "dd578a0179a34e3a8049dd375b6d93f1": {
          "model_module": "@jupyter-widgets/base",
          "model_name": "LayoutModel",
          "state": {
            "_view_name": "LayoutView",
            "grid_template_rows": null,
            "right": null,
            "justify_content": null,
            "_view_module": "@jupyter-widgets/base",
            "overflow": null,
            "_model_module_version": "1.2.0",
            "_view_count": null,
            "flex_flow": null,
            "width": null,
            "min_width": null,
            "border": null,
            "align_items": null,
            "bottom": null,
            "_model_module": "@jupyter-widgets/base",
            "top": null,
            "grid_column": null,
            "overflow_y": null,
            "overflow_x": null,
            "grid_auto_flow": null,
            "grid_area": null,
            "grid_template_columns": null,
            "flex": null,
            "_model_name": "LayoutModel",
            "justify_items": null,
            "grid_row": null,
            "max_height": null,
            "align_content": null,
            "visibility": null,
            "align_self": null,
            "height": null,
            "min_height": null,
            "padding": null,
            "grid_auto_rows": null,
            "grid_gap": null,
            "max_width": null,
            "order": null,
            "_view_module_version": "1.2.0",
            "grid_template_areas": null,
            "object_position": null,
            "object_fit": null,
            "grid_auto_columns": null,
            "margin": null,
            "display": null,
            "left": null
          }
        },
        "57468b2408c54084a5b24b32ac7cc188": {
          "model_module": "@jupyter-widgets/controls",
          "model_name": "HBoxModel",
          "state": {
            "_view_name": "HBoxView",
            "_dom_classes": [],
            "_model_name": "HBoxModel",
            "_view_module": "@jupyter-widgets/controls",
            "_model_module_version": "1.5.0",
            "_view_count": null,
            "_view_module_version": "1.5.0",
            "box_style": "",
            "layout": "IPY_MODEL_2946a392a2ec4d56bff07376da80ec0a",
            "_model_module": "@jupyter-widgets/controls",
            "children": [
              "IPY_MODEL_efbda40c9e8a439cb85dfeaa77263847",
              "IPY_MODEL_c5d287583d27471daf47c36007de478a"
            ]
          }
        },
        "2946a392a2ec4d56bff07376da80ec0a": {
          "model_module": "@jupyter-widgets/base",
          "model_name": "LayoutModel",
          "state": {
            "_view_name": "LayoutView",
            "grid_template_rows": null,
            "right": null,
            "justify_content": null,
            "_view_module": "@jupyter-widgets/base",
            "overflow": null,
            "_model_module_version": "1.2.0",
            "_view_count": null,
            "flex_flow": null,
            "width": null,
            "min_width": null,
            "border": null,
            "align_items": null,
            "bottom": null,
            "_model_module": "@jupyter-widgets/base",
            "top": null,
            "grid_column": null,
            "overflow_y": null,
            "overflow_x": null,
            "grid_auto_flow": null,
            "grid_area": null,
            "grid_template_columns": null,
            "flex": null,
            "_model_name": "LayoutModel",
            "justify_items": null,
            "grid_row": null,
            "max_height": null,
            "align_content": null,
            "visibility": null,
            "align_self": null,
            "height": null,
            "min_height": null,
            "padding": null,
            "grid_auto_rows": null,
            "grid_gap": null,
            "max_width": null,
            "order": null,
            "_view_module_version": "1.2.0",
            "grid_template_areas": null,
            "object_position": null,
            "object_fit": null,
            "grid_auto_columns": null,
            "margin": null,
            "display": null,
            "left": null
          }
        },
        "efbda40c9e8a439cb85dfeaa77263847": {
          "model_module": "@jupyter-widgets/controls",
          "model_name": "FloatProgressModel",
          "state": {
            "_view_name": "ProgressView",
            "style": "IPY_MODEL_befac41002e5404080266f077d3947a1",
            "_dom_classes": [],
            "description": "",
            "_model_name": "FloatProgressModel",
            "bar_style": "success",
            "max": 9912422,
            "_view_module": "@jupyter-widgets/controls",
            "_model_module_version": "1.5.0",
            "value": 9912422,
            "_view_count": null,
            "_view_module_version": "1.5.0",
            "orientation": "horizontal",
            "min": 0,
            "description_tooltip": null,
            "_model_module": "@jupyter-widgets/controls",
            "layout": "IPY_MODEL_e43aafa283674769a465986b287a2b77"
          }
        },
        "c5d287583d27471daf47c36007de478a": {
          "model_module": "@jupyter-widgets/controls",
          "model_name": "HTMLModel",
          "state": {
            "_view_name": "HTMLView",
            "style": "IPY_MODEL_05b0242fb06140eb855b44dad83ad97f",
            "_dom_classes": [],
            "description": "",
            "_model_name": "HTMLModel",
            "placeholder": "​",
            "_view_module": "@jupyter-widgets/controls",
            "_model_module_version": "1.5.0",
            "value": " 9913344/? [32:02&lt;00:00, 5157.06it/s]",
            "_view_count": null,
            "_view_module_version": "1.5.0",
            "description_tooltip": null,
            "_model_module": "@jupyter-widgets/controls",
            "layout": "IPY_MODEL_6ee45affa9c04a60bae513aeead36e20"
          }
        },
        "befac41002e5404080266f077d3947a1": {
          "model_module": "@jupyter-widgets/controls",
          "model_name": "ProgressStyleModel",
          "state": {
            "_view_name": "StyleView",
            "_model_name": "ProgressStyleModel",
            "description_width": "initial",
            "_view_module": "@jupyter-widgets/base",
            "_model_module_version": "1.5.0",
            "_view_count": null,
            "_view_module_version": "1.2.0",
            "bar_color": null,
            "_model_module": "@jupyter-widgets/controls"
          }
        },
        "e43aafa283674769a465986b287a2b77": {
          "model_module": "@jupyter-widgets/base",
          "model_name": "LayoutModel",
          "state": {
            "_view_name": "LayoutView",
            "grid_template_rows": null,
            "right": null,
            "justify_content": null,
            "_view_module": "@jupyter-widgets/base",
            "overflow": null,
            "_model_module_version": "1.2.0",
            "_view_count": null,
            "flex_flow": null,
            "width": null,
            "min_width": null,
            "border": null,
            "align_items": null,
            "bottom": null,
            "_model_module": "@jupyter-widgets/base",
            "top": null,
            "grid_column": null,
            "overflow_y": null,
            "overflow_x": null,
            "grid_auto_flow": null,
            "grid_area": null,
            "grid_template_columns": null,
            "flex": null,
            "_model_name": "LayoutModel",
            "justify_items": null,
            "grid_row": null,
            "max_height": null,
            "align_content": null,
            "visibility": null,
            "align_self": null,
            "height": null,
            "min_height": null,
            "padding": null,
            "grid_auto_rows": null,
            "grid_gap": null,
            "max_width": null,
            "order": null,
            "_view_module_version": "1.2.0",
            "grid_template_areas": null,
            "object_position": null,
            "object_fit": null,
            "grid_auto_columns": null,
            "margin": null,
            "display": null,
            "left": null
          }
        },
        "05b0242fb06140eb855b44dad83ad97f": {
          "model_module": "@jupyter-widgets/controls",
          "model_name": "DescriptionStyleModel",
          "state": {
            "_view_name": "StyleView",
            "_model_name": "DescriptionStyleModel",
            "description_width": "",
            "_view_module": "@jupyter-widgets/base",
            "_model_module_version": "1.5.0",
            "_view_count": null,
            "_view_module_version": "1.2.0",
            "_model_module": "@jupyter-widgets/controls"
          }
        },
        "6ee45affa9c04a60bae513aeead36e20": {
          "model_module": "@jupyter-widgets/base",
          "model_name": "LayoutModel",
          "state": {
            "_view_name": "LayoutView",
            "grid_template_rows": null,
            "right": null,
            "justify_content": null,
            "_view_module": "@jupyter-widgets/base",
            "overflow": null,
            "_model_module_version": "1.2.0",
            "_view_count": null,
            "flex_flow": null,
            "width": null,
            "min_width": null,
            "border": null,
            "align_items": null,
            "bottom": null,
            "_model_module": "@jupyter-widgets/base",
            "top": null,
            "grid_column": null,
            "overflow_y": null,
            "overflow_x": null,
            "grid_auto_flow": null,
            "grid_area": null,
            "grid_template_columns": null,
            "flex": null,
            "_model_name": "LayoutModel",
            "justify_items": null,
            "grid_row": null,
            "max_height": null,
            "align_content": null,
            "visibility": null,
            "align_self": null,
            "height": null,
            "min_height": null,
            "padding": null,
            "grid_auto_rows": null,
            "grid_gap": null,
            "max_width": null,
            "order": null,
            "_view_module_version": "1.2.0",
            "grid_template_areas": null,
            "object_position": null,
            "object_fit": null,
            "grid_auto_columns": null,
            "margin": null,
            "display": null,
            "left": null
          }
        },
        "091b172d34644a10a199fb7e15dd2cc4": {
          "model_module": "@jupyter-widgets/controls",
          "model_name": "HBoxModel",
          "state": {
            "_view_name": "HBoxView",
            "_dom_classes": [],
            "_model_name": "HBoxModel",
            "_view_module": "@jupyter-widgets/controls",
            "_model_module_version": "1.5.0",
            "_view_count": null,
            "_view_module_version": "1.5.0",
            "box_style": "",
            "layout": "IPY_MODEL_4aed1503f0304194bd1f01f39a085c31",
            "_model_module": "@jupyter-widgets/controls",
            "children": [
              "IPY_MODEL_10c71bff338c455aaf495d4635c5ae9f",
              "IPY_MODEL_42cc7f28e98c47c5adbd05d3eaf7abd6"
            ]
          }
        },
        "4aed1503f0304194bd1f01f39a085c31": {
          "model_module": "@jupyter-widgets/base",
          "model_name": "LayoutModel",
          "state": {
            "_view_name": "LayoutView",
            "grid_template_rows": null,
            "right": null,
            "justify_content": null,
            "_view_module": "@jupyter-widgets/base",
            "overflow": null,
            "_model_module_version": "1.2.0",
            "_view_count": null,
            "flex_flow": null,
            "width": null,
            "min_width": null,
            "border": null,
            "align_items": null,
            "bottom": null,
            "_model_module": "@jupyter-widgets/base",
            "top": null,
            "grid_column": null,
            "overflow_y": null,
            "overflow_x": null,
            "grid_auto_flow": null,
            "grid_area": null,
            "grid_template_columns": null,
            "flex": null,
            "_model_name": "LayoutModel",
            "justify_items": null,
            "grid_row": null,
            "max_height": null,
            "align_content": null,
            "visibility": null,
            "align_self": null,
            "height": null,
            "min_height": null,
            "padding": null,
            "grid_auto_rows": null,
            "grid_gap": null,
            "max_width": null,
            "order": null,
            "_view_module_version": "1.2.0",
            "grid_template_areas": null,
            "object_position": null,
            "object_fit": null,
            "grid_auto_columns": null,
            "margin": null,
            "display": null,
            "left": null
          }
        },
        "10c71bff338c455aaf495d4635c5ae9f": {
          "model_module": "@jupyter-widgets/controls",
          "model_name": "FloatProgressModel",
          "state": {
            "_view_name": "ProgressView",
            "style": "IPY_MODEL_eb6e2910518a4bffa467c24dabf58302",
            "_dom_classes": [],
            "description": "",
            "_model_name": "FloatProgressModel",
            "bar_style": "success",
            "max": 28881,
            "_view_module": "@jupyter-widgets/controls",
            "_model_module_version": "1.5.0",
            "value": 28881,
            "_view_count": null,
            "_view_module_version": "1.5.0",
            "orientation": "horizontal",
            "min": 0,
            "description_tooltip": null,
            "_model_module": "@jupyter-widgets/controls",
            "layout": "IPY_MODEL_62fccc55ff314e71942fc79d18d386d6"
          }
        },
        "42cc7f28e98c47c5adbd05d3eaf7abd6": {
          "model_module": "@jupyter-widgets/controls",
          "model_name": "HTMLModel",
          "state": {
            "_view_name": "HTMLView",
            "style": "IPY_MODEL_dd33e8c744244b749e6985a790596503",
            "_dom_classes": [],
            "description": "",
            "_model_name": "HTMLModel",
            "placeholder": "​",
            "_view_module": "@jupyter-widgets/controls",
            "_model_module_version": "1.5.0",
            "value": " 29696/? [00:02&lt;00:00, 11592.42it/s]",
            "_view_count": null,
            "_view_module_version": "1.5.0",
            "description_tooltip": null,
            "_model_module": "@jupyter-widgets/controls",
            "layout": "IPY_MODEL_e01645c5255b463d89169383a8fc6483"
          }
        },
        "eb6e2910518a4bffa467c24dabf58302": {
          "model_module": "@jupyter-widgets/controls",
          "model_name": "ProgressStyleModel",
          "state": {
            "_view_name": "StyleView",
            "_model_name": "ProgressStyleModel",
            "description_width": "initial",
            "_view_module": "@jupyter-widgets/base",
            "_model_module_version": "1.5.0",
            "_view_count": null,
            "_view_module_version": "1.2.0",
            "bar_color": null,
            "_model_module": "@jupyter-widgets/controls"
          }
        },
        "62fccc55ff314e71942fc79d18d386d6": {
          "model_module": "@jupyter-widgets/base",
          "model_name": "LayoutModel",
          "state": {
            "_view_name": "LayoutView",
            "grid_template_rows": null,
            "right": null,
            "justify_content": null,
            "_view_module": "@jupyter-widgets/base",
            "overflow": null,
            "_model_module_version": "1.2.0",
            "_view_count": null,
            "flex_flow": null,
            "width": null,
            "min_width": null,
            "border": null,
            "align_items": null,
            "bottom": null,
            "_model_module": "@jupyter-widgets/base",
            "top": null,
            "grid_column": null,
            "overflow_y": null,
            "overflow_x": null,
            "grid_auto_flow": null,
            "grid_area": null,
            "grid_template_columns": null,
            "flex": null,
            "_model_name": "LayoutModel",
            "justify_items": null,
            "grid_row": null,
            "max_height": null,
            "align_content": null,
            "visibility": null,
            "align_self": null,
            "height": null,
            "min_height": null,
            "padding": null,
            "grid_auto_rows": null,
            "grid_gap": null,
            "max_width": null,
            "order": null,
            "_view_module_version": "1.2.0",
            "grid_template_areas": null,
            "object_position": null,
            "object_fit": null,
            "grid_auto_columns": null,
            "margin": null,
            "display": null,
            "left": null
          }
        },
        "dd33e8c744244b749e6985a790596503": {
          "model_module": "@jupyter-widgets/controls",
          "model_name": "DescriptionStyleModel",
          "state": {
            "_view_name": "StyleView",
            "_model_name": "DescriptionStyleModel",
            "description_width": "",
            "_view_module": "@jupyter-widgets/base",
            "_model_module_version": "1.5.0",
            "_view_count": null,
            "_view_module_version": "1.2.0",
            "_model_module": "@jupyter-widgets/controls"
          }
        },
        "e01645c5255b463d89169383a8fc6483": {
          "model_module": "@jupyter-widgets/base",
          "model_name": "LayoutModel",
          "state": {
            "_view_name": "LayoutView",
            "grid_template_rows": null,
            "right": null,
            "justify_content": null,
            "_view_module": "@jupyter-widgets/base",
            "overflow": null,
            "_model_module_version": "1.2.0",
            "_view_count": null,
            "flex_flow": null,
            "width": null,
            "min_width": null,
            "border": null,
            "align_items": null,
            "bottom": null,
            "_model_module": "@jupyter-widgets/base",
            "top": null,
            "grid_column": null,
            "overflow_y": null,
            "overflow_x": null,
            "grid_auto_flow": null,
            "grid_area": null,
            "grid_template_columns": null,
            "flex": null,
            "_model_name": "LayoutModel",
            "justify_items": null,
            "grid_row": null,
            "max_height": null,
            "align_content": null,
            "visibility": null,
            "align_self": null,
            "height": null,
            "min_height": null,
            "padding": null,
            "grid_auto_rows": null,
            "grid_gap": null,
            "max_width": null,
            "order": null,
            "_view_module_version": "1.2.0",
            "grid_template_areas": null,
            "object_position": null,
            "object_fit": null,
            "grid_auto_columns": null,
            "margin": null,
            "display": null,
            "left": null
          }
        },
        "357773a9cfcc407a83e5170c770b541b": {
          "model_module": "@jupyter-widgets/controls",
          "model_name": "HBoxModel",
          "state": {
            "_view_name": "HBoxView",
            "_dom_classes": [],
            "_model_name": "HBoxModel",
            "_view_module": "@jupyter-widgets/controls",
            "_model_module_version": "1.5.0",
            "_view_count": null,
            "_view_module_version": "1.5.0",
            "box_style": "",
            "layout": "IPY_MODEL_ef885e571f164f2898967ecfa88fc588",
            "_model_module": "@jupyter-widgets/controls",
            "children": [
              "IPY_MODEL_78d88795cc2a44c991be91f07696a5c8",
              "IPY_MODEL_19fcc17feac14d48b7efaa3d202962b6"
            ]
          }
        },
        "ef885e571f164f2898967ecfa88fc588": {
          "model_module": "@jupyter-widgets/base",
          "model_name": "LayoutModel",
          "state": {
            "_view_name": "LayoutView",
            "grid_template_rows": null,
            "right": null,
            "justify_content": null,
            "_view_module": "@jupyter-widgets/base",
            "overflow": null,
            "_model_module_version": "1.2.0",
            "_view_count": null,
            "flex_flow": null,
            "width": null,
            "min_width": null,
            "border": null,
            "align_items": null,
            "bottom": null,
            "_model_module": "@jupyter-widgets/base",
            "top": null,
            "grid_column": null,
            "overflow_y": null,
            "overflow_x": null,
            "grid_auto_flow": null,
            "grid_area": null,
            "grid_template_columns": null,
            "flex": null,
            "_model_name": "LayoutModel",
            "justify_items": null,
            "grid_row": null,
            "max_height": null,
            "align_content": null,
            "visibility": null,
            "align_self": null,
            "height": null,
            "min_height": null,
            "padding": null,
            "grid_auto_rows": null,
            "grid_gap": null,
            "max_width": null,
            "order": null,
            "_view_module_version": "1.2.0",
            "grid_template_areas": null,
            "object_position": null,
            "object_fit": null,
            "grid_auto_columns": null,
            "margin": null,
            "display": null,
            "left": null
          }
        },
        "78d88795cc2a44c991be91f07696a5c8": {
          "model_module": "@jupyter-widgets/controls",
          "model_name": "FloatProgressModel",
          "state": {
            "_view_name": "ProgressView",
            "style": "IPY_MODEL_1a09460d678b4f3cbcb6965b78c7ad75",
            "_dom_classes": [],
            "description": "",
            "_model_name": "FloatProgressModel",
            "bar_style": "success",
            "max": 1648877,
            "_view_module": "@jupyter-widgets/controls",
            "_model_module_version": "1.5.0",
            "value": 1648877,
            "_view_count": null,
            "_view_module_version": "1.5.0",
            "orientation": "horizontal",
            "min": 0,
            "description_tooltip": null,
            "_model_module": "@jupyter-widgets/controls",
            "layout": "IPY_MODEL_a01595a7c23c44c9a4d4875224775d42"
          }
        },
        "19fcc17feac14d48b7efaa3d202962b6": {
          "model_module": "@jupyter-widgets/controls",
          "model_name": "HTMLModel",
          "state": {
            "_view_name": "HTMLView",
            "style": "IPY_MODEL_65b6b7ffbf2946d590a646f2d794a7cd",
            "_dom_classes": [],
            "description": "",
            "_model_name": "HTMLModel",
            "placeholder": "​",
            "_view_module": "@jupyter-widgets/controls",
            "_model_module_version": "1.5.0",
            "value": " 1649664/? [00:01&lt;00:00, 1040483.96it/s]",
            "_view_count": null,
            "_view_module_version": "1.5.0",
            "description_tooltip": null,
            "_model_module": "@jupyter-widgets/controls",
            "layout": "IPY_MODEL_22fa30e80ef84837bb348fc57a45815c"
          }
        },
        "1a09460d678b4f3cbcb6965b78c7ad75": {
          "model_module": "@jupyter-widgets/controls",
          "model_name": "ProgressStyleModel",
          "state": {
            "_view_name": "StyleView",
            "_model_name": "ProgressStyleModel",
            "description_width": "initial",
            "_view_module": "@jupyter-widgets/base",
            "_model_module_version": "1.5.0",
            "_view_count": null,
            "_view_module_version": "1.2.0",
            "bar_color": null,
            "_model_module": "@jupyter-widgets/controls"
          }
        },
        "a01595a7c23c44c9a4d4875224775d42": {
          "model_module": "@jupyter-widgets/base",
          "model_name": "LayoutModel",
          "state": {
            "_view_name": "LayoutView",
            "grid_template_rows": null,
            "right": null,
            "justify_content": null,
            "_view_module": "@jupyter-widgets/base",
            "overflow": null,
            "_model_module_version": "1.2.0",
            "_view_count": null,
            "flex_flow": null,
            "width": null,
            "min_width": null,
            "border": null,
            "align_items": null,
            "bottom": null,
            "_model_module": "@jupyter-widgets/base",
            "top": null,
            "grid_column": null,
            "overflow_y": null,
            "overflow_x": null,
            "grid_auto_flow": null,
            "grid_area": null,
            "grid_template_columns": null,
            "flex": null,
            "_model_name": "LayoutModel",
            "justify_items": null,
            "grid_row": null,
            "max_height": null,
            "align_content": null,
            "visibility": null,
            "align_self": null,
            "height": null,
            "min_height": null,
            "padding": null,
            "grid_auto_rows": null,
            "grid_gap": null,
            "max_width": null,
            "order": null,
            "_view_module_version": "1.2.0",
            "grid_template_areas": null,
            "object_position": null,
            "object_fit": null,
            "grid_auto_columns": null,
            "margin": null,
            "display": null,
            "left": null
          }
        },
        "65b6b7ffbf2946d590a646f2d794a7cd": {
          "model_module": "@jupyter-widgets/controls",
          "model_name": "DescriptionStyleModel",
          "state": {
            "_view_name": "StyleView",
            "_model_name": "DescriptionStyleModel",
            "description_width": "",
            "_view_module": "@jupyter-widgets/base",
            "_model_module_version": "1.5.0",
            "_view_count": null,
            "_view_module_version": "1.2.0",
            "_model_module": "@jupyter-widgets/controls"
          }
        },
        "22fa30e80ef84837bb348fc57a45815c": {
          "model_module": "@jupyter-widgets/base",
          "model_name": "LayoutModel",
          "state": {
            "_view_name": "LayoutView",
            "grid_template_rows": null,
            "right": null,
            "justify_content": null,
            "_view_module": "@jupyter-widgets/base",
            "overflow": null,
            "_model_module_version": "1.2.0",
            "_view_count": null,
            "flex_flow": null,
            "width": null,
            "min_width": null,
            "border": null,
            "align_items": null,
            "bottom": null,
            "_model_module": "@jupyter-widgets/base",
            "top": null,
            "grid_column": null,
            "overflow_y": null,
            "overflow_x": null,
            "grid_auto_flow": null,
            "grid_area": null,
            "grid_template_columns": null,
            "flex": null,
            "_model_name": "LayoutModel",
            "justify_items": null,
            "grid_row": null,
            "max_height": null,
            "align_content": null,
            "visibility": null,
            "align_self": null,
            "height": null,
            "min_height": null,
            "padding": null,
            "grid_auto_rows": null,
            "grid_gap": null,
            "max_width": null,
            "order": null,
            "_view_module_version": "1.2.0",
            "grid_template_areas": null,
            "object_position": null,
            "object_fit": null,
            "grid_auto_columns": null,
            "margin": null,
            "display": null,
            "left": null
          }
        },
        "ac3af64443e94686bce2d72f7cd6493b": {
          "model_module": "@jupyter-widgets/controls",
          "model_name": "HBoxModel",
          "state": {
            "_view_name": "HBoxView",
            "_dom_classes": [],
            "_model_name": "HBoxModel",
            "_view_module": "@jupyter-widgets/controls",
            "_model_module_version": "1.5.0",
            "_view_count": null,
            "_view_module_version": "1.5.0",
            "box_style": "",
            "layout": "IPY_MODEL_a941c457ca504037881b8e832cdfe0b7",
            "_model_module": "@jupyter-widgets/controls",
            "children": [
              "IPY_MODEL_596fe4757c8841809373d8040e560778",
              "IPY_MODEL_595e9e64e9a14e988823652d66bda48b"
            ]
          }
        },
        "a941c457ca504037881b8e832cdfe0b7": {
          "model_module": "@jupyter-widgets/base",
          "model_name": "LayoutModel",
          "state": {
            "_view_name": "LayoutView",
            "grid_template_rows": null,
            "right": null,
            "justify_content": null,
            "_view_module": "@jupyter-widgets/base",
            "overflow": null,
            "_model_module_version": "1.2.0",
            "_view_count": null,
            "flex_flow": null,
            "width": null,
            "min_width": null,
            "border": null,
            "align_items": null,
            "bottom": null,
            "_model_module": "@jupyter-widgets/base",
            "top": null,
            "grid_column": null,
            "overflow_y": null,
            "overflow_x": null,
            "grid_auto_flow": null,
            "grid_area": null,
            "grid_template_columns": null,
            "flex": null,
            "_model_name": "LayoutModel",
            "justify_items": null,
            "grid_row": null,
            "max_height": null,
            "align_content": null,
            "visibility": null,
            "align_self": null,
            "height": null,
            "min_height": null,
            "padding": null,
            "grid_auto_rows": null,
            "grid_gap": null,
            "max_width": null,
            "order": null,
            "_view_module_version": "1.2.0",
            "grid_template_areas": null,
            "object_position": null,
            "object_fit": null,
            "grid_auto_columns": null,
            "margin": null,
            "display": null,
            "left": null
          }
        },
        "596fe4757c8841809373d8040e560778": {
          "model_module": "@jupyter-widgets/controls",
          "model_name": "FloatProgressModel",
          "state": {
            "_view_name": "ProgressView",
            "style": "IPY_MODEL_8e58e9d317e44329bf60ae00dfe319f9",
            "_dom_classes": [],
            "description": "",
            "_model_name": "FloatProgressModel",
            "bar_style": "success",
            "max": 4542,
            "_view_module": "@jupyter-widgets/controls",
            "_model_module_version": "1.5.0",
            "value": 4542,
            "_view_count": null,
            "_view_module_version": "1.5.0",
            "orientation": "horizontal",
            "min": 0,
            "description_tooltip": null,
            "_model_module": "@jupyter-widgets/controls",
            "layout": "IPY_MODEL_22846274a13743f189dc1cbca569b627"
          }
        },
        "595e9e64e9a14e988823652d66bda48b": {
          "model_module": "@jupyter-widgets/controls",
          "model_name": "HTMLModel",
          "state": {
            "_view_name": "HTMLView",
            "style": "IPY_MODEL_067e11ae355943d9a910e575c0130379",
            "_dom_classes": [],
            "description": "",
            "_model_name": "HTMLModel",
            "placeholder": "​",
            "_view_module": "@jupyter-widgets/controls",
            "_model_module_version": "1.5.0",
            "value": " 5120/? [00:00&lt;00:00, 93664.92it/s]",
            "_view_count": null,
            "_view_module_version": "1.5.0",
            "description_tooltip": null,
            "_model_module": "@jupyter-widgets/controls",
            "layout": "IPY_MODEL_e4f597e327d14f4cb8192e1597b5fbbb"
          }
        },
        "8e58e9d317e44329bf60ae00dfe319f9": {
          "model_module": "@jupyter-widgets/controls",
          "model_name": "ProgressStyleModel",
          "state": {
            "_view_name": "StyleView",
            "_model_name": "ProgressStyleModel",
            "description_width": "initial",
            "_view_module": "@jupyter-widgets/base",
            "_model_module_version": "1.5.0",
            "_view_count": null,
            "_view_module_version": "1.2.0",
            "bar_color": null,
            "_model_module": "@jupyter-widgets/controls"
          }
        },
        "22846274a13743f189dc1cbca569b627": {
          "model_module": "@jupyter-widgets/base",
          "model_name": "LayoutModel",
          "state": {
            "_view_name": "LayoutView",
            "grid_template_rows": null,
            "right": null,
            "justify_content": null,
            "_view_module": "@jupyter-widgets/base",
            "overflow": null,
            "_model_module_version": "1.2.0",
            "_view_count": null,
            "flex_flow": null,
            "width": null,
            "min_width": null,
            "border": null,
            "align_items": null,
            "bottom": null,
            "_model_module": "@jupyter-widgets/base",
            "top": null,
            "grid_column": null,
            "overflow_y": null,
            "overflow_x": null,
            "grid_auto_flow": null,
            "grid_area": null,
            "grid_template_columns": null,
            "flex": null,
            "_model_name": "LayoutModel",
            "justify_items": null,
            "grid_row": null,
            "max_height": null,
            "align_content": null,
            "visibility": null,
            "align_self": null,
            "height": null,
            "min_height": null,
            "padding": null,
            "grid_auto_rows": null,
            "grid_gap": null,
            "max_width": null,
            "order": null,
            "_view_module_version": "1.2.0",
            "grid_template_areas": null,
            "object_position": null,
            "object_fit": null,
            "grid_auto_columns": null,
            "margin": null,
            "display": null,
            "left": null
          }
        },
        "067e11ae355943d9a910e575c0130379": {
          "model_module": "@jupyter-widgets/controls",
          "model_name": "DescriptionStyleModel",
          "state": {
            "_view_name": "StyleView",
            "_model_name": "DescriptionStyleModel",
            "description_width": "",
            "_view_module": "@jupyter-widgets/base",
            "_model_module_version": "1.5.0",
            "_view_count": null,
            "_view_module_version": "1.2.0",
            "_model_module": "@jupyter-widgets/controls"
          }
        },
        "e4f597e327d14f4cb8192e1597b5fbbb": {
          "model_module": "@jupyter-widgets/base",
          "model_name": "LayoutModel",
          "state": {
            "_view_name": "LayoutView",
            "grid_template_rows": null,
            "right": null,
            "justify_content": null,
            "_view_module": "@jupyter-widgets/base",
            "overflow": null,
            "_model_module_version": "1.2.0",
            "_view_count": null,
            "flex_flow": null,
            "width": null,
            "min_width": null,
            "border": null,
            "align_items": null,
            "bottom": null,
            "_model_module": "@jupyter-widgets/base",
            "top": null,
            "grid_column": null,
            "overflow_y": null,
            "overflow_x": null,
            "grid_auto_flow": null,
            "grid_area": null,
            "grid_template_columns": null,
            "flex": null,
            "_model_name": "LayoutModel",
            "justify_items": null,
            "grid_row": null,
            "max_height": null,
            "align_content": null,
            "visibility": null,
            "align_self": null,
            "height": null,
            "min_height": null,
            "padding": null,
            "grid_auto_rows": null,
            "grid_gap": null,
            "max_width": null,
            "order": null,
            "_view_module_version": "1.2.0",
            "grid_template_areas": null,
            "object_position": null,
            "object_fit": null,
            "grid_auto_columns": null,
            "margin": null,
            "display": null,
            "left": null
          }
        }
      }
    }
  },
  "cells": [
    {
      "cell_type": "markdown",
      "metadata": {
        "id": "gon7nu1Z5ALp"
      },
      "source": [
        "# **Important Liberary**\n",
        " Run this cell First"
      ]
    },
    {
      "cell_type": "code",
      "metadata": {
        "id": "Xb96l_CY5EhM"
      },
      "source": [
        ""
      ],
      "execution_count": 1,
      "outputs": []
    },
    {
      "cell_type": "code",
      "metadata": {
        "colab": {
          "base_uri": "https://localhost:8080/"
        },
        "id": "BNBLE5mF88Wo",
        "outputId": "e141464e-00c0-4562-b0ab-2e368326bb0c"
      },
      "source": [
        "!pip install wandb"
      ],
      "execution_count": null,
      "outputs": [
        {
          "output_type": "stream",
          "text": [
            "Collecting wandb\n",
            "\u001b[?25l  Downloading https://files.pythonhosted.org/packages/98/5f/45439b4767334b868e1c8c35b1b0ba3747d8c21be77b79f09eed7aa3c72b/wandb-0.10.30-py2.py3-none-any.whl (1.8MB)\n",
            "\u001b[K     |████████████████████████████████| 1.8MB 7.2MB/s \n",
            "\u001b[?25hCollecting docker-pycreds>=0.4.0\n",
            "  Downloading https://files.pythonhosted.org/packages/f5/e8/f6bd1eee09314e7e6dee49cbe2c5e22314ccdb38db16c9fc72d2fa80d054/docker_pycreds-0.4.0-py2.py3-none-any.whl\n",
            "Requirement already satisfied: python-dateutil>=2.6.1 in /usr/local/lib/python3.7/dist-packages (from wandb) (2.8.1)\n",
            "Collecting sentry-sdk>=0.4.0\n",
            "\u001b[?25l  Downloading https://files.pythonhosted.org/packages/1c/4a/a54b254f67d8f4052338d54ebe90126f200693440a93ef76d254d581e3ec/sentry_sdk-1.1.0-py2.py3-none-any.whl (131kB)\n",
            "\u001b[K     |████████████████████████████████| 133kB 34.4MB/s \n",
            "\u001b[?25hCollecting configparser>=3.8.1\n",
            "  Downloading https://files.pythonhosted.org/packages/fd/01/ff260a18caaf4457eb028c96eeb405c4a230ca06c8ec9c1379f813caa52e/configparser-5.0.2-py3-none-any.whl\n",
            "Collecting shortuuid>=0.5.0\n",
            "  Downloading https://files.pythonhosted.org/packages/25/a6/2ecc1daa6a304e7f1b216f0896b26156b78e7c38e1211e9b798b4716c53d/shortuuid-1.0.1-py3-none-any.whl\n",
            "Requirement already satisfied: psutil>=5.0.0 in /usr/local/lib/python3.7/dist-packages (from wandb) (5.4.8)\n",
            "Requirement already satisfied: protobuf>=3.12.0 in /usr/local/lib/python3.7/dist-packages (from wandb) (3.12.4)\n",
            "Collecting subprocess32>=3.5.3\n",
            "\u001b[?25l  Downloading https://files.pythonhosted.org/packages/32/c8/564be4d12629b912ea431f1a50eb8b3b9d00f1a0b1ceff17f266be190007/subprocess32-3.5.4.tar.gz (97kB)\n",
            "\u001b[K     |████████████████████████████████| 102kB 12.8MB/s \n",
            "\u001b[?25hRequirement already satisfied: six>=1.13.0 in /usr/local/lib/python3.7/dist-packages (from wandb) (1.15.0)\n",
            "Requirement already satisfied: requests<3,>=2.0.0 in /usr/local/lib/python3.7/dist-packages (from wandb) (2.23.0)\n",
            "Requirement already satisfied: PyYAML in /usr/local/lib/python3.7/dist-packages (from wandb) (3.13)\n",
            "Collecting pathtools\n",
            "  Downloading https://files.pythonhosted.org/packages/e7/7f/470d6fcdf23f9f3518f6b0b76be9df16dcc8630ad409947f8be2eb0ed13a/pathtools-0.1.2.tar.gz\n",
            "Requirement already satisfied: promise<3,>=2.0 in /usr/local/lib/python3.7/dist-packages (from wandb) (2.3)\n",
            "Collecting GitPython>=1.0.0\n",
            "\u001b[?25l  Downloading https://files.pythonhosted.org/packages/27/da/6f6224fdfc47dab57881fe20c0d1bc3122be290198ba0bf26a953a045d92/GitPython-3.1.17-py3-none-any.whl (166kB)\n",
            "\u001b[K     |████████████████████████████████| 174kB 28.7MB/s \n",
            "\u001b[?25hRequirement already satisfied: Click>=7.0 in /usr/local/lib/python3.7/dist-packages (from wandb) (8.0.0)\n",
            "Requirement already satisfied: certifi in /usr/local/lib/python3.7/dist-packages (from sentry-sdk>=0.4.0->wandb) (2020.12.5)\n",
            "Requirement already satisfied: urllib3>=1.10.0 in /usr/local/lib/python3.7/dist-packages (from sentry-sdk>=0.4.0->wandb) (1.24.3)\n",
            "Requirement already satisfied: setuptools in /usr/local/lib/python3.7/dist-packages (from protobuf>=3.12.0->wandb) (56.1.0)\n",
            "Requirement already satisfied: chardet<4,>=3.0.2 in /usr/local/lib/python3.7/dist-packages (from requests<3,>=2.0.0->wandb) (3.0.4)\n",
            "Requirement already satisfied: idna<3,>=2.5 in /usr/local/lib/python3.7/dist-packages (from requests<3,>=2.0.0->wandb) (2.10)\n",
            "Requirement already satisfied: typing-extensions>=3.7.4.0; python_version < \"3.8\" in /usr/local/lib/python3.7/dist-packages (from GitPython>=1.0.0->wandb) (3.7.4.3)\n",
            "Collecting gitdb<5,>=4.0.1\n",
            "\u001b[?25l  Downloading https://files.pythonhosted.org/packages/ea/e8/f414d1a4f0bbc668ed441f74f44c116d9816833a48bf81d22b697090dba8/gitdb-4.0.7-py3-none-any.whl (63kB)\n",
            "\u001b[K     |████████████████████████████████| 71kB 10.1MB/s \n",
            "\u001b[?25hCollecting smmap<5,>=3.0.1\n",
            "  Downloading https://files.pythonhosted.org/packages/68/ee/d540eb5e5996eb81c26ceffac6ee49041d473bc5125f2aa995cf51ec1cf1/smmap-4.0.0-py2.py3-none-any.whl\n",
            "Building wheels for collected packages: subprocess32, pathtools\n",
            "  Building wheel for subprocess32 (setup.py) ... \u001b[?25l\u001b[?25hdone\n",
            "  Created wheel for subprocess32: filename=subprocess32-3.5.4-cp37-none-any.whl size=6489 sha256=c13707bf8a413e207ad7efab6e5ab5f198e9e6ea4917e746df24b110f0049426\n",
            "  Stored in directory: /root/.cache/pip/wheels/68/39/1a/5e402bdfdf004af1786c8b853fd92f8c4a04f22aad179654d1\n",
            "  Building wheel for pathtools (setup.py) ... \u001b[?25l\u001b[?25hdone\n",
            "  Created wheel for pathtools: filename=pathtools-0.1.2-cp37-none-any.whl size=8786 sha256=5d19f1f6327e672106c771aae069021274b2aaea89813ee5de4efc88cea422b7\n",
            "  Stored in directory: /root/.cache/pip/wheels/0b/04/79/c3b0c3a0266a3cb4376da31e5bfe8bba0c489246968a68e843\n",
            "Successfully built subprocess32 pathtools\n",
            "Installing collected packages: docker-pycreds, sentry-sdk, configparser, shortuuid, subprocess32, pathtools, smmap, gitdb, GitPython, wandb\n",
            "Successfully installed GitPython-3.1.17 configparser-5.0.2 docker-pycreds-0.4.0 gitdb-4.0.7 pathtools-0.1.2 sentry-sdk-1.1.0 shortuuid-1.0.1 smmap-4.0.0 subprocess32-3.5.4 wandb-0.10.30\n"
          ],
          "name": "stdout"
        }
      ]
    },
    {
      "cell_type": "code",
      "metadata": {
        "colab": {
          "base_uri": "https://localhost:8080/"
        },
        "id": "YjpfOsk99CTg",
        "outputId": "59d3f95e-065d-426e-ee76-ae7bee2c7c3b"
      },
      "source": [
        "!pip install optuna"
      ],
      "execution_count": null,
      "outputs": [
        {
          "output_type": "stream",
          "text": [
            "Collecting optuna\n",
            "\u001b[?25l  Downloading https://files.pythonhosted.org/packages/2b/21/d13081805e1e1afc71f5bb743ece324c8bd576237c51b899ecb38a717502/optuna-2.7.0-py3-none-any.whl (293kB)\n",
            "\u001b[K     |████████████████████████████████| 296kB 7.7MB/s \n",
            "\u001b[?25hCollecting alembic\n",
            "\u001b[?25l  Downloading https://files.pythonhosted.org/packages/ab/ff/375a0a81965a7ad4e23d1786de218e9bae050c4d3927cc9b2783aa045401/alembic-1.6.2.tar.gz (1.2MB)\n",
            "\u001b[K     |████████████████████████████████| 1.2MB 47.5MB/s \n",
            "\u001b[?25hRequirement already satisfied: tqdm in /usr/local/lib/python3.7/dist-packages (from optuna) (4.41.1)\n",
            "Collecting cmaes>=0.8.2\n",
            "  Downloading https://files.pythonhosted.org/packages/01/1f/43b01223a0366171f474320c6e966c39a11587287f098a5f09809b45e05f/cmaes-0.8.2-py3-none-any.whl\n",
            "Requirement already satisfied: packaging>=20.0 in /usr/local/lib/python3.7/dist-packages (from optuna) (20.9)\n",
            "Collecting colorlog\n",
            "  Downloading https://files.pythonhosted.org/packages/32/e6/e9ddc6fa1104fda718338b341e4b3dc31cd8039ab29e52fc73b508515361/colorlog-5.0.1-py2.py3-none-any.whl\n",
            "Requirement already satisfied: sqlalchemy>=1.1.0 in /usr/local/lib/python3.7/dist-packages (from optuna) (1.4.15)\n",
            "Requirement already satisfied: numpy in /usr/local/lib/python3.7/dist-packages (from optuna) (1.19.5)\n",
            "Collecting cliff\n",
            "\u001b[?25l  Downloading https://files.pythonhosted.org/packages/a2/d6/7d9acb68a77acd140be7fececb7f2701b2a29d2da9c54184cb8f93509590/cliff-3.7.0-py3-none-any.whl (80kB)\n",
            "\u001b[K     |████████████████████████████████| 81kB 10.6MB/s \n",
            "\u001b[?25hRequirement already satisfied: scipy!=1.4.0 in /usr/local/lib/python3.7/dist-packages (from optuna) (1.4.1)\n",
            "Collecting Mako\n",
            "\u001b[?25l  Downloading https://files.pythonhosted.org/packages/f3/54/dbc07fbb20865d3b78fdb7cf7fa713e2cba4f87f71100074ef2dc9f9d1f7/Mako-1.1.4-py2.py3-none-any.whl (75kB)\n",
            "\u001b[K     |████████████████████████████████| 81kB 10.6MB/s \n",
            "\u001b[?25hCollecting python-editor>=0.3\n",
            "  Downloading https://files.pythonhosted.org/packages/c6/d3/201fc3abe391bbae6606e6f1d598c15d367033332bd54352b12f35513717/python_editor-1.0.4-py3-none-any.whl\n",
            "Requirement already satisfied: python-dateutil in /usr/local/lib/python3.7/dist-packages (from alembic->optuna) (2.8.1)\n",
            "Requirement already satisfied: pyparsing>=2.0.2 in /usr/local/lib/python3.7/dist-packages (from packaging>=20.0->optuna) (2.4.7)\n",
            "Requirement already satisfied: importlib-metadata; python_version < \"3.8\" in /usr/local/lib/python3.7/dist-packages (from sqlalchemy>=1.1.0->optuna) (4.0.1)\n",
            "Requirement already satisfied: greenlet!=0.4.17; python_version >= \"3\" in /usr/local/lib/python3.7/dist-packages (from sqlalchemy>=1.1.0->optuna) (1.1.0)\n",
            "Collecting cmd2>=1.0.0\n",
            "\u001b[?25l  Downloading https://files.pythonhosted.org/packages/15/8b/15061b32332bb35ea2a2f6263d0f616779d576e82739ec8e7fcf3c94abf5/cmd2-1.5.0-py3-none-any.whl (133kB)\n",
            "\u001b[K     |████████████████████████████████| 143kB 51.2MB/s \n",
            "\u001b[?25hRequirement already satisfied: PyYAML>=3.12 in /usr/local/lib/python3.7/dist-packages (from cliff->optuna) (3.13)\n",
            "Requirement already satisfied: PrettyTable>=0.7.2 in /usr/local/lib/python3.7/dist-packages (from cliff->optuna) (2.1.0)\n",
            "Collecting pbr!=2.1.0,>=2.0.0\n",
            "\u001b[?25l  Downloading https://files.pythonhosted.org/packages/18/e0/1d4702dd81121d04a477c272d47ee5b6bc970d1a0990b11befa275c55cf2/pbr-5.6.0-py2.py3-none-any.whl (111kB)\n",
            "\u001b[K     |████████████████████████████████| 112kB 53.5MB/s \n",
            "\u001b[?25hCollecting stevedore>=2.0.1\n",
            "\u001b[?25l  Downloading https://files.pythonhosted.org/packages/d4/49/b602307aeac3df3384ff1fcd05da9c0376c622a6c48bb5325f28ab165b57/stevedore-3.3.0-py3-none-any.whl (49kB)\n",
            "\u001b[K     |████████████████████████████████| 51kB 5.8MB/s \n",
            "\u001b[?25hRequirement already satisfied: MarkupSafe>=0.9.2 in /usr/local/lib/python3.7/dist-packages (from Mako->alembic->optuna) (2.0.0)\n",
            "Requirement already satisfied: six>=1.5 in /usr/local/lib/python3.7/dist-packages (from python-dateutil->alembic->optuna) (1.15.0)\n",
            "Requirement already satisfied: zipp>=0.5 in /usr/local/lib/python3.7/dist-packages (from importlib-metadata; python_version < \"3.8\"->sqlalchemy>=1.1.0->optuna) (3.4.1)\n",
            "Requirement already satisfied: typing-extensions>=3.6.4; python_version < \"3.8\" in /usr/local/lib/python3.7/dist-packages (from importlib-metadata; python_version < \"3.8\"->sqlalchemy>=1.1.0->optuna) (3.7.4.3)\n",
            "Requirement already satisfied: wcwidth>=0.1.7 in /usr/local/lib/python3.7/dist-packages (from cmd2>=1.0.0->cliff->optuna) (0.2.5)\n",
            "Requirement already satisfied: attrs>=16.3.0 in /usr/local/lib/python3.7/dist-packages (from cmd2>=1.0.0->cliff->optuna) (21.2.0)\n",
            "Collecting colorama>=0.3.7\n",
            "  Downloading https://files.pythonhosted.org/packages/44/98/5b86278fbbf250d239ae0ecb724f8572af1c91f4a11edf4d36a206189440/colorama-0.4.4-py2.py3-none-any.whl\n",
            "Collecting pyperclip>=1.6\n",
            "  Downloading https://files.pythonhosted.org/packages/a7/2c/4c64579f847bd5d539803c8b909e54ba087a79d01bb3aba433a95879a6c5/pyperclip-1.8.2.tar.gz\n",
            "Building wheels for collected packages: alembic, pyperclip\n",
            "  Building wheel for alembic (setup.py) ... \u001b[?25l\u001b[?25hdone\n",
            "  Created wheel for alembic: filename=alembic-1.6.2-py2.py3-none-any.whl size=164219 sha256=02288215b9f9f6da07a6a19d06fcd9dafc2bb78d011ac938cfe6806c3c247b61\n",
            "  Stored in directory: /root/.cache/pip/wheels/a5/63/44/db29401e49ef5331c163b591f12a465c40af864bfa888dabd2\n",
            "  Building wheel for pyperclip (setup.py) ... \u001b[?25l\u001b[?25hdone\n",
            "  Created wheel for pyperclip: filename=pyperclip-1.8.2-cp37-none-any.whl size=11107 sha256=8bf14166438505c639ea0b0a862adda1ac0f11e0c419bd4c07b752cfd9be9c08\n",
            "  Stored in directory: /root/.cache/pip/wheels/25/af/b8/3407109267803f4015e1ee2ff23be0c8c19ce4008665931ee1\n",
            "Successfully built alembic pyperclip\n",
            "Installing collected packages: Mako, python-editor, alembic, cmaes, colorlog, colorama, pyperclip, cmd2, pbr, stevedore, cliff, optuna\n",
            "Successfully installed Mako-1.1.4 alembic-1.6.2 cliff-3.7.0 cmaes-0.8.2 cmd2-1.5.0 colorama-0.4.4 colorlog-5.0.1 optuna-2.7.0 pbr-5.6.0 pyperclip-1.8.2 python-editor-1.0.4 stevedore-3.3.0\n"
          ],
          "name": "stdout"
        }
      ]
    },
    {
      "cell_type": "code",
      "metadata": {
        "colab": {
          "base_uri": "https://localhost:8080/"
        },
        "id": "tFuabEjI9MqX",
        "outputId": "610d7e83-6223-40f4-c53f-a695db327ac0"
      },
      "source": [
        "!pip install tqdm\n",
        "!pip install vit_pytorch"
      ],
      "execution_count": null,
      "outputs": [
        {
          "output_type": "stream",
          "text": [
            "Requirement already satisfied: tqdm in /usr/local/lib/python3.7/dist-packages (4.41.1)\n",
            "Collecting vit_pytorch\n",
            "  Downloading https://files.pythonhosted.org/packages/a1/5b/29cfe1b97d86094b70ab3c3812a0ad87e19c6e20cf3cb9b5aec82000e7ea/vit_pytorch-0.18.3-py3-none-any.whl\n",
            "Collecting einops>=0.3\n",
            "  Downloading https://files.pythonhosted.org/packages/5d/a0/9935e030634bf60ecd572c775f64ace82ceddf2f504a5fd3902438f07090/einops-0.3.0-py2.py3-none-any.whl\n",
            "Requirement already satisfied: torch>=1.6 in /usr/local/lib/python3.7/dist-packages (from vit_pytorch) (1.8.1+cu101)\n",
            "Requirement already satisfied: torchvision in /usr/local/lib/python3.7/dist-packages (from vit_pytorch) (0.9.1+cu101)\n",
            "Requirement already satisfied: numpy in /usr/local/lib/python3.7/dist-packages (from torch>=1.6->vit_pytorch) (1.19.5)\n",
            "Requirement already satisfied: typing-extensions in /usr/local/lib/python3.7/dist-packages (from torch>=1.6->vit_pytorch) (3.7.4.3)\n",
            "Requirement already satisfied: pillow>=4.1.1 in /usr/local/lib/python3.7/dist-packages (from torchvision->vit_pytorch) (7.1.2)\n",
            "Installing collected packages: einops, vit-pytorch\n",
            "Successfully installed einops-0.3.0 vit-pytorch-0.18.3\n"
          ],
          "name": "stdout"
        }
      ]
    },
    {
      "cell_type": "code",
      "metadata": {
        "id": "tipecIdV84wK"
      },
      "source": [
        "from __future__ import print_function\n",
        "import argparse\n",
        "import os\n",
        "os.environ['CUDA_VISIBLE_DEVICES'] = '2'\n",
        "import torch\n",
        "import torch.nn as nn\n",
        "import torch.nn.functional as F\n",
        "import torch.optim as optim\n",
        "from torchvision import datasets, transforms\n",
        "from torch.optim.lr_scheduler import StepLR\n",
        "import wandb\n",
        "import optuna\n",
        "from tqdm import tqdm\n",
        "from vit_pytorch import ViT"
      ],
      "execution_count": null,
      "outputs": []
    },
    {
      "cell_type": "code",
      "metadata": {
        "colab": {
          "base_uri": "https://localhost:8080/"
        },
        "id": "oTs5W9ILAxjA",
        "outputId": "71b40a73-1b89-4050-b6bf-c49e0b2de789"
      },
      "source": [
        "# 0. Clone, install & configure some software\n",
        "\n",
        "! git clone https://github.com/asyml/vision-transformer-pytorch\n",
        "! pip install dotmap\n",
        "\n",
        "import sys\n",
        "sys.path.append(\"vision-transformer-pytorch\")\n",
        "sys.path.append(\"vision-transformer-pytorch/src\")"
      ],
      "execution_count": 2,
      "outputs": [
        {
          "output_type": "stream",
          "text": [
            "Cloning into 'vision-transformer-pytorch'...\n",
            "remote: Enumerating objects: 154, done.\u001b[K\n",
            "remote: Counting objects: 100% (154/154), done.\u001b[K\n",
            "remote: Compressing objects: 100% (115/115), done.\u001b[K\n",
            "remote: Total 154 (delta 71), reused 115 (delta 32), pack-reused 0\u001b[K\n",
            "Receiving objects: 100% (154/154), 185.68 KiB | 5.46 MiB/s, done.\n",
            "Resolving deltas: 100% (71/71), done.\n",
            "Collecting dotmap\n",
            "  Downloading https://files.pythonhosted.org/packages/17/6f/c94adbb0e6d418ededbf1082a3067f178fb012573b960d446e5655e6fbe1/dotmap-1.3.23-py3-none-any.whl\n",
            "Installing collected packages: dotmap\n",
            "Successfully installed dotmap-1.3.23\n"
          ],
          "name": "stdout"
        }
      ]
    },
    {
      "cell_type": "code",
      "metadata": {
        "id": "eKk0AODYAxjB"
      },
      "source": [
        "# 1. Generic imports\n",
        "\n",
        "import torch\n",
        "import torchvision\n",
        "import torchvision.transforms as transforms\n",
        "import matplotlib.pyplot as plt\n",
        "import numpy as np\n",
        "import torch.nn as nn\n",
        "import torch.nn.functional as F\n",
        "import torch.optim as optim\n",
        "\n",
        "## Torch requires specifying where computation happens\n",
        "import torch.nn as nn\n",
        "if torch.cuda.is_available():\n",
        "  device = \"cuda\"\n",
        "else:\n",
        "  device = \"cpu\"\n",
        "\n",
        "import os\n",
        "import torch\n",
        "import gc; \n",
        "import torch.nn as nn\n",
        "import numpy as np\n",
        "\n",
        "from dotmap import DotMap"
      ],
      "execution_count": 3,
      "outputs": []
    },
    {
      "cell_type": "code",
      "metadata": {
        "id": "XL5JUa4bWp4x"
      },
      "source": [
        "# 2. Imports from Vision Transformer repository\n",
        "\n",
        "from utils import setup_device, accuracy, MetricTracker, TensorboardWriter\n",
        "from src.model import VisionTransformer\n",
        "from src.config import get_b16_config, get_train_config\n",
        "from src.checkpoint import load_checkpoint\n",
        "from src.data_loaders import *"
      ],
      "execution_count": 4,
      "outputs": []
    },
    {
      "cell_type": "code",
      "metadata": {
        "colab": {
          "base_uri": "https://localhost:8080/"
        },
        "id": "bdm_h0Zl8VPl",
        "outputId": "4223dcbe-0f1a-441f-f6cf-dea7c5f7da0c"
      },
      "source": [
        "import tensorflow as tf\n",
        "tf.random.set_seed(42)\n",
        "print(tf.__version__)"
      ],
      "execution_count": 5,
      "outputs": [
        {
          "output_type": "stream",
          "text": [
            "2.4.1\n"
          ],
          "name": "stdout"
        }
      ]
    },
    {
      "cell_type": "code",
      "metadata": {
        "colab": {
          "base_uri": "https://localhost:8080/",
          "height": 35
        },
        "id": "t4qUf7rt5w5w",
        "outputId": "e7283ca4-4c43-4589-d03b-db1d0c6fa41c"
      },
      "source": [
        "if torch.cuda.is_available():\n",
        "  device = \"cuda\"\n",
        "else:\n",
        "  device = \"cpu\"\n",
        "device"
      ],
      "execution_count": 6,
      "outputs": [
        {
          "output_type": "execute_result",
          "data": {
            "application/vnd.google.colaboratory.intrinsic+json": {
              "type": "string"
            },
            "text/plain": [
              "'cpu'"
            ]
          },
          "metadata": {
            "tags": []
          },
          "execution_count": 6
        }
      ]
    },
    {
      "cell_type": "code",
      "metadata": {
        "id": "S6t_YORp5rn8"
      },
      "source": [
        "# 2. Imports from Vision Transformer repository\n",
        "\n",
        "from utils import setup_device, accuracy, MetricTracker, TensorboardWriter\n",
        "from src.model import VisionTransformer\n",
        "from src.config import get_b16_config, get_train_config\n",
        "from src.checkpoint import load_checkpoint\n",
        "from src.data_loaders import *\n",
        "import numpy as np\n",
        "import torch\n",
        "import torchvision\n",
        "import matplotlib.pyplot as plt\n",
        "from time import time\n",
        "from torchvision import datasets, transforms\n",
        "from torch import nn, optim"
      ],
      "execution_count": 7,
      "outputs": []
    },
    {
      "cell_type": "code",
      "metadata": {
        "id": "My28XKTn8lTo",
        "colab": {
          "base_uri": "https://localhost:8080/",
          "height": 367
        },
        "outputId": "bafacda9-fabe-433b-eb49-bfbde57d9014"
      },
      "source": [
        "from tensorflow import keras\n",
        "from tensorflow.keras import layers\n",
        "#import tensorflow_addons as tfa\n",
        "\n",
        "import numpy as np\n",
        "np.random.seed(42)"
      ],
      "execution_count": 8,
      "outputs": [
        {
          "output_type": "error",
          "ename": "ModuleNotFoundError",
          "evalue": "ignored",
          "traceback": [
            "\u001b[0;31m---------------------------------------------------------------------------\u001b[0m",
            "\u001b[0;31mModuleNotFoundError\u001b[0m                       Traceback (most recent call last)",
            "\u001b[0;32m<ipython-input-8-c772ed094277>\u001b[0m in \u001b[0;36m<module>\u001b[0;34m()\u001b[0m\n\u001b[1;32m      1\u001b[0m \u001b[0;32mfrom\u001b[0m \u001b[0mtensorflow\u001b[0m \u001b[0;32mimport\u001b[0m \u001b[0mkeras\u001b[0m\u001b[0;34m\u001b[0m\u001b[0;34m\u001b[0m\u001b[0m\n\u001b[1;32m      2\u001b[0m \u001b[0;32mfrom\u001b[0m \u001b[0mtensorflow\u001b[0m\u001b[0;34m.\u001b[0m\u001b[0mkeras\u001b[0m \u001b[0;32mimport\u001b[0m \u001b[0mlayers\u001b[0m\u001b[0;34m\u001b[0m\u001b[0;34m\u001b[0m\u001b[0m\n\u001b[0;32m----> 3\u001b[0;31m \u001b[0;32mimport\u001b[0m \u001b[0mtensorflow_addons\u001b[0m \u001b[0;32mas\u001b[0m \u001b[0mtfa\u001b[0m\u001b[0;34m\u001b[0m\u001b[0;34m\u001b[0m\u001b[0m\n\u001b[0m\u001b[1;32m      4\u001b[0m \u001b[0;34m\u001b[0m\u001b[0m\n\u001b[1;32m      5\u001b[0m \u001b[0;32mimport\u001b[0m \u001b[0mnumpy\u001b[0m \u001b[0;32mas\u001b[0m \u001b[0mnp\u001b[0m\u001b[0;34m\u001b[0m\u001b[0;34m\u001b[0m\u001b[0m\n",
            "\u001b[0;31mModuleNotFoundError\u001b[0m: No module named 'tensorflow_addons'",
            "",
            "\u001b[0;31m---------------------------------------------------------------------------\u001b[0;32m\nNOTE: If your import is failing due to a missing package, you can\nmanually install dependencies using either !pip or !apt.\n\nTo view examples of installing some common dependencies, click the\n\"Open Examples\" button below.\n\u001b[0;31m---------------------------------------------------------------------------\u001b[0m\n"
          ]
        }
      ]
    },
    {
      "cell_type": "markdown",
      "metadata": {
        "id": "LJ7Sv2F4OpZ0"
      },
      "source": [
        "#**Implementing ViT on Dataset Used in Paper**\n",
        " * Dataset : CIFAR100\n"
      ]
    },
    {
      "cell_type": "markdown",
      "metadata": {
        "id": "_-5uXesrbM0Y"
      },
      "source": [
        "## Simple Covolutional Neural Network Implementation\n",
        "This is not part of papaer implementation. I have trained a simple traditional convolutional neural network just for comparison purpose. \n"
      ]
    },
    {
      "cell_type": "code",
      "metadata": {
        "id": "mRN0fjrSA2RR"
      },
      "source": [
        ""
      ],
      "execution_count": 8,
      "outputs": []
    },
    {
      "cell_type": "code",
      "metadata": {
        "id": "zooshMkRAOeX",
        "colab": {
          "base_uri": "https://localhost:8080/",
          "height": 117,
          "referenced_widgets": [
            "156cc9707ca448a98c5b120edb3da3eb",
            "42af93bc1da541159c255c44528ea3e6",
            "d962345fa86341b1b2a6b51fa0a157a3",
            "e4fdd40370534f409cceac8dd20cc808",
            "3b3fb1f9141b4839a40c28a7d4d161d9",
            "acd266b84f13446c9b8522377700634a",
            "59e3f4fd883d4df48f2bee8d7be31fc6",
            "8b90f8d0b8154f85ba01bc10bd36130c"
          ]
        },
        "outputId": "36a6de35-de49-4660-e1c7-6092325dc896"
      },
      "source": [
        "# 1. Visualize dataset\n",
        "\n",
        "transform = transforms.Compose(\n",
        "    [transforms.ToTensor(),\n",
        "     transforms.Normalize((0.5, 0.5, 0.5), (0.5, 0.5, 0.5))])\n",
        "\n",
        "trainset = torchvision.datasets.CIFAR10(root='./data', train=True,\n",
        "                                        download=True, transform=transform)\n",
        "trainloader = torch.utils.data.DataLoader(trainset, batch_size=4,\n",
        "                                          shuffle=True, num_workers=2)\n",
        "\n",
        "testset = torchvision.datasets.CIFAR10(root='./data', train=False,\n",
        "                                       download=True, transform=transform)\n",
        "testloader = torch.utils.data.DataLoader(testset, batch_size=4,\n",
        "                                         shuffle=False, num_workers=2)\n",
        "\n",
        "classes = ('plane', 'car', 'bird', 'cat',\n",
        "           'deer', 'dog', 'frog', 'horse', 'ship', 'truck')\n",
        "\n",
        "# get some random training images\n",
        "dataiter = iter(trainloader)\n",
        "images, labels = dataiter.next()\n",
        "\n",
        "## WRITEME Show first 4 images and their labels. ##"
      ],
      "execution_count": 9,
      "outputs": [
        {
          "output_type": "stream",
          "text": [
            "Downloading https://www.cs.toronto.edu/~kriz/cifar-10-python.tar.gz to ./data/cifar-10-python.tar.gz\n"
          ],
          "name": "stdout"
        },
        {
          "output_type": "display_data",
          "data": {
            "application/vnd.jupyter.widget-view+json": {
              "model_id": "156cc9707ca448a98c5b120edb3da3eb",
              "version_minor": 0,
              "version_major": 2
            },
            "text/plain": [
              "HBox(children=(FloatProgress(value=0.0, max=170498071.0), HTML(value='')))"
            ]
          },
          "metadata": {
            "tags": []
          }
        },
        {
          "output_type": "stream",
          "text": [
            "\n",
            "Extracting ./data/cifar-10-python.tar.gz to ./data\n",
            "Files already downloaded and verified\n"
          ],
          "name": "stdout"
        }
      ]
    },
    {
      "cell_type": "code",
      "metadata": {
        "id": "CdNA8Ff06AI8",
        "colab": {
          "base_uri": "https://localhost:8080/"
        },
        "outputId": "2359e7af-d00d-4677-f303-fb97def78664"
      },
      "source": [
        "# 2. Define the model\n",
        "\n",
        "class Net(nn.Module):\n",
        "    def __init__(self):\n",
        "        super(Net, self).__init__()\n",
        "        self.conv1 = nn.Conv2d(3, 6, 5)\n",
        "        self.pool = nn.MaxPool2d(2, 2)\n",
        "        self.conv2 = nn.Conv2d(6, 16, 5)\n",
        "        self.fc1 = nn.Linear(16 * 5 * 5, 120)\n",
        "        self.fc2 = nn.Linear(120, 84)\n",
        "        self.fc3 =nn.Linear(84, 10)\n",
        "\n",
        "    def forward(self, x):\n",
        "        x = self.pool(F.relu(self.conv1(x)))\n",
        "        x = self.pool(F.relu(self.conv2(x)))\n",
        "        x = x.view(-1, 16 * 5 * 5)\n",
        "        x = F.relu(self.fc1(x))\n",
        "        x = F.relu(self.fc2(x))\n",
        "        x = self.fc3(x)\n",
        "        return x\n",
        "\n",
        "net = Net()\n",
        "#assert output.shape[-1] == 10\n",
        "print(\"Congratulations!\")"
      ],
      "execution_count": 10,
      "outputs": [
        {
          "output_type": "stream",
          "text": [
            "Congratulations!\n"
          ],
          "name": "stdout"
        }
      ]
    },
    {
      "cell_type": "code",
      "metadata": {
        "colab": {
          "base_uri": "https://localhost:8080/",
          "height": 35
        },
        "id": "oFF0IdmVzEWM",
        "outputId": "b994adce-8bc6-4345-e388-18696ec88b45"
      },
      "source": [
        "device"
      ],
      "execution_count": 11,
      "outputs": [
        {
          "output_type": "execute_result",
          "data": {
            "application/vnd.google.colaboratory.intrinsic+json": {
              "type": "string"
            },
            "text/plain": [
              "'cpu'"
            ]
          },
          "metadata": {
            "tags": []
          },
          "execution_count": 11
        }
      ]
    },
    {
      "cell_type": "code",
      "metadata": {
        "id": "VnXFaibj_Yur",
        "colab": {
          "base_uri": "https://localhost:8080/"
        },
        "outputId": "22bfa3a9-2369-4215-d70d-a6049c341b17"
      },
      "source": [
        "# 3. Train the network\n",
        "\n",
        "criterion = nn.CrossEntropyLoss()\n",
        "optimizer = optim.SGD(net.parameters(), lr=0.001, momentum=0.9)\n",
        "\n",
        "for epoch in range(5):  # loop over the dataset multiple times\n",
        "    running_loss = 0.0\n",
        "    for i, data in enumerate(trainloader, 0):\n",
        "        # get the inputs; data is a list of [inputs, labels]\n",
        "        inputs, labels = data\n",
        "\n",
        "\n",
        "        # Training pass\n",
        "        optimizer.zero_grad()\n",
        "        \n",
        "        output = net(images)\n",
        "        loss = criterion(output, labels)\n",
        "        \n",
        "        #This is where the model learns by backpropagating\n",
        "        loss.backward()\n",
        "        \n",
        "        #And optimizes its weights here\n",
        "        optimizer.step()\n",
        "\n",
        "        ## WRITEME ##\n",
        "\n",
        "        # print statistics\n",
        "        running_loss += loss.item()\n",
        "        if i % 6000 == 5999:\n",
        "            print('[%d, %5d] loss: %.3f' %\n",
        "                  (epoch + 1, i + 1, running_loss / 6000))\n",
        "            running_loss = 0.0\n",
        "\n",
        "print('Finished Training')"
      ],
      "execution_count": 12,
      "outputs": [
        {
          "output_type": "stream",
          "text": [
            "[1,  6000] loss: 2.303\n",
            "[1, 12000] loss: 2.303\n",
            "[2,  6000] loss: 2.304\n",
            "[2, 12000] loss: 2.303\n",
            "[3,  6000] loss: 2.303\n",
            "[3, 12000] loss: 2.303\n",
            "[4,  6000] loss: 2.303\n",
            "[4, 12000] loss: 2.303\n",
            "[5,  6000] loss: 2.303\n",
            "[5, 12000] loss: 2.303\n",
            "Finished Training\n"
          ],
          "name": "stdout"
        }
      ]
    },
    {
      "cell_type": "code",
      "metadata": {
        "id": "wwzprxfl_btu",
        "colab": {
          "base_uri": "https://localhost:8080/"
        },
        "outputId": "7d19ecc4-df86-4bdd-e33d-1656c8a6e307"
      },
      "source": [
        "# 4. Visualize predictions\n",
        "\n",
        "dataiter = iter(testloader)\n",
        "images, labels = dataiter.next()\n",
        "outputs=net(images)\n",
        "_, predicted = torch.max(outputs, 1)\n",
        "\n",
        "print('Predicted: ', ' '.join('%5s' % classes[predicted[j]]\n",
        "                              for j in range(4)))"
      ],
      "execution_count": 13,
      "outputs": [
        {
          "output_type": "stream",
          "text": [
            "Predicted:  truck truck truck truck\n"
          ],
          "name": "stdout"
        }
      ]
    },
    {
      "cell_type": "code",
      "metadata": {
        "id": "J1qVAnXOD5sh",
        "colab": {
          "base_uri": "https://localhost:8080/"
        },
        "outputId": "eae30642-997a-4d2c-c60f-96f07391ba58"
      },
      "source": [
        "# 5. Calculate accuracy \n",
        "\n",
        "correct = 0\n",
        "total = 0\n",
        "with torch.no_grad():\n",
        "    for data in testloader:\n",
        "        images, labels = data\n",
        "        outputs = net(images)\n",
        "        _, predicted = torch.max(outputs.data, 1)\n",
        "        total += labels.size(0)\n",
        "        correct += (predicted == labels).sum().item()\n",
        "\n",
        "print('Accuracy of the network on the 10000 test images: %d %%' % (\n",
        "    100 * correct / total))\n",
        "\n",
        "#assert correct / total > 0.5\n",
        "print(\"Congratulations!\")"
      ],
      "execution_count": 14,
      "outputs": [
        {
          "output_type": "stream",
          "text": [
            "Accuracy of the network on the 10000 test images: 10 %\n",
            "Congratulations!\n"
          ],
          "name": "stdout"
        }
      ]
    },
    {
      "cell_type": "markdown",
      "metadata": {
        "id": "fpuELN3lBk33"
      },
      "source": [
        "## Training Visual Trasformer on CIFAR100"
      ]
    },
    {
      "cell_type": "code",
      "metadata": {
        "colab": {
          "base_uri": "https://localhost:8080/"
        },
        "id": "TEbAc-KEzc2V",
        "outputId": "a7505157-178f-4905-a150-53a640d37d15"
      },
      "source": [
        "!nvidia-smi"
      ],
      "execution_count": null,
      "outputs": [
        {
          "output_type": "stream",
          "text": [
            "Tue May 18 20:27:43 2021       \n",
            "+-----------------------------------------------------------------------------+\n",
            "| NVIDIA-SMI 465.19.01    Driver Version: 460.32.03    CUDA Version: 11.2     |\n",
            "|-------------------------------+----------------------+----------------------+\n",
            "| GPU  Name        Persistence-M| Bus-Id        Disp.A | Volatile Uncorr. ECC |\n",
            "| Fan  Temp  Perf  Pwr:Usage/Cap|         Memory-Usage | GPU-Util  Compute M. |\n",
            "|                               |                      |               MIG M. |\n",
            "|===============================+======================+======================|\n",
            "|   0  Tesla T4            Off  | 00000000:00:04.0 Off |                    0 |\n",
            "| N/A   45C    P8    10W /  70W |      0MiB / 15109MiB |      0%      Default |\n",
            "|                               |                      |                  N/A |\n",
            "+-------------------------------+----------------------+----------------------+\n",
            "                                                                               \n",
            "+-----------------------------------------------------------------------------+\n",
            "| Processes:                                                                  |\n",
            "|  GPU   GI   CI        PID   Type   Process name                  GPU Memory |\n",
            "|        ID   ID                                                   Usage      |\n",
            "|=============================================================================|\n",
            "|  No running processes found                                                 |\n",
            "+-----------------------------------------------------------------------------+\n"
          ],
          "name": "stdout"
        }
      ]
    },
    {
      "cell_type": "code",
      "metadata": {
        "colab": {
          "base_uri": "https://localhost:8080/"
        },
        "id": "rRkUpR4M8PkR",
        "outputId": "589332a2-1389-40c3-8bae-a30fd9f26cd0"
      },
      "source": [
        "!pip install -U tensorflow-addons"
      ],
      "execution_count": null,
      "outputs": [
        {
          "output_type": "stream",
          "text": [
            "Collecting tensorflow-addons\n",
            "\u001b[?25l  Downloading https://files.pythonhosted.org/packages/66/4b/e893d194e626c24b3df2253066aa418f46a432fdb68250cde14bf9bb0700/tensorflow_addons-0.13.0-cp37-cp37m-manylinux2010_x86_64.whl (679kB)\n",
            "\r\u001b[K     |▌                               | 10kB 23.2MB/s eta 0:00:01\r\u001b[K     |█                               | 20kB 31.0MB/s eta 0:00:01\r\u001b[K     |█▌                              | 30kB 23.9MB/s eta 0:00:01\r\u001b[K     |██                              | 40kB 18.5MB/s eta 0:00:01\r\u001b[K     |██▍                             | 51kB 9.4MB/s eta 0:00:01\r\u001b[K     |███                             | 61kB 9.7MB/s eta 0:00:01\r\u001b[K     |███▍                            | 71kB 9.9MB/s eta 0:00:01\r\u001b[K     |███▉                            | 81kB 11.0MB/s eta 0:00:01\r\u001b[K     |████▍                           | 92kB 11.4MB/s eta 0:00:01\r\u001b[K     |████▉                           | 102kB 9.1MB/s eta 0:00:01\r\u001b[K     |█████▎                          | 112kB 9.1MB/s eta 0:00:01\r\u001b[K     |█████▉                          | 122kB 9.1MB/s eta 0:00:01\r\u001b[K     |██████▎                         | 133kB 9.1MB/s eta 0:00:01\r\u001b[K     |██████▊                         | 143kB 9.1MB/s eta 0:00:01\r\u001b[K     |███████▎                        | 153kB 9.1MB/s eta 0:00:01\r\u001b[K     |███████▊                        | 163kB 9.1MB/s eta 0:00:01\r\u001b[K     |████████▏                       | 174kB 9.1MB/s eta 0:00:01\r\u001b[K     |████████▊                       | 184kB 9.1MB/s eta 0:00:01\r\u001b[K     |█████████▏                      | 194kB 9.1MB/s eta 0:00:01\r\u001b[K     |█████████▋                      | 204kB 9.1MB/s eta 0:00:01\r\u001b[K     |██████████▏                     | 215kB 9.1MB/s eta 0:00:01\r\u001b[K     |██████████▋                     | 225kB 9.1MB/s eta 0:00:01\r\u001b[K     |███████████                     | 235kB 9.1MB/s eta 0:00:01\r\u001b[K     |███████████▋                    | 245kB 9.1MB/s eta 0:00:01\r\u001b[K     |████████████                    | 256kB 9.1MB/s eta 0:00:01\r\u001b[K     |████████████▌                   | 266kB 9.1MB/s eta 0:00:01\r\u001b[K     |█████████████                   | 276kB 9.1MB/s eta 0:00:01\r\u001b[K     |█████████████▌                  | 286kB 9.1MB/s eta 0:00:01\r\u001b[K     |██████████████                  | 296kB 9.1MB/s eta 0:00:01\r\u001b[K     |██████████████▌                 | 307kB 9.1MB/s eta 0:00:01\r\u001b[K     |███████████████                 | 317kB 9.1MB/s eta 0:00:01\r\u001b[K     |███████████████▍                | 327kB 9.1MB/s eta 0:00:01\r\u001b[K     |████████████████                | 337kB 9.1MB/s eta 0:00:01\r\u001b[K     |████████████████▍               | 348kB 9.1MB/s eta 0:00:01\r\u001b[K     |████████████████▉               | 358kB 9.1MB/s eta 0:00:01\r\u001b[K     |█████████████████▍              | 368kB 9.1MB/s eta 0:00:01\r\u001b[K     |█████████████████▉              | 378kB 9.1MB/s eta 0:00:01\r\u001b[K     |██████████████████▎             | 389kB 9.1MB/s eta 0:00:01\r\u001b[K     |██████████████████▉             | 399kB 9.1MB/s eta 0:00:01\r\u001b[K     |███████████████████▎            | 409kB 9.1MB/s eta 0:00:01\r\u001b[K     |███████████████████▊            | 419kB 9.1MB/s eta 0:00:01\r\u001b[K     |████████████████████▎           | 430kB 9.1MB/s eta 0:00:01\r\u001b[K     |████████████████████▊           | 440kB 9.1MB/s eta 0:00:01\r\u001b[K     |█████████████████████▏          | 450kB 9.1MB/s eta 0:00:01\r\u001b[K     |█████████████████████▊          | 460kB 9.1MB/s eta 0:00:01\r\u001b[K     |██████████████████████▏         | 471kB 9.1MB/s eta 0:00:01\r\u001b[K     |██████████████████████▋         | 481kB 9.1MB/s eta 0:00:01\r\u001b[K     |███████████████████████▏        | 491kB 9.1MB/s eta 0:00:01\r\u001b[K     |███████████████████████▋        | 501kB 9.1MB/s eta 0:00:01\r\u001b[K     |████████████████████████        | 512kB 9.1MB/s eta 0:00:01\r\u001b[K     |████████████████████████▋       | 522kB 9.1MB/s eta 0:00:01\r\u001b[K     |█████████████████████████       | 532kB 9.1MB/s eta 0:00:01\r\u001b[K     |█████████████████████████▌      | 542kB 9.1MB/s eta 0:00:01\r\u001b[K     |██████████████████████████      | 552kB 9.1MB/s eta 0:00:01\r\u001b[K     |██████████████████████████▌     | 563kB 9.1MB/s eta 0:00:01\r\u001b[K     |███████████████████████████     | 573kB 9.1MB/s eta 0:00:01\r\u001b[K     |███████████████████████████▌    | 583kB 9.1MB/s eta 0:00:01\r\u001b[K     |████████████████████████████    | 593kB 9.1MB/s eta 0:00:01\r\u001b[K     |████████████████████████████▍   | 604kB 9.1MB/s eta 0:00:01\r\u001b[K     |█████████████████████████████   | 614kB 9.1MB/s eta 0:00:01\r\u001b[K     |█████████████████████████████▍  | 624kB 9.1MB/s eta 0:00:01\r\u001b[K     |█████████████████████████████▉  | 634kB 9.1MB/s eta 0:00:01\r\u001b[K     |██████████████████████████████▍ | 645kB 9.1MB/s eta 0:00:01\r\u001b[K     |██████████████████████████████▉ | 655kB 9.1MB/s eta 0:00:01\r\u001b[K     |███████████████████████████████▎| 665kB 9.1MB/s eta 0:00:01\r\u001b[K     |███████████████████████████████▉| 675kB 9.1MB/s eta 0:00:01\r\u001b[K     |████████████████████████████████| 686kB 9.1MB/s \n",
            "\u001b[?25hRequirement already satisfied, skipping upgrade: typeguard>=2.7 in /usr/local/lib/python3.7/dist-packages (from tensorflow-addons) (2.7.1)\n",
            "Installing collected packages: tensorflow-addons\n",
            "Successfully installed tensorflow-addons-0.13.0\n"
          ],
          "name": "stdout"
        }
      ]
    },
    {
      "cell_type": "markdown",
      "metadata": {
        "id": "yWia3ob44CWo"
      },
      "source": [
        "Loading Dataset"
      ]
    },
    {
      "cell_type": "code",
      "metadata": {
        "colab": {
          "base_uri": "https://localhost:8080/"
        },
        "id": "rOPsSUZ28iCE",
        "outputId": "9485392f-07f3-4f3f-b796-7166b3a80184"
      },
      "source": [
        "num_classes = 100\n",
        "input_shape = (32, 32, 3)\n",
        "\n",
        "(x_train, y_train), (x_test, y_test) = keras.datasets.cifar100.load_data()\n",
        "\n",
        "print(f\"x_train shape: {x_train.shape} - y_train shape: {y_train.shape}\")\n",
        "print(f\"x_test shape: {x_test.shape} - y_test shape: {y_test.shape}\")"
      ],
      "execution_count": null,
      "outputs": [
        {
          "output_type": "stream",
          "text": [
            "Downloading data from https://www.cs.toronto.edu/~kriz/cifar-100-python.tar.gz\n",
            "169009152/169001437 [==============================] - 3s 0us/step\n",
            "x_train shape: (50000, 32, 32, 3) - y_train shape: (50000, 1)\n",
            "x_test shape: (10000, 32, 32, 3) - y_test shape: (10000, 1)\n"
          ],
          "name": "stdout"
        }
      ]
    },
    {
      "cell_type": "code",
      "metadata": {
        "id": "bPoR476Y4Epx"
      },
      "source": [
        ""
      ],
      "execution_count": null,
      "outputs": []
    },
    {
      "cell_type": "markdown",
      "metadata": {
        "id": "5FzlSqGP4HbC"
      },
      "source": [
        "Hyper-Parameters"
      ]
    },
    {
      "cell_type": "code",
      "metadata": {
        "id": "LnnfvLlA80Kf"
      },
      "source": [
        "learning_rate = 0.001\n",
        "weight_decay = 0.0001\n",
        "batch_size = 256\n",
        "num_epochs = 100\n",
        "image_size = 72  # Final Image Size\n",
        "patch_size = 6  # Patch Dimension\n",
        "num_patches = (image_size // patch_size) ** 2\n",
        "projection_dim = 64\n",
        "num_heads = 4\n",
        "transformer_units = [\n",
        "    projection_dim * 2,\n",
        "    projection_dim,\n",
        "]  # Size of the transformer layers\n",
        "transformer_layers = 8\n",
        "mlp_head_units = [2048, 1024]  # Size of the dense layers "
      ],
      "execution_count": null,
      "outputs": []
    },
    {
      "cell_type": "code",
      "metadata": {
        "id": "0U6oa46f9HKK"
      },
      "source": [
        "data_augmentation = keras.Sequential(\n",
        "    [\n",
        "        layers.experimental.preprocessing.Normalization(),\n",
        "        layers.experimental.preprocessing.Resizing(image_size, image_size),\n",
        "        layers.experimental.preprocessing.RandomFlip(\"horizontal\"),\n",
        "        layers.experimental.preprocessing.RandomRotation(factor=0.02),\n",
        "        layers.experimental.preprocessing.RandomZoom(\n",
        "            height_factor=0.2, width_factor=0.2\n",
        "        ),\n",
        "    ],\n",
        "    name=\"data_augmentation\",\n",
        ")\n",
        "# Compute the mean and the variance of the training data for normalization.\n",
        "data_augmentation.layers[0].adapt(x_train)"
      ],
      "execution_count": null,
      "outputs": []
    },
    {
      "cell_type": "code",
      "metadata": {
        "id": "m6r8GTq_9LK5"
      },
      "source": [
        "def multilayer_perceptron(x, hidden_units, dropout_rate):\n",
        "    for units in hidden_units:\n",
        "        x = layers.Dense(units, activation=tf.nn.gelu)(x)\n",
        "        x = layers.Dropout(dropout_rate)(x)\n",
        "    return x"
      ],
      "execution_count": null,
      "outputs": []
    },
    {
      "cell_type": "markdown",
      "metadata": {
        "id": "j_-hGWES9YGO"
      },
      "source": [
        " Implementing patch creation as a layer"
      ]
    },
    {
      "cell_type": "code",
      "metadata": {
        "id": "oU_I7d_N9WdM"
      },
      "source": [
        "class Patches(layers.Layer):\n",
        "    def __init__(self, patch_size):\n",
        "        super(Patches, self).__init__()\n",
        "        self.patch_size = patch_size\n",
        "\n",
        "    def call(self, images):\n",
        "        batch_size = tf.shape(images)[0]\n",
        "        patches = tf.image.extract_patches(\n",
        "            images=images,\n",
        "            sizes=[1, self.patch_size, self.patch_size, 1],\n",
        "            strides=[1, self.patch_size, self.patch_size, 1],\n",
        "            rates=[1, 1, 1, 1],\n",
        "            padding=\"VALID\",\n",
        "        )\n",
        "        patch_dims = patches.shape[-1]\n",
        "        patches = tf.reshape(patches, [batch_size, -1, patch_dims])\n",
        "        return patches"
      ],
      "execution_count": null,
      "outputs": []
    },
    {
      "cell_type": "markdown",
      "metadata": {
        "id": "NGdjUZ6W-ilK"
      },
      "source": [
        "* **Let's display patches for a sample image**"
      ]
    },
    {
      "cell_type": "code",
      "metadata": {
        "colab": {
          "base_uri": "https://localhost:8080/",
          "height": 547
        },
        "id": "LAW4DoPl9bu9",
        "outputId": "58933197-f569-461d-e0c0-77e2868ea7a4"
      },
      "source": [
        "import matplotlib.pyplot as plt\n",
        "\n",
        "plt.figure(figsize=(4, 4))\n",
        "image = x_train[np.random.choice(range(x_train.shape[0]))]\n",
        "plt.imshow(image.astype(\"uint8\"))\n",
        "plt.axis(\"off\")\n",
        "\n",
        "resized_image = tf.image.resize(\n",
        "    tf.convert_to_tensor([image]), size=(image_size, image_size)\n",
        ")\n",
        "patches = Patches(patch_size)(resized_image)\n",
        "print(f\"Image size: {image_size} X {image_size}\")\n",
        "print(f\"Patch size: {patch_size} X {patch_size}\")\n",
        "print(f\"Patches per image: {patches.shape[1]}\")\n",
        "print(f\"Elements per patch: {patches.shape[-1]}\")\n",
        "\n",
        "n = int(np.sqrt(patches.shape[1]))\n",
        "plt.figure(figsize=(4, 4))\n",
        "for i, patch in enumerate(patches[0]):\n",
        "    ax = plt.subplot(n, n, i + 1)\n",
        "    patch_img = tf.reshape(patch, (patch_size, patch_size, 3))\n",
        "    plt.imshow(patch_img.numpy().astype(\"uint8\"))\n",
        "    plt.axis(\"off\")"
      ],
      "execution_count": null,
      "outputs": [
        {
          "output_type": "stream",
          "text": [
            "Image size: 72 X 72\n",
            "Patch size: 6 X 6\n",
            "Patches per image: 144\n",
            "Elements per patch: 108\n"
          ],
          "name": "stdout"
        },
        {
          "output_type": "display_data",
          "data": {
            "image/png": "[encoded data removed]",
            "text/plain": [
              "<Figure size 288x288 with 1 Axes>"
            ]
          },
          "metadata": {
            "tags": [],
            "needs_background": "light"
          }
        },
        {
          "output_type": "display_data",
          "data": {
            "image/png": "[encoded data removed]",
            "text/plain": [
              "<Figure size 288x288 with 144 Axes>"
            ]
          },
          "metadata": {
            "tags": [],
            "needs_background": "light"
          }
        }
      ]
    },
    {
      "cell_type": "markdown",
      "metadata": {
        "id": "j0EvaGQJ-oDg"
      },
      "source": [
        " Implement the Patch Encoding Layer"
      ]
    },
    {
      "cell_type": "code",
      "metadata": {
        "id": "BH3qjppS9dtR"
      },
      "source": [
        "class PatchEncoder(layers.Layer):\n",
        "    def __init__(self, num_patches, projection_dim):\n",
        "        super(PatchEncoder, self).__init__()\n",
        "        self.num_patches = num_patches\n",
        "        self.projection = layers.Dense(units=projection_dim)\n",
        "        self.position_embedding = layers.Embedding(\n",
        "            input_dim=num_patches, output_dim=projection_dim\n",
        "        )\n",
        "\n",
        "    def call(self, patch):\n",
        "        positions = tf.range(start=0, limit=self.num_patches, delta=1)\n",
        "        encoded = self.projection(patch) + self.position_embedding(positions)\n",
        "        return encoded"
      ],
      "execution_count": null,
      "outputs": []
    },
    {
      "cell_type": "markdown",
      "metadata": {
        "id": "V7NGMXDf-sxp"
      },
      "source": [
        "Build the ViT model"
      ]
    },
    {
      "cell_type": "code",
      "metadata": {
        "id": "LO08CKaj9mdz"
      },
      "source": [
        "def create_vit_classifier():\n",
        "    inputs = layers.Input(shape=input_shape)\n",
        "\n",
        "    augmented = data_augmentation(inputs)\n",
        "\n",
        "    patches = Patches(patch_size)(augmented)\n",
        "\n",
        "    encoded_patches = PatchEncoder(num_patches, projection_dim)(patches)\n",
        "\n",
        "\n",
        "    for _ in range(transformer_layers):\n",
        "\n",
        "        x1 = layers.LayerNormalization(epsilon=1e-6)(encoded_patches)\n",
        "   \n",
        "        attention_output = layers.MultiHeadAttention(\n",
        "            num_heads=num_heads, key_dim=projection_dim, dropout=0.1\n",
        "        )(x1, x1)\n",
        "     \n",
        "        x2 = layers.Add()([attention_output, encoded_patches])\n",
        "   \n",
        "        x3 = layers.LayerNormalization(epsilon=1e-6)(x2)\n",
        "       \n",
        "        x3 = multilayer_perceptron(x3, hidden_units=transformer_units, dropout_rate=0.1)\n",
        "      \n",
        "        encoded_patches = layers.Add()([x3, x2])\n",
        "\n",
        "    representation = layers.LayerNormalization(epsilon=1e-6)(encoded_patches)\n",
        "    representation = layers.Flatten()(representation)\n",
        "    representation = layers.Dropout(0.5)(representation)\n",
        "\n",
        "    features = multilayer_perceptron(representation, hidden_units=mlp_head_units, dropout_rate=0.5)\n",
        "\n",
        "    logits = layers.Dense(num_classes)(features)\n",
        "\n",
        "    model = keras.Model(inputs=inputs, outputs=logits)\n",
        "    return model"
      ],
      "execution_count": null,
      "outputs": []
    },
    {
      "cell_type": "markdown",
      "metadata": {
        "id": "_C0JTf84-vJX"
      },
      "source": [
        " Compile, Train, and Evaluate the model"
      ]
    },
    {
      "cell_type": "code",
      "metadata": {
        "id": "yamDfegW918P"
      },
      "source": [
        "def run_experiment(model):\n",
        "    optimizer = tfa.optimizers.AdamW(\n",
        "        learning_rate=learning_rate, weight_decay=weight_decay\n",
        "    )\n",
        "\n",
        "    model.compile(\n",
        "        optimizer=optimizer,\n",
        "        loss=keras.losses.SparseCategoricalCrossentropy(from_logits=True),\n",
        "        metrics=[\n",
        "            keras.metrics.SparseCategoricalAccuracy(name=\"accuracy\"),\n",
        "            keras.metrics.SparseTopKCategoricalAccuracy(5, name=\"top-5-accuracy\"),\n",
        "        ],\n",
        "    )\n",
        "\n",
        "    checkpoint_filepath = \"/tmp/checkpoint\"\n",
        "    checkpoint_callback = keras.callbacks.ModelCheckpoint(\n",
        "        checkpoint_filepath,\n",
        "        monitor=\"val_accuracy\",\n",
        "        save_best_only=True,\n",
        "        save_weights_only=True,\n",
        "    )\n",
        "\n",
        "    history = model.fit(\n",
        "        x=x_train,\n",
        "        y=y_train,\n",
        "        batch_size=batch_size,\n",
        "        epochs=num_epochs,\n",
        "        validation_split=0.1,\n",
        "        callbacks=[checkpoint_callback],\n",
        "    )\n",
        "\n",
        "    model.load_weights(checkpoint_filepath)\n",
        "    _, accuracy, top_5_accuracy = model.evaluate(x_test, y_test)\n",
        "    print(f\"Test accuracy: {round(accuracy * 100, 2)}%\")\n",
        "    print(f\"Test top 5 accuracy: {round(top_5_accuracy * 100, 2)}%\")\n",
        "\n",
        "    return history"
      ],
      "execution_count": null,
      "outputs": []
    },
    {
      "cell_type": "code",
      "metadata": {
        "colab": {
          "base_uri": "https://localhost:8080/"
        },
        "id": "lXedFRc497Ym",
        "outputId": "b8e60636-3274-42b8-cc75-6ee81c11e2a7"
      },
      "source": [
        "vit_classifier = create_vit_classifier()\n",
        "history = run_experiment(vit_classifier)"
      ],
      "execution_count": null,
      "outputs": [
        {
          "output_type": "stream",
          "text": [
            "Epoch 1/100\n",
            "176/176 [==============================] - 77s 370ms/step - loss: 4.9261 - accuracy: 0.0270 - top-5-accuracy: 0.1043 - val_loss: 3.9316 - val_accuracy: 0.0978 - val_top-5-accuracy: 0.3040\n",
            "Epoch 2/100\n",
            "176/176 [==============================] - 65s 368ms/step - loss: 4.0164 - accuracy: 0.0818 - top-5-accuracy: 0.2629 - val_loss: 3.5617 - val_accuracy: 0.1590 - val_top-5-accuracy: 0.4110\n",
            "Epoch 3/100\n",
            "176/176 [==============================] - 66s 373ms/step - loss: 3.7463 - accuracy: 0.1220 - top-5-accuracy: 0.3465 - val_loss: 3.4022 - val_accuracy: 0.1904 - val_top-5-accuracy: 0.4636\n",
            "Epoch 4/100\n",
            "176/176 [==============================] - 66s 376ms/step - loss: 3.5407 - accuracy: 0.1540 - top-5-accuracy: 0.4063 - val_loss: 3.2162 - val_accuracy: 0.2198 - val_top-5-accuracy: 0.5228\n",
            "Epoch 5/100\n",
            "176/176 [==============================] - 67s 380ms/step - loss: 3.3878 - accuracy: 0.1835 - top-5-accuracy: 0.4553 - val_loss: 3.0488 - val_accuracy: 0.2580 - val_top-5-accuracy: 0.5514\n",
            "Epoch 6/100\n",
            "176/176 [==============================] - 67s 381ms/step - loss: 3.2358 - accuracy: 0.2105 - top-5-accuracy: 0.4958 - val_loss: 2.9395 - val_accuracy: 0.2742 - val_top-5-accuracy: 0.5750\n",
            "Epoch 7/100\n",
            "176/176 [==============================] - 67s 382ms/step - loss: 3.1214 - accuracy: 0.2296 - top-5-accuracy: 0.5265 - val_loss: 2.8324 - val_accuracy: 0.2864 - val_top-5-accuracy: 0.6034\n",
            "Epoch 8/100\n",
            "176/176 [==============================] - 67s 383ms/step - loss: 3.0304 - accuracy: 0.2516 - top-5-accuracy: 0.5466 - val_loss: 2.7453 - val_accuracy: 0.3084 - val_top-5-accuracy: 0.6280\n",
            "Epoch 9/100\n",
            "176/176 [==============================] - 67s 383ms/step - loss: 2.8817 - accuracy: 0.2771 - top-5-accuracy: 0.5851 - val_loss: 2.6479 - val_accuracy: 0.3228 - val_top-5-accuracy: 0.6452\n",
            "Epoch 10/100\n",
            "176/176 [==============================] - 67s 383ms/step - loss: 2.7719 - accuracy: 0.2997 - top-5-accuracy: 0.6102 - val_loss: 2.5419 - val_accuracy: 0.3582 - val_top-5-accuracy: 0.6612\n",
            "Epoch 11/100\n",
            "176/176 [==============================] - 67s 382ms/step - loss: 2.6982 - accuracy: 0.3157 - top-5-accuracy: 0.6278 - val_loss: 2.5093 - val_accuracy: 0.3574 - val_top-5-accuracy: 0.6724\n",
            "Epoch 12/100\n",
            "176/176 [==============================] - 67s 381ms/step - loss: 2.6103 - accuracy: 0.3323 - top-5-accuracy: 0.6492 - val_loss: 2.4409 - val_accuracy: 0.3688 - val_top-5-accuracy: 0.6766\n",
            "Epoch 13/100\n",
            "176/176 [==============================] - 67s 383ms/step - loss: 2.5334 - accuracy: 0.3498 - top-5-accuracy: 0.6655 - val_loss: 2.3757 - val_accuracy: 0.3854 - val_top-5-accuracy: 0.6952\n",
            "Epoch 14/100\n",
            "176/176 [==============================] - 67s 383ms/step - loss: 2.4337 - accuracy: 0.3685 - top-5-accuracy: 0.6879 - val_loss: 2.3638 - val_accuracy: 0.3894 - val_top-5-accuracy: 0.6942\n",
            "Epoch 15/100\n",
            "176/176 [==============================] - 67s 382ms/step - loss: 2.3688 - accuracy: 0.3843 - top-5-accuracy: 0.6974 - val_loss: 2.3426 - val_accuracy: 0.3990 - val_top-5-accuracy: 0.6996\n",
            "Epoch 16/100\n",
            "176/176 [==============================] - 67s 381ms/step - loss: 2.2924 - accuracy: 0.3998 - top-5-accuracy: 0.7164 - val_loss: 2.2077 - val_accuracy: 0.4224 - val_top-5-accuracy: 0.7332\n",
            "Epoch 17/100\n",
            "176/176 [==============================] - 67s 381ms/step - loss: 2.2173 - accuracy: 0.4175 - top-5-accuracy: 0.7348 - val_loss: 2.2060 - val_accuracy: 0.4304 - val_top-5-accuracy: 0.7216\n",
            "Epoch 18/100\n",
            "176/176 [==============================] - 67s 382ms/step - loss: 2.1381 - accuracy: 0.4329 - top-5-accuracy: 0.7440 - val_loss: 2.1384 - val_accuracy: 0.4416 - val_top-5-accuracy: 0.7376\n",
            "Epoch 19/100\n",
            "176/176 [==============================] - 67s 380ms/step - loss: 2.0923 - accuracy: 0.4418 - top-5-accuracy: 0.7560 - val_loss: 2.1118 - val_accuracy: 0.4444 - val_top-5-accuracy: 0.7500\n",
            "Epoch 20/100\n",
            "176/176 [==============================] - 67s 381ms/step - loss: 2.0319 - accuracy: 0.4573 - top-5-accuracy: 0.7698 - val_loss: 2.1009 - val_accuracy: 0.4488 - val_top-5-accuracy: 0.7488\n",
            "Epoch 21/100\n",
            "176/176 [==============================] - 67s 382ms/step - loss: 1.9727 - accuracy: 0.4664 - top-5-accuracy: 0.7797 - val_loss: 2.0219 - val_accuracy: 0.4660 - val_top-5-accuracy: 0.7634\n",
            "Epoch 22/100\n",
            "176/176 [==============================] - 67s 382ms/step - loss: 1.9147 - accuracy: 0.4849 - top-5-accuracy: 0.7884 - val_loss: 2.0458 - val_accuracy: 0.4554 - val_top-5-accuracy: 0.7604\n",
            "Epoch 23/100\n",
            "176/176 [==============================] - 67s 382ms/step - loss: 1.8819 - accuracy: 0.4867 - top-5-accuracy: 0.7956 - val_loss: 2.0302 - val_accuracy: 0.4616 - val_top-5-accuracy: 0.7688\n",
            "Epoch 24/100\n",
            "176/176 [==============================] - 67s 382ms/step - loss: 1.8528 - accuracy: 0.4953 - top-5-accuracy: 0.8028 - val_loss: 2.0271 - val_accuracy: 0.4662 - val_top-5-accuracy: 0.7652\n",
            "Epoch 25/100\n",
            "176/176 [==============================] - 67s 382ms/step - loss: 1.7950 - accuracy: 0.5108 - top-5-accuracy: 0.8128 - val_loss: 2.0036 - val_accuracy: 0.4716 - val_top-5-accuracy: 0.7620\n",
            "Epoch 26/100\n",
            "176/176 [==============================] - 67s 382ms/step - loss: 1.7505 - accuracy: 0.5205 - top-5-accuracy: 0.8193 - val_loss: 1.9759 - val_accuracy: 0.4782 - val_top-5-accuracy: 0.7746\n",
            "Epoch 27/100\n",
            "176/176 [==============================] - 67s 382ms/step - loss: 1.7232 - accuracy: 0.5267 - top-5-accuracy: 0.8267 - val_loss: 1.9590 - val_accuracy: 0.4872 - val_top-5-accuracy: 0.7682\n",
            "Epoch 28/100\n",
            "176/176 [==============================] - 67s 382ms/step - loss: 1.6837 - accuracy: 0.5368 - top-5-accuracy: 0.8310 - val_loss: 1.9872 - val_accuracy: 0.4860 - val_top-5-accuracy: 0.7684\n",
            "Epoch 29/100\n",
            "176/176 [==============================] - 67s 382ms/step - loss: 1.6653 - accuracy: 0.5383 - top-5-accuracy: 0.8384 - val_loss: 1.9218 - val_accuracy: 0.4950 - val_top-5-accuracy: 0.7828\n",
            "Epoch 30/100\n",
            "176/176 [==============================] - 67s 381ms/step - loss: 1.6200 - accuracy: 0.5529 - top-5-accuracy: 0.8439 - val_loss: 1.9123 - val_accuracy: 0.4978 - val_top-5-accuracy: 0.7912\n",
            "Epoch 31/100\n",
            "176/176 [==============================] - 67s 380ms/step - loss: 1.5787 - accuracy: 0.5632 - top-5-accuracy: 0.8503 - val_loss: 1.9384 - val_accuracy: 0.4890 - val_top-5-accuracy: 0.7844\n",
            "Epoch 32/100\n",
            "176/176 [==============================] - 67s 381ms/step - loss: 1.5569 - accuracy: 0.5668 - top-5-accuracy: 0.8541 - val_loss: 1.9131 - val_accuracy: 0.4952 - val_top-5-accuracy: 0.7812\n",
            "Epoch 33/100\n",
            "176/176 [==============================] - 67s 381ms/step - loss: 1.5116 - accuracy: 0.5758 - top-5-accuracy: 0.8621 - val_loss: 1.8817 - val_accuracy: 0.5036 - val_top-5-accuracy: 0.7954\n",
            "Epoch 34/100\n",
            "176/176 [==============================] - 67s 381ms/step - loss: 1.4749 - accuracy: 0.5834 - top-5-accuracy: 0.8708 - val_loss: 1.9188 - val_accuracy: 0.5008 - val_top-5-accuracy: 0.7896\n",
            "Epoch 35/100\n",
            "176/176 [==============================] - 67s 381ms/step - loss: 1.4606 - accuracy: 0.5865 - top-5-accuracy: 0.8697 - val_loss: 1.8982 - val_accuracy: 0.4982 - val_top-5-accuracy: 0.7918\n",
            "Epoch 36/100\n",
            "176/176 [==============================] - 67s 381ms/step - loss: 1.4205 - accuracy: 0.5971 - top-5-accuracy: 0.8760 - val_loss: 1.8672 - val_accuracy: 0.5048 - val_top-5-accuracy: 0.7960\n",
            "Epoch 37/100\n",
            "176/176 [==============================] - 67s 381ms/step - loss: 1.4120 - accuracy: 0.5993 - top-5-accuracy: 0.8778 - val_loss: 1.9125 - val_accuracy: 0.5026 - val_top-5-accuracy: 0.7894\n",
            "Epoch 38/100\n",
            "176/176 [==============================] - 67s 381ms/step - loss: 1.3864 - accuracy: 0.6060 - top-5-accuracy: 0.8829 - val_loss: 1.8953 - val_accuracy: 0.5158 - val_top-5-accuracy: 0.7954\n",
            "Epoch 39/100\n",
            "176/176 [==============================] - 67s 381ms/step - loss: 1.3572 - accuracy: 0.6086 - top-5-accuracy: 0.8876 - val_loss: 1.8930 - val_accuracy: 0.5130 - val_top-5-accuracy: 0.7952\n",
            "Epoch 40/100\n",
            "176/176 [==============================] - 67s 382ms/step - loss: 1.3339 - accuracy: 0.6167 - top-5-accuracy: 0.8903 - val_loss: 1.8971 - val_accuracy: 0.5104 - val_top-5-accuracy: 0.7948\n",
            "Epoch 41/100\n",
            "176/176 [==============================] - 67s 381ms/step - loss: 1.3233 - accuracy: 0.6219 - top-5-accuracy: 0.8929 - val_loss: 1.8871 - val_accuracy: 0.5210 - val_top-5-accuracy: 0.7972\n",
            "Epoch 42/100\n",
            "176/176 [==============================] - 67s 381ms/step - loss: 1.2793 - accuracy: 0.6337 - top-5-accuracy: 0.8982 - val_loss: 1.8781 - val_accuracy: 0.5134 - val_top-5-accuracy: 0.7994\n",
            "Epoch 43/100\n",
            "176/176 [==============================] - 67s 381ms/step - loss: 1.2819 - accuracy: 0.6282 - top-5-accuracy: 0.8995 - val_loss: 1.9133 - val_accuracy: 0.5188 - val_top-5-accuracy: 0.7960\n",
            "Epoch 44/100\n",
            "176/176 [==============================] - 67s 381ms/step - loss: 1.2489 - accuracy: 0.6365 - top-5-accuracy: 0.9051 - val_loss: 1.9058 - val_accuracy: 0.5132 - val_top-5-accuracy: 0.7926\n",
            "Epoch 45/100\n",
            "176/176 [==============================] - 67s 381ms/step - loss: 1.2205 - accuracy: 0.6472 - top-5-accuracy: 0.9070 - val_loss: 1.8896 - val_accuracy: 0.5140 - val_top-5-accuracy: 0.8026\n",
            "Epoch 46/100\n",
            "176/176 [==============================] - 67s 381ms/step - loss: 1.2112 - accuracy: 0.6510 - top-5-accuracy: 0.9078 - val_loss: 1.9035 - val_accuracy: 0.5158 - val_top-5-accuracy: 0.7958\n",
            "Epoch 47/100\n",
            "176/176 [==============================] - 67s 381ms/step - loss: 1.1924 - accuracy: 0.6522 - top-5-accuracy: 0.9141 - val_loss: 1.9137 - val_accuracy: 0.5166 - val_top-5-accuracy: 0.7986\n",
            "Epoch 48/100\n",
            "176/176 [==============================] - 67s 381ms/step - loss: 1.1779 - accuracy: 0.6562 - top-5-accuracy: 0.9150 - val_loss: 1.9105 - val_accuracy: 0.5174 - val_top-5-accuracy: 0.8012\n",
            "Epoch 49/100\n",
            "176/176 [==============================] - 67s 381ms/step - loss: 1.1459 - accuracy: 0.6697 - top-5-accuracy: 0.9171 - val_loss: 1.8925 - val_accuracy: 0.5254 - val_top-5-accuracy: 0.8032\n",
            "Epoch 50/100\n",
            "176/176 [==============================] - 67s 382ms/step - loss: 1.1442 - accuracy: 0.6662 - top-5-accuracy: 0.9169 - val_loss: 1.9018 - val_accuracy: 0.5180 - val_top-5-accuracy: 0.7966\n",
            "Epoch 51/100\n",
            "176/176 [==============================] - 67s 382ms/step - loss: 1.1177 - accuracy: 0.6741 - top-5-accuracy: 0.9214 - val_loss: 1.9099 - val_accuracy: 0.5154 - val_top-5-accuracy: 0.7934\n",
            "Epoch 52/100\n",
            "176/176 [==============================] - 67s 382ms/step - loss: 1.1087 - accuracy: 0.6761 - top-5-accuracy: 0.9222 - val_loss: 1.8935 - val_accuracy: 0.5196 - val_top-5-accuracy: 0.7948\n",
            "Epoch 53/100\n",
            "176/176 [==============================] - 67s 382ms/step - loss: 1.0872 - accuracy: 0.6829 - top-5-accuracy: 0.9260 - val_loss: 1.8667 - val_accuracy: 0.5176 - val_top-5-accuracy: 0.8028\n",
            "Epoch 54/100\n",
            "176/176 [==============================] - 67s 381ms/step - loss: 1.0969 - accuracy: 0.6757 - top-5-accuracy: 0.9260 - val_loss: 1.8539 - val_accuracy: 0.5290 - val_top-5-accuracy: 0.8072\n",
            "Epoch 55/100\n",
            "176/176 [==============================] - 67s 381ms/step - loss: 1.0813 - accuracy: 0.6783 - top-5-accuracy: 0.9273 - val_loss: 1.8692 - val_accuracy: 0.5278 - val_top-5-accuracy: 0.8108\n",
            "Epoch 56/100\n",
            "176/176 [==============================] - 67s 382ms/step - loss: 1.0412 - accuracy: 0.6917 - top-5-accuracy: 0.9308 - val_loss: 1.8857 - val_accuracy: 0.5266 - val_top-5-accuracy: 0.8006\n",
            "Epoch 57/100\n",
            "176/176 [==============================] - 67s 383ms/step - loss: 1.0283 - accuracy: 0.6976 - top-5-accuracy: 0.9326 - val_loss: 1.9186 - val_accuracy: 0.5232 - val_top-5-accuracy: 0.8012\n",
            "Epoch 58/100\n",
            "176/176 [==============================] - 67s 382ms/step - loss: 1.0485 - accuracy: 0.6917 - top-5-accuracy: 0.9327 - val_loss: 1.9340 - val_accuracy: 0.5232 - val_top-5-accuracy: 0.8068\n",
            "Epoch 59/100\n",
            "176/176 [==============================] - 67s 381ms/step - loss: 1.0158 - accuracy: 0.7024 - top-5-accuracy: 0.9326 - val_loss: 1.8826 - val_accuracy: 0.5326 - val_top-5-accuracy: 0.8112\n",
            "Epoch 60/100\n",
            "176/176 [==============================] - 67s 382ms/step - loss: 1.0028 - accuracy: 0.7035 - top-5-accuracy: 0.9350 - val_loss: 1.8866 - val_accuracy: 0.5298 - val_top-5-accuracy: 0.8074\n",
            "Epoch 61/100\n",
            "176/176 [==============================] - 67s 381ms/step - loss: 1.0019 - accuracy: 0.7046 - top-5-accuracy: 0.9361 - val_loss: 1.8822 - val_accuracy: 0.5318 - val_top-5-accuracy: 0.8110\n",
            "Epoch 62/100\n",
            "176/176 [==============================] - 67s 381ms/step - loss: 0.9643 - accuracy: 0.7126 - top-5-accuracy: 0.9422 - val_loss: 1.8987 - val_accuracy: 0.5286 - val_top-5-accuracy: 0.8104\n",
            "Epoch 63/100\n",
            "176/176 [==============================] - 67s 381ms/step - loss: 0.9601 - accuracy: 0.7156 - top-5-accuracy: 0.9420 - val_loss: 1.9006 - val_accuracy: 0.5280 - val_top-5-accuracy: 0.8118\n",
            "Epoch 64/100\n",
            "176/176 [==============================] - 67s 381ms/step - loss: 0.9659 - accuracy: 0.7131 - top-5-accuracy: 0.9402 - val_loss: 1.8995 - val_accuracy: 0.5280 - val_top-5-accuracy: 0.8070\n",
            "Epoch 65/100\n",
            "176/176 [==============================] - 67s 382ms/step - loss: 0.9615 - accuracy: 0.7141 - top-5-accuracy: 0.9406 - val_loss: 1.8935 - val_accuracy: 0.5342 - val_top-5-accuracy: 0.8072\n",
            "Epoch 66/100\n",
            "176/176 [==============================] - 67s 382ms/step - loss: 0.9429 - accuracy: 0.7184 - top-5-accuracy: 0.9411 - val_loss: 1.8886 - val_accuracy: 0.5310 - val_top-5-accuracy: 0.8094\n",
            "Epoch 67/100\n",
            "176/176 [==============================] - 67s 382ms/step - loss: 0.9206 - accuracy: 0.7275 - top-5-accuracy: 0.9466 - val_loss: 1.8993 - val_accuracy: 0.5270 - val_top-5-accuracy: 0.8092\n",
            "Epoch 68/100\n",
            "176/176 [==============================] - 67s 383ms/step - loss: 0.9339 - accuracy: 0.7220 - top-5-accuracy: 0.9449 - val_loss: 1.9307 - val_accuracy: 0.5320 - val_top-5-accuracy: 0.8048\n",
            "Epoch 69/100\n",
            "176/176 [==============================] - 67s 382ms/step - loss: 0.9180 - accuracy: 0.7285 - top-5-accuracy: 0.9472 - val_loss: 1.9390 - val_accuracy: 0.5302 - val_top-5-accuracy: 0.8082\n",
            "Epoch 70/100\n",
            "176/176 [==============================] - 67s 381ms/step - loss: 0.9039 - accuracy: 0.7288 - top-5-accuracy: 0.9482 - val_loss: 1.9232 - val_accuracy: 0.5342 - val_top-5-accuracy: 0.8026\n",
            "Epoch 71/100\n",
            "176/176 [==============================] - 67s 382ms/step - loss: 0.9015 - accuracy: 0.7318 - top-5-accuracy: 0.9473 - val_loss: 1.9249 - val_accuracy: 0.5362 - val_top-5-accuracy: 0.8102\n",
            "Epoch 72/100\n",
            "176/176 [==============================] - 67s 382ms/step - loss: 0.8847 - accuracy: 0.7328 - top-5-accuracy: 0.9507 - val_loss: 1.9224 - val_accuracy: 0.5326 - val_top-5-accuracy: 0.8042\n",
            "Epoch 73/100\n",
            "176/176 [==============================] - 67s 382ms/step - loss: 0.8999 - accuracy: 0.7316 - top-5-accuracy: 0.9480 - val_loss: 1.8976 - val_accuracy: 0.5332 - val_top-5-accuracy: 0.8044\n",
            "Epoch 74/100\n",
            "176/176 [==============================] - 67s 382ms/step - loss: 0.8860 - accuracy: 0.7337 - top-5-accuracy: 0.9491 - val_loss: 1.8888 - val_accuracy: 0.5446 - val_top-5-accuracy: 0.8112\n",
            "Epoch 75/100\n",
            "176/176 [==============================] - 67s 382ms/step - loss: 0.8649 - accuracy: 0.7445 - top-5-accuracy: 0.9532 - val_loss: 1.9305 - val_accuracy: 0.5322 - val_top-5-accuracy: 0.8106\n",
            "Epoch 76/100\n",
            "176/176 [==============================] - 67s 382ms/step - loss: 0.8668 - accuracy: 0.7409 - top-5-accuracy: 0.9512 - val_loss: 1.9267 - val_accuracy: 0.5342 - val_top-5-accuracy: 0.8080\n",
            "Epoch 77/100\n",
            "176/176 [==============================] - 67s 381ms/step - loss: 0.8612 - accuracy: 0.7442 - top-5-accuracy: 0.9512 - val_loss: 1.8926 - val_accuracy: 0.5398 - val_top-5-accuracy: 0.8146\n",
            "Epoch 78/100\n",
            "176/176 [==============================] - 67s 381ms/step - loss: 0.8571 - accuracy: 0.7414 - top-5-accuracy: 0.9529 - val_loss: 1.9322 - val_accuracy: 0.5346 - val_top-5-accuracy: 0.8102\n",
            "Epoch 79/100\n",
            "176/176 [==============================] - 67s 381ms/step - loss: 0.8530 - accuracy: 0.7468 - top-5-accuracy: 0.9527 - val_loss: 1.9689 - val_accuracy: 0.5320 - val_top-5-accuracy: 0.8010\n",
            "Epoch 80/100\n",
            "176/176 [==============================] - 67s 380ms/step - loss: 0.8273 - accuracy: 0.7515 - top-5-accuracy: 0.9562 - val_loss: 1.9019 - val_accuracy: 0.5390 - val_top-5-accuracy: 0.8092\n",
            "Epoch 81/100\n",
            "176/176 [==============================] - 67s 381ms/step - loss: 0.8339 - accuracy: 0.7505 - top-5-accuracy: 0.9538 - val_loss: 1.9377 - val_accuracy: 0.5344 - val_top-5-accuracy: 0.8076\n",
            "Epoch 82/100\n",
            "176/176 [==============================] - 67s 382ms/step - loss: 0.8419 - accuracy: 0.7491 - top-5-accuracy: 0.9558 - val_loss: 1.9721 - val_accuracy: 0.5266 - val_top-5-accuracy: 0.8006\n",
            "Epoch 83/100\n",
            "176/176 [==============================] - 67s 381ms/step - loss: 0.8322 - accuracy: 0.7519 - top-5-accuracy: 0.9551 - val_loss: 1.9202 - val_accuracy: 0.5414 - val_top-5-accuracy: 0.8112\n",
            "Epoch 84/100\n",
            "176/176 [==============================] - 67s 382ms/step - loss: 0.8108 - accuracy: 0.7570 - top-5-accuracy: 0.9591 - val_loss: 1.9084 - val_accuracy: 0.5448 - val_top-5-accuracy: 0.8156\n",
            "Epoch 85/100\n",
            "176/176 [==============================] - 67s 382ms/step - loss: 0.8197 - accuracy: 0.7575 - top-5-accuracy: 0.9558 - val_loss: 1.8900 - val_accuracy: 0.5362 - val_top-5-accuracy: 0.8054\n",
            "Epoch 86/100\n",
            "176/176 [==============================] - 67s 383ms/step - loss: 0.8265 - accuracy: 0.7550 - top-5-accuracy: 0.9568 - val_loss: 1.9313 - val_accuracy: 0.5408 - val_top-5-accuracy: 0.8100\n",
            "Epoch 87/100\n",
            "176/176 [==============================] - 67s 383ms/step - loss: 0.8067 - accuracy: 0.7595 - top-5-accuracy: 0.9575 - val_loss: 1.9775 - val_accuracy: 0.5338 - val_top-5-accuracy: 0.8066\n",
            "Epoch 88/100\n",
            "176/176 [==============================] - 67s 383ms/step - loss: 0.7936 - accuracy: 0.7614 - top-5-accuracy: 0.9602 - val_loss: 1.9500 - val_accuracy: 0.5370 - val_top-5-accuracy: 0.8120\n",
            "Epoch 89/100\n",
            "176/176 [==============================] - 67s 382ms/step - loss: 0.7994 - accuracy: 0.7630 - top-5-accuracy: 0.9582 - val_loss: 1.9265 - val_accuracy: 0.5332 - val_top-5-accuracy: 0.8030\n",
            "Epoch 90/100\n",
            "176/176 [==============================] - 67s 380ms/step - loss: 0.7772 - accuracy: 0.7658 - top-5-accuracy: 0.9618 - val_loss: 1.9388 - val_accuracy: 0.5322 - val_top-5-accuracy: 0.8106\n",
            "Epoch 91/100\n",
            "176/176 [==============================] - 67s 380ms/step - loss: 0.7936 - accuracy: 0.7619 - top-5-accuracy: 0.9609 - val_loss: 1.9345 - val_accuracy: 0.5444 - val_top-5-accuracy: 0.8130\n",
            "Epoch 92/100\n",
            "176/176 [==============================] - 67s 381ms/step - loss: 0.7805 - accuracy: 0.7677 - top-5-accuracy: 0.9605 - val_loss: 1.9375 - val_accuracy: 0.5392 - val_top-5-accuracy: 0.8088\n",
            "Epoch 93/100\n",
            "176/176 [==============================] - 67s 381ms/step - loss: 0.7752 - accuracy: 0.7676 - top-5-accuracy: 0.9619 - val_loss: 1.9243 - val_accuracy: 0.5376 - val_top-5-accuracy: 0.8090\n",
            "Epoch 94/100\n",
            "176/176 [==============================] - 67s 381ms/step - loss: 0.7718 - accuracy: 0.7675 - top-5-accuracy: 0.9604 - val_loss: 1.9452 - val_accuracy: 0.5362 - val_top-5-accuracy: 0.8120\n",
            "Epoch 95/100\n",
            "176/176 [==============================] - 67s 381ms/step - loss: 0.7610 - accuracy: 0.7724 - top-5-accuracy: 0.9609 - val_loss: 1.9579 - val_accuracy: 0.5402 - val_top-5-accuracy: 0.8056\n",
            "Epoch 96/100\n",
            "176/176 [==============================] - 67s 382ms/step - loss: 0.7807 - accuracy: 0.7642 - top-5-accuracy: 0.9603 - val_loss: 1.9407 - val_accuracy: 0.5474 - val_top-5-accuracy: 0.8104\n",
            "Epoch 97/100\n",
            "176/176 [==============================] - 67s 382ms/step - loss: 0.7550 - accuracy: 0.7735 - top-5-accuracy: 0.9628 - val_loss: 1.9175 - val_accuracy: 0.5400 - val_top-5-accuracy: 0.8000\n",
            "Epoch 98/100\n",
            "176/176 [==============================] - 67s 381ms/step - loss: 0.7575 - accuracy: 0.7724 - top-5-accuracy: 0.9627 - val_loss: 1.9477 - val_accuracy: 0.5444 - val_top-5-accuracy: 0.8078\n",
            "Epoch 99/100\n",
            "176/176 [==============================] - 67s 382ms/step - loss: 0.7504 - accuracy: 0.7736 - top-5-accuracy: 0.9625 - val_loss: 1.9370 - val_accuracy: 0.5428 - val_top-5-accuracy: 0.8072\n",
            "Epoch 100/100\n",
            "176/176 [==============================] - 67s 382ms/step - loss: 0.7420 - accuracy: 0.7759 - top-5-accuracy: 0.9652 - val_loss: 1.9363 - val_accuracy: 0.5426 - val_top-5-accuracy: 0.8038\n",
            "313/313 [==============================] - 6s 21ms/step - loss: 1.8784 - accuracy: 0.5560 - top-5-accuracy: 0.8170\n",
            "Test accuracy: 55.6%\n",
            "Test top 5 accuracy: 81.7%\n"
          ],
          "name": "stdout"
        }
      ]
    },
    {
      "cell_type": "markdown",
      "metadata": {
        "id": "hbztZ5N939Dr"
      },
      "source": [
        "Plots"
      ]
    },
    {
      "cell_type": "code",
      "metadata": {
        "id": "eR9_P2PwBCQ7",
        "colab": {
          "base_uri": "https://localhost:8080/",
          "height": 295
        },
        "outputId": "c3c90400-111e-4f4b-d324-62e36386f958"
      },
      "source": [
        "def plot_hist(hist):\n",
        "    plt.plot(hist.history[\"accuracy\"])\n",
        "    plt.plot(hist.history[\"val_accuracy\"])\n",
        "\n",
        "    plt.title(\"Training Progress\")\n",
        "    plt.ylabel(\"Accuracy\")\n",
        "    plt.xlabel(\"Epochs\")\n",
        "    plt.legend([\"train_acc\", \"val_acc\", \"train_loss\", \"val_loss\"], loc=\"upper left\")\n",
        "    plt.show()\n",
        "\n",
        "plot_hist(history)"
      ],
      "execution_count": null,
      "outputs": [
        {
          "output_type": "display_data",
          "data": {
            "image/png": "[encoded data removed]",
            "text/plain": [
              "<Figure size 432x288 with 1 Axes>"
            ]
          },
          "metadata": {
            "tags": [],
            "needs_background": "light"
          }
        }
      ]
    },
    {
      "cell_type": "code",
      "metadata": {
        "id": "2eoRlW1bn_dr",
        "colab": {
          "base_uri": "https://localhost:8080/",
          "height": 295
        },
        "outputId": "83d3a96e-2460-463f-ff9c-14644febfc36"
      },
      "source": [
        "def plot_hist(hist):\n",
        " \n",
        "    plt.plot(hist.history[\"loss\"])\n",
        "    plt.plot(hist.history[\"val_loss\"])\n",
        "    plt.title(\"Training Progress\")\n",
        "    plt.ylabel(\"Loss\")\n",
        "    plt.xlabel(\"Epochs\")\n",
        "    plt.legend([\"train_acc\", \"val_acc\", \"train_loss\", \"val_loss\"], loc=\"upper left\")\n",
        "    plt.show()\n",
        "\n",
        "plot_hist(history)"
      ],
      "execution_count": null,
      "outputs": [
        {
          "output_type": "display_data",
          "data": {
            "image/png": "[encoded data removed]",
            "text/plain": [
              "<Figure size 432x288 with 1 Axes>"
            ]
          },
          "metadata": {
            "tags": [],
            "needs_background": "light"
          }
        }
      ]
    },
    {
      "cell_type": "markdown",
      "metadata": {
        "id": "_a67hPPoAk_y"
      },
      "source": [
        "# **Different Dataset othter than used in Paper**\n",
        "\n",
        "* Dataset : Fashion-MNIST"
      ]
    },
    {
      "cell_type": "markdown",
      "metadata": {
        "id": "MZG5xxIJz6_w"
      },
      "source": [
        "##Without Fine Tuining\n",
        "This is not part of papaer implementation. I have trained a simple traditional convolutional neural network just for comparison purpose. \n"
      ]
    },
    {
      "cell_type": "code",
      "metadata": {
        "colab": {
          "base_uri": "https://localhost:8080/",
          "height": 1000,
          "referenced_widgets": [
            "aaeca9029c124daebc8b63d4a8506ae8",
            "8344435627594965a45bea15c7bb1542",
            "d3d2a1400a184bf3b14a9f76a6b21133",
            "9fc263ba255746d8a5bfd7001f70ea4d",
            "607b0e65f99546c498886d58f388f054",
            "c219e3800fcf4adeab026ec70f10e101",
            "6115d83d3be84c7d9962dcd96921251f",
            "6878b25a969b482b934207aac0a13a6b",
            "feb885515010444492fb4e1fa2e32e3f",
            "eb0bb10626ea461f8f4e4ebde9466a14",
            "dba7ba0e582e4ae99202d9cf65cac3a2",
            "357bcdaed4444f2f8fbe1d41fffa8d55",
            "2df81fd6a5e2495d941f4392225c45f5",
            "8c591bfb9f434a32a0b0a6ad36f13c4e",
            "d3cc8beda64042a5a97b6b61259e3209",
            "a9525530c54c4a609853ed8c7144f930",
            "b83b88a92a454721904215366d979e25",
            "654bd3be6d5040e2bc8354c83873b188",
            "6c86d159d2ab482bb0aa32237210b6f2",
            "352f4f78df4a41f894d110f88ead0804",
            "3191f4c7a651422db94a142c7179e432",
            "cda717f809ba48f9bab4c40ef923b952",
            "f3fc5028291c4bd4967e655244dba9d1",
            "b052b9ff039646869d908752fc09d90e",
            "7508d263e14e4ab2b83682180d9d6d6a",
            "918079a698d5465696bd9516a6907175",
            "46695110ff3d43a986e8a9b85f65b20e",
            "e1f3e684f10748c6a07816836f96d583",
            "5e0398dae145497fb83240df9f25b8bb",
            "1adb6537d10b449bb3149bb498f925f4",
            "a384cabaa48842d5a085ffbb7117afe3",
            "f67bae835f754b0388b52444cfd5976c",
            "728609f74df84531a80e014a575533a3",
            "1a89e620a76e4c638bcd356d896b6a3b",
            "a27e9a6c73dc4275834e1967ef81fd25",
            "1e6265e5700b492a9dd76ae3066a45dc",
            "c28cdf94bdff49a28d3a821e7ac44699",
            "13b00c3d57924eb396ccb607a769e5b7",
            "8268b4d9f4cd4d95a247fb52c7f39ef6",
            "8b5f81f5efff4d2ebce29c4716d6fae6",
            "96af50269ba44e57861c795c274ceb4d",
            "79d364db3a18446686c7e5d6f1113ca8",
            "b14c78139cda486f820787cbbb3a1a2c",
            "eb85a764a85c46349961fad25d1e85a2",
            "5824b87449c849219b1a71ef70e61468",
            "831ea4b5d53441f6b68671f3f0d3baf1",
            "e961ff2d215f43ad8f540b6e56f59086",
            "ea2d98642dea46868a0539e5d2777971",
            "21a7ad3fdbc044eb9f9f5887dd2e762b",
            "3ceecb166a9f4b88aaa97028fec1b158",
            "ffd1de0ec75e438a805575f48575544a",
            "20fdf553499249839e0216484c3280a6",
            "f4bb39b60f7f450db398f5abeb928f41",
            "717e1566b0134a9eaddbeba022e3f810",
            "b1aa7a64e95a4b08a6d1902700a9dc1a",
            "64de7fb1894b4147967a616c0bc5bb51",
            "cc4df2d2985241e7bbc42dd0b1f805ea",
            "d1618009fac0414095b0bd249726e3a3",
            "4745b1b907844a869b34b0bc1f6eccb1",
            "02533f196a514c7f9f37a90332c736e1",
            "9e32e0263aa748308b4c2f6cbe7d978b",
            "343de4af23174499bcdfabf505035b33",
            "eaa2a293c0e140f485e5265f92bba7e2",
            "dd578a0179a34e3a8049dd375b6d93f1"
          ]
        },
        "id": "fTiBiNiS525P",
        "outputId": "436536ca-dcce-459e-d8e4-1d1c9f9a848a"
      },
      "source": [
        "trainset = datasets.FashionMNIST('PATH_TO_STORE_TRAINSET', download=True, train=True, transform=transform)\n",
        "valset = datasets.FashionMNIST('PATH_TO_STORE_TESTSET', download=True, train=False, transform=transform)\n",
        "trainloader = torch.utils.data.DataLoader(trainset, batch_size=64, shuffle=True)\n",
        "valloader = torch.utils.data.DataLoader(valset, batch_size=64, shuffle=True)"
      ],
      "execution_count": 18,
      "outputs": [
        {
          "output_type": "stream",
          "text": [
            "Downloading http://yann.lecun.com/exdb/mnist/train-images-idx3-ubyte.gz\n",
            "Failed to download (trying next):\n",
            "HTTP Error 503: Service Unavailable\n",
            "\n",
            "Downloading https://ossci-datasets.s3.amazonaws.com/mnist/train-images-idx3-ubyte.gz\n",
            "Downloading https://ossci-datasets.s3.amazonaws.com/mnist/train-images-idx3-ubyte.gz to PATH_TO_STORE_TRAINSET/MNIST/raw/train-images-idx3-ubyte.gz\n"
          ],
          "name": "stdout"
        },
        {
          "output_type": "display_data",
          "data": {
            "application/vnd.jupyter.widget-view+json": {
              "model_id": "aaeca9029c124daebc8b63d4a8506ae8",
              "version_minor": 0,
              "version_major": 2
            },
            "text/plain": [
              "HBox(children=(FloatProgress(value=0.0, max=9912422.0), HTML(value='')))"
            ]
          },
          "metadata": {
            "tags": []
          }
        },
        {
          "output_type": "stream",
          "text": [
            "\n",
            "Extracting PATH_TO_STORE_TRAINSET/MNIST/raw/train-images-idx3-ubyte.gz to PATH_TO_STORE_TRAINSET/MNIST/raw\n",
            "\n",
            "Downloading http://yann.lecun.com/exdb/mnist/train-labels-idx1-ubyte.gz\n",
            "Failed to download (trying next):\n",
            "HTTP Error 503: Service Unavailable\n",
            "\n",
            "Downloading https://ossci-datasets.s3.amazonaws.com/mnist/train-labels-idx1-ubyte.gz\n",
            "Downloading https://ossci-datasets.s3.amazonaws.com/mnist/train-labels-idx1-ubyte.gz to PATH_TO_STORE_TRAINSET/MNIST/raw/train-labels-idx1-ubyte.gz\n"
          ],
          "name": "stdout"
        },
        {
          "output_type": "display_data",
          "data": {
            "application/vnd.jupyter.widget-view+json": {
              "model_id": "feb885515010444492fb4e1fa2e32e3f",
              "version_minor": 0,
              "version_major": 2
            },
            "text/plain": [
              "HBox(children=(FloatProgress(value=0.0, max=28881.0), HTML(value='')))"
            ]
          },
          "metadata": {
            "tags": []
          }
        },
        {
          "output_type": "stream",
          "text": [
            "\n",
            "Extracting PATH_TO_STORE_TRAINSET/MNIST/raw/train-labels-idx1-ubyte.gz to PATH_TO_STORE_TRAINSET/MNIST/raw\n",
            "\n",
            "Downloading http://yann.lecun.com/exdb/mnist/t10k-images-idx3-ubyte.gz\n",
            "Failed to download (trying next):\n",
            "HTTP Error 503: Service Unavailable\n",
            "\n",
            "Downloading https://ossci-datasets.s3.amazonaws.com/mnist/t10k-images-idx3-ubyte.gz\n",
            "Downloading https://ossci-datasets.s3.amazonaws.com/mnist/t10k-images-idx3-ubyte.gz to PATH_TO_STORE_TRAINSET/MNIST/raw/t10k-images-idx3-ubyte.gz\n"
          ],
          "name": "stdout"
        },
        {
          "output_type": "display_data",
          "data": {
            "application/vnd.jupyter.widget-view+json": {
              "model_id": "b83b88a92a454721904215366d979e25",
              "version_minor": 0,
              "version_major": 2
            },
            "text/plain": [
              "HBox(children=(FloatProgress(value=0.0, max=1648877.0), HTML(value='')))"
            ]
          },
          "metadata": {
            "tags": []
          }
        },
        {
          "output_type": "stream",
          "text": [
            "\n",
            "Extracting PATH_TO_STORE_TRAINSET/MNIST/raw/t10k-images-idx3-ubyte.gz to PATH_TO_STORE_TRAINSET/MNIST/raw\n",
            "\n",
            "Downloading http://yann.lecun.com/exdb/mnist/t10k-labels-idx1-ubyte.gz\n",
            "Failed to download (trying next):\n",
            "HTTP Error 503: Service Unavailable\n",
            "\n",
            "Downloading https://ossci-datasets.s3.amazonaws.com/mnist/t10k-labels-idx1-ubyte.gz\n",
            "Downloading https://ossci-datasets.s3.amazonaws.com/mnist/t10k-labels-idx1-ubyte.gz to PATH_TO_STORE_TRAINSET/MNIST/raw/t10k-labels-idx1-ubyte.gz\n"
          ],
          "name": "stdout"
        },
        {
          "output_type": "display_data",
          "data": {
            "application/vnd.jupyter.widget-view+json": {
              "model_id": "7508d263e14e4ab2b83682180d9d6d6a",
              "version_minor": 0,
              "version_major": 2
            },
            "text/plain": [
              "HBox(children=(FloatProgress(value=0.0, max=4542.0), HTML(value='')))"
            ]
          },
          "metadata": {
            "tags": []
          }
        },
        {
          "output_type": "stream",
          "text": [
            "\n",
            "Extracting PATH_TO_STORE_TRAINSET/MNIST/raw/t10k-labels-idx1-ubyte.gz to PATH_TO_STORE_TRAINSET/MNIST/raw\n",
            "\n",
            "Processing...\n",
            "Done!\n",
            "Downloading http://yann.lecun.com/exdb/mnist/train-images-idx3-ubyte.gz\n",
            "Failed to download (trying next):\n",
            "HTTP Error 503: Service Unavailable\n",
            "\n",
            "Downloading https://ossci-datasets.s3.amazonaws.com/mnist/train-images-idx3-ubyte.gz\n",
            "Downloading https://ossci-datasets.s3.amazonaws.com/mnist/train-images-idx3-ubyte.gz to PATH_TO_STORE_TESTSET/MNIST/raw/train-images-idx3-ubyte.gz\n"
          ],
          "name": "stdout"
        },
        {
          "output_type": "display_data",
          "data": {
            "application/vnd.jupyter.widget-view+json": {
              "model_id": "728609f74df84531a80e014a575533a3",
              "version_minor": 0,
              "version_major": 2
            },
            "text/plain": [
              "HBox(children=(FloatProgress(value=0.0, max=9912422.0), HTML(value='')))"
            ]
          },
          "metadata": {
            "tags": []
          }
        },
        {
          "output_type": "stream",
          "text": [
            "\n",
            "Extracting PATH_TO_STORE_TESTSET/MNIST/raw/train-images-idx3-ubyte.gz to PATH_TO_STORE_TESTSET/MNIST/raw\n",
            "\n",
            "Downloading http://yann.lecun.com/exdb/mnist/train-labels-idx1-ubyte.gz\n",
            "Failed to download (trying next):\n",
            "HTTP Error 503: Service Unavailable\n",
            "\n",
            "Downloading https://ossci-datasets.s3.amazonaws.com/mnist/train-labels-idx1-ubyte.gz\n",
            "Downloading https://ossci-datasets.s3.amazonaws.com/mnist/train-labels-idx1-ubyte.gz to PATH_TO_STORE_TESTSET/MNIST/raw/train-labels-idx1-ubyte.gz\n"
          ],
          "name": "stdout"
        },
        {
          "output_type": "display_data",
          "data": {
            "application/vnd.jupyter.widget-view+json": {
              "model_id": "96af50269ba44e57861c795c274ceb4d",
              "version_minor": 0,
              "version_major": 2
            },
            "text/plain": [
              "HBox(children=(FloatProgress(value=0.0, max=28881.0), HTML(value='')))"
            ]
          },
          "metadata": {
            "tags": []
          }
        },
        {
          "output_type": "stream",
          "text": [
            "\n",
            "Extracting PATH_TO_STORE_TESTSET/MNIST/raw/train-labels-idx1-ubyte.gz to PATH_TO_STORE_TESTSET/MNIST/raw\n",
            "\n",
            "Downloading http://yann.lecun.com/exdb/mnist/t10k-images-idx3-ubyte.gz\n",
            "Downloading http://yann.lecun.com/exdb/mnist/t10k-images-idx3-ubyte.gz to PATH_TO_STORE_TESTSET/MNIST/raw/t10k-images-idx3-ubyte.gz\n",
            "Failed to download (trying next):\n",
            "HTTP Error 503: Service Unavailable\n",
            "\n",
            "Downloading https://ossci-datasets.s3.amazonaws.com/mnist/t10k-images-idx3-ubyte.gz\n",
            "Downloading https://ossci-datasets.s3.amazonaws.com/mnist/t10k-images-idx3-ubyte.gz to PATH_TO_STORE_TESTSET/MNIST/raw/t10k-images-idx3-ubyte.gz\n"
          ],
          "name": "stdout"
        },
        {
          "output_type": "display_data",
          "data": {
            "application/vnd.jupyter.widget-view+json": {
              "model_id": "21a7ad3fdbc044eb9f9f5887dd2e762b",
              "version_minor": 0,
              "version_major": 2
            },
            "text/plain": [
              "HBox(children=(FloatProgress(value=0.0, max=1648877.0), HTML(value='')))"
            ]
          },
          "metadata": {
            "tags": []
          }
        },
        {
          "output_type": "stream",
          "text": [
            "\n",
            "Extracting PATH_TO_STORE_TESTSET/MNIST/raw/t10k-images-idx3-ubyte.gz to PATH_TO_STORE_TESTSET/MNIST/raw\n",
            "\n",
            "Downloading http://yann.lecun.com/exdb/mnist/t10k-labels-idx1-ubyte.gz\n",
            "Failed to download (trying next):\n",
            "HTTP Error 503: Service Unavailable\n",
            "\n",
            "Downloading https://ossci-datasets.s3.amazonaws.com/mnist/t10k-labels-idx1-ubyte.gz\n",
            "Downloading https://ossci-datasets.s3.amazonaws.com/mnist/t10k-labels-idx1-ubyte.gz to PATH_TO_STORE_TESTSET/MNIST/raw/t10k-labels-idx1-ubyte.gz\n"
          ],
          "name": "stdout"
        },
        {
          "output_type": "display_data",
          "data": {
            "application/vnd.jupyter.widget-view+json": {
              "model_id": "cc4df2d2985241e7bbc42dd0b1f805ea",
              "version_minor": 0,
              "version_major": 2
            },
            "text/plain": [
              "HBox(children=(FloatProgress(value=0.0, max=4542.0), HTML(value='')))"
            ]
          },
          "metadata": {
            "tags": []
          }
        },
        {
          "output_type": "stream",
          "text": [
            "\n",
            "Extracting PATH_TO_STORE_TESTSET/MNIST/raw/t10k-labels-idx1-ubyte.gz to PATH_TO_STORE_TESTSET/MNIST/raw\n",
            "\n",
            "Processing...\n",
            "Done!\n"
          ],
          "name": "stdout"
        }
      ]
    },
    {
      "cell_type": "code",
      "metadata": {
        "colab": {
          "base_uri": "https://localhost:8080/"
        },
        "id": "dVMoF5Pm-esN",
        "outputId": "3fe01b5f-c0f0-472f-996b-c2b5d04d9cd4"
      },
      "source": [
        "dataiter = iter(trainloader)\n",
        "images, labels = dataiter.next()\n",
        "\n",
        "print(images.shape)\n",
        "print(labels.shape)"
      ],
      "execution_count": 19,
      "outputs": [
        {
          "output_type": "stream",
          "text": [
            "torch.Size([64, 1, 28, 28])\n",
            "torch.Size([64])\n"
          ],
          "name": "stdout"
        }
      ]
    },
    {
      "cell_type": "code",
      "metadata": {
        "colab": {
          "base_uri": "https://localhost:8080/",
          "height": 265
        },
        "id": "gFkqbQke-gxI",
        "outputId": "5b3f505c-d5a9-4903-92a9-2502549e80bc"
      },
      "source": [
        "plt.imshow(images[0].numpy().squeeze(), cmap='gray_r');"
      ],
      "execution_count": 20,
      "outputs": [
        {
          "output_type": "display_data",
          "data": {
            "image/png": "[encoded data removed]",
            "text/plain": [
              "<Figure size 432x288 with 1 Axes>"
            ]
          },
          "metadata": {
            "tags": [],
            "needs_background": "light"
          }
        }
      ]
    },
    {
      "cell_type": "code",
      "metadata": {
        "colab": {
          "base_uri": "https://localhost:8080/",
          "height": 246
        },
        "id": "zvilqU5I-ihw",
        "outputId": "48c7e1cf-eea0-45a1-c30a-2875689b15d3"
      },
      "source": [
        "figure = plt.figure()\n",
        "num_of_images = 60\n",
        "for index in range(1, num_of_images + 1):\n",
        "    plt.subplot(6, 10, index)\n",
        "    plt.axis('off')\n",
        "    plt.imshow(images[index].numpy().squeeze(), cmap='gray_r')"
      ],
      "execution_count": 21,
      "outputs": [
        {
          "output_type": "display_data",
          "data": {
            "image/png": "[encoded data removed]",
            "text/plain": [
              "<Figure size 432x288 with 60 Axes>"
            ]
          },
          "metadata": {
            "tags": [],
            "needs_background": "light"
          }
        }
      ]
    },
    {
      "cell_type": "code",
      "metadata": {
        "colab": {
          "base_uri": "https://localhost:8080/"
        },
        "id": "TXEc7uof-kq8",
        "outputId": "9aaf089a-faa2-45ab-a1e3-490dc5bb07ad"
      },
      "source": [
        "input_size = 784\n",
        "hidden_sizes = [128, 64]\n",
        "output_size = 10\n",
        "\n",
        "model = nn.Sequential(nn.Linear(input_size, hidden_sizes[0]),\n",
        "                      nn.ReLU(),\n",
        "                      nn.Linear(hidden_sizes[0], hidden_sizes[1]),\n",
        "                      nn.ReLU(),\n",
        "                      nn.Linear(hidden_sizes[1], output_size),\n",
        "                      nn.LogSoftmax(dim=1))\n",
        "print(model)"
      ],
      "execution_count": 22,
      "outputs": [
        {
          "output_type": "stream",
          "text": [
            "Sequential(\n",
            "  (0): Linear(in_features=784, out_features=128, bias=True)\n",
            "  (1): ReLU()\n",
            "  (2): Linear(in_features=128, out_features=64, bias=True)\n",
            "  (3): ReLU()\n",
            "  (4): Linear(in_features=64, out_features=10, bias=True)\n",
            "  (5): LogSoftmax(dim=1)\n",
            ")\n"
          ],
          "name": "stdout"
        }
      ]
    },
    {
      "cell_type": "code",
      "metadata": {
        "id": "nMoxLVgY-mzw"
      },
      "source": [
        "criterion = nn.NLLLoss()\n",
        "images, labels = next(iter(trainloader))\n",
        "images = images.view(images.shape[0], -1)\n",
        "\n",
        "logps = model(images) #log probabilities\n",
        "loss = criterion(logps, labels) #calculate the NLL loss"
      ],
      "execution_count": 23,
      "outputs": []
    },
    {
      "cell_type": "code",
      "metadata": {
        "colab": {
          "base_uri": "https://localhost:8080/"
        },
        "id": "MB-FSFmp-o56",
        "outputId": "97568461-889b-431a-c248-2fed0d10dbb1"
      },
      "source": [
        "print('Before backward pass: \\n', model[0].weight.grad)\n",
        "loss.backward()\n",
        "print('After backward pass: \\n', model[0].weight.grad)"
      ],
      "execution_count": 24,
      "outputs": [
        {
          "output_type": "stream",
          "text": [
            "Before backward pass: \n",
            " None\n",
            "After backward pass: \n",
            " tensor([[ 1.5939e-03,  1.5939e-03,  1.5939e-03,  ...,  1.5939e-03,\n",
            "          1.5939e-03,  1.5939e-03],\n",
            "        [ 4.9246e-03,  4.9246e-03,  4.9246e-03,  ...,  4.9246e-03,\n",
            "          4.9246e-03,  4.9246e-03],\n",
            "        [-3.1848e-03, -3.1848e-03, -3.1848e-03,  ..., -3.1848e-03,\n",
            "         -3.1848e-03, -3.1848e-03],\n",
            "        ...,\n",
            "        [-2.2873e-03, -2.2873e-03, -2.2873e-03,  ..., -2.2873e-03,\n",
            "         -2.2873e-03, -2.2873e-03],\n",
            "        [-9.9215e-05, -9.9215e-05, -9.9215e-05,  ..., -9.9215e-05,\n",
            "         -9.9215e-05, -9.9215e-05],\n",
            "        [-4.4672e-03, -4.4672e-03, -4.4672e-03,  ..., -4.4672e-03,\n",
            "         -4.4672e-03, -4.4672e-03]])\n"
          ],
          "name": "stdout"
        }
      ]
    },
    {
      "cell_type": "code",
      "metadata": {
        "colab": {
          "base_uri": "https://localhost:8080/"
        },
        "id": "MD0N3Uk7-u7o",
        "outputId": "30ff5da6-3fea-40f2-af9c-857419e69f0f"
      },
      "source": [
        "optimizer = optim.SGD(model.parameters(), lr=0.003, momentum=0.9)\n",
        "time0 = time()\n",
        "epochs = 15\n",
        "for e in range(epochs):\n",
        "    running_loss = 0\n",
        "    for images, labels in trainloader:\n",
        "        # Flatten MNIST images into a 784 long vector\n",
        "        images = images.view(images.shape[0], -1)\n",
        "    \n",
        "        # Training pass\n",
        "        optimizer.zero_grad()\n",
        "        \n",
        "        output = model(images)\n",
        "        loss = criterion(output, labels)\n",
        "        \n",
        "        #This is where the model learns by backpropagating\n",
        "        loss.backward()\n",
        "        \n",
        "        #And optimizes its weights here\n",
        "        optimizer.step()\n",
        "        \n",
        "        running_loss += loss.item()\n",
        "    else:\n",
        "        print(\"Epoch {} - Training loss: {}\".format(e, running_loss/len(trainloader)))\n",
        "print(\"\\nTraining Time (in minutes) =\",(time()-time0)/60)"
      ],
      "execution_count": 25,
      "outputs": [
        {
          "output_type": "stream",
          "text": [
            "Epoch 0 - Training loss: 0.6419554308279237\n",
            "Epoch 1 - Training loss: 0.2787572138392722\n",
            "Epoch 2 - Training loss: 0.21809924438373365\n",
            "Epoch 3 - Training loss: 0.17922925538441012\n",
            "Epoch 4 - Training loss: 0.14963648319323816\n",
            "Epoch 5 - Training loss: 0.12979106135022983\n",
            "Epoch 6 - Training loss: 0.11368161042743145\n",
            "Epoch 7 - Training loss: 0.10226062190299953\n",
            "Epoch 8 - Training loss: 0.09265046852674566\n",
            "Epoch 9 - Training loss: 0.08424603659709268\n",
            "Epoch 10 - Training loss: 0.07801686259987417\n",
            "Epoch 11 - Training loss: 0.07108886949598853\n",
            "Epoch 12 - Training loss: 0.06656418324732133\n",
            "Epoch 13 - Training loss: 0.06210777526949721\n",
            "Epoch 14 - Training loss: 0.056754172416721614\n",
            "\n",
            "Training Time (in minutes) = 2.7355862895647687\n"
          ],
          "name": "stdout"
        }
      ]
    },
    {
      "cell_type": "code",
      "metadata": {
        "id": "s9tZlZj7AUbP"
      },
      "source": [
        "def view_classify(img, ps, version=\"MNIST\"):\n",
        "    ''' Function for viewing an image and it's predicted classes.\n",
        "    '''\n",
        "    ps = ps.data.numpy().squeeze()\n",
        "\n",
        "    fig, (ax1, ax2) = plt.subplots(figsize=(6,9), ncols=2)\n",
        "    ax1.imshow(img.resize_(1, 28, 28).numpy().squeeze())\n",
        "    ax1.axis('off')\n",
        "    ax2.barh(np.arange(10), ps)\n",
        "    ax2.set_aspect(0.1)\n",
        "    ax2.set_yticks(np.arange(10))\n",
        "    if version == \"MNIST\":\n",
        "        ax2.set_yticklabels(np.arange(10))\n",
        "    elif version == \"Fashion\":\n",
        "        ax2.set_yticklabels(['T-shirt/top',\n",
        "                            'Trouser',\n",
        "                            'Pullover',\n",
        "                            'Dress',\n",
        "                            'Coat',\n",
        "                            'Sandal',\n",
        "                            'Shirt',\n",
        "                            'Sneaker',\n",
        "                            'Bag',\n",
        "                            'Ankle Boot'], size='small');\n",
        "    ax2.set_title('Class Probability')\n",
        "    ax2.set_xlim(0, 1.1)"
      ],
      "execution_count": 27,
      "outputs": []
    },
    {
      "cell_type": "code",
      "metadata": {
        "colab": {
          "base_uri": "https://localhost:8080/",
          "height": 230
        },
        "id": "lFiPB2LQ-xdm",
        "outputId": "bfa6dac3-6482-402c-eac7-770486fd60f0"
      },
      "source": [
        "images, labels = next(iter(valloader))\n",
        "\n",
        "img = images[0].view(1, 784)\n",
        "with torch.no_grad():\n",
        "    logps = model(img)\n",
        "\n",
        "ps = torch.exp(logps)\n",
        "probab = list(ps.numpy()[0])\n",
        "print(\"Predicted Digit =\", probab.index(max(probab)))\n",
        "view_classify(img.view(1, 28, 28), ps)"
      ],
      "execution_count": 28,
      "outputs": [
        {
          "output_type": "stream",
          "text": [
            "Predicted Digit = 2\n"
          ],
          "name": "stdout"
        },
        {
          "output_type": "display_data",
          "data": {
            "image/png": "[encoded data removed]",
            "text/plain": [
              "<Figure size 432x648 with 2 Axes>"
            ]
          },
          "metadata": {
            "tags": [],
            "needs_background": "light"
          }
        }
      ]
    },
    {
      "cell_type": "code",
      "metadata": {
        "colab": {
          "base_uri": "https://localhost:8080/"
        },
        "id": "gSFWYX2D-z9C",
        "outputId": "935d5e7e-4083-48f8-8fe2-31f6d68e8303"
      },
      "source": [
        "correct_count, all_count = 0, 0\n",
        "for images,labels in valloader:\n",
        "  for i in range(len(labels)):\n",
        "    img = images[i].view(1, 784)\n",
        "    with torch.no_grad():\n",
        "        logps = model(img)\n",
        "\n",
        "    \n",
        "    ps = torch.exp(logps)\n",
        "    probab = list(ps.numpy()[0])\n",
        "    pred_label = probab.index(max(probab))\n",
        "    true_label = labels.numpy()[i]\n",
        "    if(true_label == pred_label):\n",
        "      correct_count += 1\n",
        "    all_count += 1\n",
        "\n",
        "print(\"Number Of Images Tested =\", all_count)\n",
        "print(\"\\nModel Accuracy =\", (correct_count/all_count))"
      ],
      "execution_count": 29,
      "outputs": [
        {
          "output_type": "stream",
          "text": [
            "Number Of Images Tested = 10000\n",
            "\n",
            "Model Accuracy = 0.9746\n"
          ],
          "name": "stdout"
        }
      ]
    },
    {
      "cell_type": "code",
      "metadata": {
        "id": "3UBUk9r2z-5-"
      },
      "source": [
        ""
      ],
      "execution_count": null,
      "outputs": []
    },
    {
      "cell_type": "markdown",
      "metadata": {
        "id": "nZwyb63H8tnE"
      },
      "source": [
        "## With Fine Tuining MNIST\n"
      ]
    },
    {
      "cell_type": "code",
      "metadata": {
        "id": "wVWSVoG7rEvy"
      },
      "source": [
        "#device"
      ],
      "execution_count": 22,
      "outputs": []
    },
    {
      "cell_type": "code",
      "metadata": {
        "colab": {
          "base_uri": "https://localhost:8080/",
          "height": 1000,
          "referenced_widgets": [
            "57468b2408c54084a5b24b32ac7cc188",
            "2946a392a2ec4d56bff07376da80ec0a",
            "efbda40c9e8a439cb85dfeaa77263847",
            "c5d287583d27471daf47c36007de478a",
            "befac41002e5404080266f077d3947a1",
            "e43aafa283674769a465986b287a2b77",
            "05b0242fb06140eb855b44dad83ad97f",
            "6ee45affa9c04a60bae513aeead36e20",
            "091b172d34644a10a199fb7e15dd2cc4",
            "4aed1503f0304194bd1f01f39a085c31",
            "10c71bff338c455aaf495d4635c5ae9f",
            "42cc7f28e98c47c5adbd05d3eaf7abd6",
            "eb6e2910518a4bffa467c24dabf58302",
            "62fccc55ff314e71942fc79d18d386d6",
            "dd33e8c744244b749e6985a790596503",
            "e01645c5255b463d89169383a8fc6483",
            "357773a9cfcc407a83e5170c770b541b",
            "ef885e571f164f2898967ecfa88fc588",
            "78d88795cc2a44c991be91f07696a5c8",
            "19fcc17feac14d48b7efaa3d202962b6",
            "1a09460d678b4f3cbcb6965b78c7ad75",
            "a01595a7c23c44c9a4d4875224775d42",
            "65b6b7ffbf2946d590a646f2d794a7cd",
            "22fa30e80ef84837bb348fc57a45815c",
            "ac3af64443e94686bce2d72f7cd6493b",
            "a941c457ca504037881b8e832cdfe0b7",
            "596fe4757c8841809373d8040e560778",
            "595e9e64e9a14e988823652d66bda48b",
            "8e58e9d317e44329bf60ae00dfe319f9",
            "22846274a13743f189dc1cbca569b627",
            "067e11ae355943d9a910e575c0130379",
            "e4f597e327d14f4cb8192e1597b5fbbb"
          ]
        },
        "id": "r07N66068vS8",
        "outputId": "6b1bb88f-6ff4-4498-81d7-7b0c0b7a798f"
      },
      "source": [
        "\n",
        "\n",
        "\n",
        "wandb.init(project='vit_mnist',name='mnist_optuna')\n",
        "\n",
        "#wandb.save(__file__)\n",
        "torch.manual_seed(413)\n",
        "use_cuda = True\n",
        "device = torch.device(\"cuda\" if use_cuda else \"cpu\")\n",
        "batch_size = 128\n",
        "train_kwargs = {'batch_size': batch_size}\n",
        "test_kwargs = {'batch_size': batch_size}\n",
        "\n",
        "cuda_kwargs = {'num_workers': 8,\n",
        "               'pin_memory': True,\n",
        "               'shuffle': True}\n",
        "    \n",
        "train_kwargs.update(cuda_kwargs)\n",
        "test_kwargs.update(cuda_kwargs)\n",
        "\n",
        "train_transforms = transforms.Compose(\n",
        "    [\n",
        "        transforms.RandomResizedCrop(28),\n",
        "        \n",
        "        transforms.RandomHorizontalFlip(),\n",
        "        transforms.ColorJitter(brightness=(0.2, 2), \n",
        "                               contrast=(0.3, 2), \n",
        "                               ),\n",
        "        transforms.RandomAffine(30),\n",
        "        transforms.ToTensor(),\n",
        "        transforms.Normalize((0.1307,), (0.3081,))\n",
        "    ]\n",
        ")\n",
        "\n",
        "val_transforms = transforms.Compose(\n",
        "    [\n",
        "        transforms.ToTensor(),\n",
        "        transforms.Normalize((0.1307,), (0.3081,))\n",
        "    ]\n",
        ")\n",
        "\n",
        "\n",
        "\n",
        "dataset1 = datasets.FashionMNIST('../data', train=True, download=True,\n",
        "                   transform=train_transforms)\n",
        "dataset2 = datasets.FashionMNIST('../data', train=False,\n",
        "                   transform=val_transforms)\n",
        "\n",
        "train_loader = torch.utils.data.DataLoader(dataset1,**train_kwargs)\n",
        "test_loader = torch.utils.data.DataLoader(dataset2, **test_kwargs)\n",
        "\n",
        "\n",
        "\n",
        "def train(model, criterion, device, train_loader, optimizer, epoch):\n",
        "    model.train()\n",
        "    for data, target in tqdm(train_loader):\n",
        "        data, target = data.to(device), target.to(device)\n",
        "        optimizer.zero_grad()\n",
        "        output = model(data)\n",
        "        loss = criterion(output, target)\n",
        "        loss.backward()\n",
        "        optimizer.step()\n",
        "        \n",
        "    #print('Train Epoch: {} Loss: {:.6f}'.format(\n",
        "    #    epoch, loss.item()))\n",
        "    \n",
        "\n",
        "\n",
        "\n",
        "def test(model, device, test_loader):\n",
        "    model.eval()\n",
        "    test_loss = 0\n",
        "    correct = 0\n",
        "    with torch.no_grad():\n",
        "        for data, target in tqdm(test_loader):\n",
        "            data, target = data.to(device), target.to(device)\n",
        "            output = model(data)\n",
        "            test_loss += F.nll_loss(output, target, reduction='sum').item()  # sum up batch loss\n",
        "            pred = output.argmax(dim=1, keepdim=True)  # get the index of the max log-probability\n",
        "            correct += pred.eq(target.view_as(pred)).sum().item()\n",
        "\n",
        "    test_loss /= len(test_loader.dataset)\n",
        "    val_acc = 100. * correct / len(test_loader.dataset)\n",
        "    #print('\\nTest set: Average loss: {:.4f}, Accuracy: {}/{} ({:.0f}%)\\n'.format(\n",
        "    #    test_loss, correct, len(test_loader.dataset),\n",
        "    #    val_acc))\n",
        "    \n",
        "    return val_acc\n",
        "\n",
        "\n",
        "epochs = 15\n",
        "gamma = 0.7\n",
        "\n",
        "\n",
        "def Objective(trial):\n",
        "    \n",
        "    dim = trial.suggest_categorical('dim',[32, 64, 128])\n",
        "    #patch_size = trial.suggest_int('patch_size',7, 14, 7)\n",
        "    patch_size = 7\n",
        "    depth = trial.suggest_categorical('depth',[8, 16, 32])\n",
        "    heads = trial.suggest_categorical('heads',[8, 16, 32])\n",
        "    mlp_dim = trial.suggest_categorical('mlp_dim',[128, 512, 1024])\n",
        "    optimizer_name = trial.suggest_categorical(\"optimizer\", [\"Adam\", \"RMSprop\"])\n",
        "    lr = trial.suggest_float(\"lr\", 1e-5, 1e-1, log=True)\n",
        "    #print('dim:', dim, 'mlp_dim:',mlp_dim, 'depth:',depth, 'heads:',heads)\n",
        "    model = ViT(\n",
        "        dim=dim,\n",
        "        image_size=28,\n",
        "        patch_size=patch_size,\n",
        "        num_classes=10,\n",
        "        depth=depth, # number of transformer blocks\n",
        "        heads=heads, # number of multi-channel attention\n",
        "        mlp_dim=mlp_dim,\n",
        "        channels=1,\n",
        "        #dropout=0.2,\n",
        "    )\n",
        "\n",
        "\n",
        "    # vanila cnn : 0.96\n",
        "    # model = Net()\n",
        "    model.to(device)\n",
        "    criterion = nn.CrossEntropyLoss()\n",
        "    # optimizer\n",
        "    #optimizer = optim.Adam(model.parameters(), lr=0.001)\n",
        "    optimizer = getattr(optim, optimizer_name)(model.parameters(), lr=lr)\n",
        "    \n",
        "    # scheduler\n",
        "    scheduler = StepLR(optimizer, step_size=1, gamma=gamma)\n",
        "\n",
        "    for epoch in range(1, epochs + 1):\n",
        "        train(model, criterion, device, train_loader, optimizer, epoch)\n",
        "        val_acc = test(model, device, test_loader)\n",
        "        scheduler.step()\n",
        "        \n",
        "        if 0:\n",
        "            torch.save(model.state_dict(), \"mnist_cnn.pt\")\n",
        "    \n",
        "        trial.report(val_acc, epoch)\n",
        "\n",
        "        # Handle pruning based on the intermediate value.\n",
        "        if trial.should_prune():\n",
        "            raise optuna.exceptions.TrialPruned()\n",
        "\n",
        "    wandb.log({'val_acc': val_acc})        \n",
        "    return val_acc\n",
        "\n",
        "\n",
        "if __name__ == \"__main__\":\n",
        "    study = optuna.create_study(direction=\"maximize\")\n",
        "    study.optimize(Objective, n_trials=10)\n",
        "\n",
        "    pruned_trials = [t for t in study.trials if t.state == optuna.trial.TrialState.PRUNED]\n",
        "    complete_trials = [t for t in study.trials if t.state == optuna.trial.TrialState.COMPLETE]\n",
        "\n",
        "    print(\"Study statistics: \")\n",
        "    print(\"  Number of finished trials: \", len(study.trials))\n",
        "    print(\"  Number of pruned trials: \", len(pruned_trials))\n",
        "    print(\"  Number of complete trials: \", len(complete_trials))\n",
        "\n",
        "    print(\"Best trial:\")\n",
        "    trial = study.best_trial\n",
        "\n",
        "    print(\"  Value: \", trial.value)\n",
        "\n",
        "    print(\"  Params: \")\n",
        "    #for key, value in trial.params.items():\n",
        "    #    print(\"    {}: {}\".format(key, value))"
      ],
      "execution_count": 23,
      "outputs": [
        {
          "output_type": "display_data",
          "data": {
            "application/javascript": [
              "\n",
              "        window._wandbApiKey = new Promise((resolve, reject) => {\n",
              "            function loadScript(url) {\n",
              "            return new Promise(function(resolve, reject) {\n",
              "                let newScript = document.createElement(\"script\");\n",
              "                newScript.onerror = reject;\n",
              "                newScript.onload = resolve;\n",
              "                document.body.appendChild(newScript);\n",
              "                newScript.src = url;\n",
              "            });\n",
              "            }\n",
              "            loadScript(\"https://cdn.jsdelivr.net/npm/postmate/build/postmate.min.js\").then(() => {\n",
              "            const iframe = document.createElement('iframe')\n",
              "            iframe.style.cssText = \"width:0;height:0;border:none\"\n",
              "            document.body.appendChild(iframe)\n",
              "            const handshake = new Postmate({\n",
              "                container: iframe,\n",
              "                url: 'https://wandb.ai/authorize'\n",
              "            });\n",
              "            const timeout = setTimeout(() => reject(\"Couldn't auto authenticate\"), 5000)\n",
              "            handshake.then(function(child) {\n",
              "                child.on('authorize', data => {\n",
              "                    clearTimeout(timeout)\n",
              "                    resolve(data)\n",
              "                });\n",
              "            });\n",
              "            })\n",
              "        });\n",
              "    "
            ],
            "text/plain": [
              "<IPython.core.display.Javascript object>"
            ]
          },
          "metadata": {
            "tags": []
          }
        },
        {
          "output_type": "stream",
          "text": [
            "\u001b[34m\u001b[1mwandb\u001b[0m: You can find your API key in your browser here: https://wandb.ai/authorize\n"
          ],
          "name": "stderr"
        },
        {
          "output_type": "stream",
          "text": [
            "wandb: Paste an API key from your profile and hit enter: ··········\n"
          ],
          "name": "stdout"
        },
        {
          "output_type": "stream",
          "text": [
            "\u001b[34m\u001b[1mwandb\u001b[0m: W&B syncing is set to `offline` in this directory.  Run `wandb online` or set WANDB_MODE=online to enable cloud syncing.\n"
          ],
          "name": "stderr"
        },
        {
          "output_type": "stream",
          "text": [
            "Downloading http://yann.lecun.com/exdb/mnist/train-images-idx3-ubyte.gz\n",
            "Downloading http://yann.lecun.com/exdb/mnist/train-images-idx3-ubyte.gz to ../data/MNIST/raw/train-images-idx3-ubyte.gz\n"
          ],
          "name": "stdout"
        },
        {
          "output_type": "display_data",
          "data": {
            "application/vnd.jupyter.widget-view+json": {
              "model_id": "57468b2408c54084a5b24b32ac7cc188",
              "version_minor": 0,
              "version_major": 2
            },
            "text/plain": [
              "HBox(children=(FloatProgress(value=0.0, max=9912422.0), HTML(value='')))"
            ]
          },
          "metadata": {
            "tags": []
          }
        },
        {
          "output_type": "stream",
          "text": [
            "\n",
            "Extracting ../data/MNIST/raw/train-images-idx3-ubyte.gz to ../data/MNIST/raw\n",
            "\n",
            "Downloading http://yann.lecun.com/exdb/mnist/train-labels-idx1-ubyte.gz\n",
            "Downloading http://yann.lecun.com/exdb/mnist/train-labels-idx1-ubyte.gz to ../data/MNIST/raw/train-labels-idx1-ubyte.gz\n"
          ],
          "name": "stdout"
        },
        {
          "output_type": "display_data",
          "data": {
            "application/vnd.jupyter.widget-view+json": {
              "model_id": "091b172d34644a10a199fb7e15dd2cc4",
              "version_minor": 0,
              "version_major": 2
            },
            "text/plain": [
              "HBox(children=(FloatProgress(value=0.0, max=28881.0), HTML(value='')))"
            ]
          },
          "metadata": {
            "tags": []
          }
        },
        {
          "output_type": "stream",
          "text": [
            "\n",
            "Extracting ../data/MNIST/raw/train-labels-idx1-ubyte.gz to ../data/MNIST/raw\n",
            "\n",
            "Downloading http://yann.lecun.com/exdb/mnist/t10k-images-idx3-ubyte.gz\n",
            "Failed to download (trying next):\n",
            "HTTP Error 503: Service Unavailable\n",
            "\n",
            "Downloading https://ossci-datasets.s3.amazonaws.com/mnist/t10k-images-idx3-ubyte.gz\n",
            "Downloading https://ossci-datasets.s3.amazonaws.com/mnist/t10k-images-idx3-ubyte.gz to ../data/MNIST/raw/t10k-images-idx3-ubyte.gz\n"
          ],
          "name": "stdout"
        },
        {
          "output_type": "display_data",
          "data": {
            "application/vnd.jupyter.widget-view+json": {
              "model_id": "357773a9cfcc407a83e5170c770b541b",
              "version_minor": 0,
              "version_major": 2
            },
            "text/plain": [
              "HBox(children=(FloatProgress(value=0.0, max=1648877.0), HTML(value='')))"
            ]
          },
          "metadata": {
            "tags": []
          }
        },
        {
          "output_type": "stream",
          "text": [
            "\n",
            "Extracting ../data/MNIST/raw/t10k-images-idx3-ubyte.gz to ../data/MNIST/raw\n",
            "\n",
            "Downloading http://yann.lecun.com/exdb/mnist/t10k-labels-idx1-ubyte.gz\n",
            "Failed to download (trying next):\n",
            "HTTP Error 503: Service Unavailable\n",
            "\n",
            "Downloading https://ossci-datasets.s3.amazonaws.com/mnist/t10k-labels-idx1-ubyte.gz\n",
            "Downloading https://ossci-datasets.s3.amazonaws.com/mnist/t10k-labels-idx1-ubyte.gz to ../data/MNIST/raw/t10k-labels-idx1-ubyte.gz\n"
          ],
          "name": "stdout"
        },
        {
          "output_type": "display_data",
          "data": {
            "application/vnd.jupyter.widget-view+json": {
              "model_id": "ac3af64443e94686bce2d72f7cd6493b",
              "version_minor": 0,
              "version_major": 2
            },
            "text/plain": [
              "HBox(children=(FloatProgress(value=0.0, max=4542.0), HTML(value='')))"
            ]
          },
          "metadata": {
            "tags": []
          }
        },
        {
          "output_type": "stream",
          "text": [
            "/usr/local/lib/python3.7/dist-packages/torchvision/datasets/mnist.py:502: UserWarning:\n",
            "\n",
            "The given NumPy array is not writeable, and PyTorch does not support non-writeable tensors. This means you can write to the underlying (supposedly non-writeable) NumPy array using the tensor. You may want to copy the array to protect its data or make it writeable before converting it to a tensor. This type of warning will be suppressed for the rest of this program. (Triggered internally at  /pytorch/torch/csrc/utils/tensor_numpy.cpp:143.)\n",
            "\n",
            "/usr/local/lib/python3.7/dist-packages/torch/utils/data/dataloader.py:477: UserWarning:\n",
            "\n",
            "This DataLoader will create 8 worker processes in total. Our suggested max number of worker in current system is 2, which is smaller than what this DataLoader is going to create. Please be aware that excessive worker creation might get DataLoader running slow or even freeze, lower the worker number to avoid potential slowness/freeze if necessary.\n",
            "\n",
            "\u001b[32m[I 2021-05-18 19:00:11,797]\u001b[0m A new study created in memory with name: no-name-48bc0003-d256-4e8c-b31e-fececfa8eec9\u001b[0m\n"
          ],
          "name": "stderr"
        },
        {
          "output_type": "stream",
          "text": [
            "\n",
            "Extracting ../data/MNIST/raw/t10k-labels-idx1-ubyte.gz to ../data/MNIST/raw\n",
            "\n",
            "Processing...\n",
            "Done!\n"
          ],
          "name": "stdout"
        },
        {
          "output_type": "stream",
          "text": [
            "100%|██████████| 469/469 [01:09<00:00,  6.75it/s]\n",
            "100%|██████████| 79/79 [00:03<00:00, 21.55it/s]\n",
            "100%|██████████| 469/469 [01:10<00:00,  6.69it/s]\n",
            "100%|██████████| 79/79 [00:03<00:00, 21.72it/s]\n",
            "100%|██████████| 469/469 [01:09<00:00,  6.75it/s]\n",
            "100%|██████████| 79/79 [00:03<00:00, 21.66it/s]\n",
            "100%|██████████| 469/469 [01:09<00:00,  6.72it/s]\n",
            "100%|██████████| 79/79 [00:03<00:00, 22.24it/s]\n",
            "100%|██████████| 469/469 [01:09<00:00,  6.77it/s]\n",
            "100%|██████████| 79/79 [00:03<00:00, 21.79it/s]\n",
            "100%|██████████| 469/469 [01:09<00:00,  6.72it/s]\n",
            "100%|██████████| 79/79 [00:03<00:00, 20.83it/s]\n",
            "100%|██████████| 469/469 [01:11<00:00,  6.55it/s]\n",
            "100%|██████████| 79/79 [00:03<00:00, 20.19it/s]\n",
            "100%|██████████| 469/469 [01:10<00:00,  6.67it/s]\n",
            "100%|██████████| 79/79 [00:03<00:00, 21.56it/s]\n",
            "100%|██████████| 469/469 [01:10<00:00,  6.64it/s]\n",
            "100%|██████████| 79/79 [00:03<00:00, 21.28it/s]\n",
            "100%|██████████| 469/469 [01:11<00:00,  6.56it/s]\n",
            "100%|██████████| 79/79 [00:03<00:00, 21.23it/s]\n",
            "100%|██████████| 469/469 [01:11<00:00,  6.59it/s]\n",
            "100%|██████████| 79/79 [00:03<00:00, 20.94it/s]\n",
            "100%|██████████| 469/469 [01:12<00:00,  6.47it/s]\n",
            "100%|██████████| 79/79 [00:03<00:00, 20.80it/s]\n",
            "100%|██████████| 469/469 [01:12<00:00,  6.49it/s]\n",
            "100%|██████████| 79/79 [00:03<00:00, 20.98it/s]\n",
            "100%|██████████| 469/469 [01:10<00:00,  6.63it/s]\n",
            "100%|██████████| 79/79 [00:03<00:00, 21.72it/s]\n",
            "100%|██████████| 469/469 [01:10<00:00,  6.62it/s]\n",
            "100%|██████████| 79/79 [00:03<00:00, 21.53it/s]\n",
            "\u001b[32m[I 2021-05-18 19:18:47,338]\u001b[0m Trial 0 finished with value: 61.75 and parameters: {'dim': 32, 'depth': 32, 'heads': 8, 'mlp_dim': 128, 'optimizer': 'Adam', 'lr': 1.2080564634236953e-05}. Best is trial 0 with value: 61.75.\u001b[0m\n",
            "100%|██████████| 469/469 [00:41<00:00, 11.40it/s]\n",
            "100%|██████████| 79/79 [00:02<00:00, 27.91it/s]\n",
            "100%|██████████| 469/469 [00:40<00:00, 11.46it/s]\n",
            "100%|██████████| 79/79 [00:02<00:00, 27.95it/s]\n",
            "100%|██████████| 469/469 [00:41<00:00, 11.40it/s]\n",
            "100%|██████████| 79/79 [00:02<00:00, 27.88it/s]\n",
            "100%|██████████| 469/469 [00:41<00:00, 11.33it/s]\n",
            "100%|██████████| 79/79 [00:02<00:00, 27.70it/s]\n",
            "100%|██████████| 469/469 [00:41<00:00, 11.28it/s]\n",
            "100%|██████████| 79/79 [00:02<00:00, 27.52it/s]\n",
            "100%|██████████| 469/469 [00:41<00:00, 11.26it/s]\n",
            "100%|██████████| 79/79 [00:02<00:00, 27.41it/s]\n",
            "100%|██████████| 469/469 [00:41<00:00, 11.28it/s]\n",
            "100%|██████████| 79/79 [00:02<00:00, 27.23it/s]\n",
            "100%|██████████| 469/469 [00:41<00:00, 11.30it/s]\n",
            "100%|██████████| 79/79 [00:02<00:00, 28.15it/s]\n",
            "100%|██████████| 469/469 [00:40<00:00, 11.50it/s]\n",
            "100%|██████████| 79/79 [00:02<00:00, 28.18it/s]\n",
            "100%|██████████| 469/469 [00:40<00:00, 11.54it/s]\n",
            "100%|██████████| 79/79 [00:02<00:00, 27.55it/s]\n",
            "100%|██████████| 469/469 [00:41<00:00, 11.37it/s]\n",
            "100%|██████████| 79/79 [00:02<00:00, 28.12it/s]\n",
            "100%|██████████| 469/469 [00:40<00:00, 11.51it/s]\n",
            "100%|██████████| 79/79 [00:02<00:00, 28.21it/s]\n",
            "100%|██████████| 469/469 [00:42<00:00, 11.07it/s]\n",
            "100%|██████████| 79/79 [00:02<00:00, 27.76it/s]\n",
            "100%|██████████| 469/469 [00:41<00:00, 11.36it/s]\n",
            "100%|██████████| 79/79 [00:02<00:00, 27.80it/s]\n",
            "100%|██████████| 469/469 [00:40<00:00, 11.47it/s]\n",
            "100%|██████████| 79/79 [00:02<00:00, 28.01it/s]\n",
            "\u001b[32m[I 2021-05-18 19:29:49,073]\u001b[0m Trial 1 finished with value: 85.77 and parameters: {'dim': 32, 'depth': 8, 'heads': 32, 'mlp_dim': 512, 'optimizer': 'RMSprop', 'lr': 0.0010002285306457664}. Best is trial 1 with value: 85.77.\u001b[0m\n",
            "100%|██████████| 469/469 [00:48<00:00,  9.69it/s]\n",
            "100%|██████████| 79/79 [00:03<00:00, 21.90it/s]\n",
            "100%|██████████| 469/469 [00:48<00:00,  9.75it/s]\n",
            "100%|██████████| 79/79 [00:03<00:00, 21.65it/s]\n",
            "100%|██████████| 469/469 [00:48<00:00,  9.76it/s]\n",
            "100%|██████████| 79/79 [00:03<00:00, 21.91it/s]\n",
            "100%|██████████| 469/469 [00:48<00:00,  9.76it/s]\n",
            "100%|██████████| 79/79 [00:03<00:00, 21.76it/s]\n",
            "100%|██████████| 469/469 [00:47<00:00,  9.78it/s]\n",
            "100%|██████████| 79/79 [00:03<00:00, 22.10it/s]\n",
            "100%|██████████| 469/469 [00:47<00:00,  9.77it/s]\n",
            "100%|██████████| 79/79 [00:03<00:00, 21.90it/s]\n",
            "100%|██████████| 469/469 [00:48<00:00,  9.76it/s]\n",
            "100%|██████████| 79/79 [00:03<00:00, 21.96it/s]\n",
            "100%|██████████| 469/469 [00:47<00:00,  9.80it/s]\n",
            "100%|██████████| 79/79 [00:03<00:00, 21.81it/s]\n",
            "100%|██████████| 469/469 [00:47<00:00,  9.78it/s]\n",
            "100%|██████████| 79/79 [00:03<00:00, 22.18it/s]\n",
            "100%|██████████| 469/469 [00:48<00:00,  9.76it/s]\n",
            "100%|██████████| 79/79 [00:03<00:00, 21.71it/s]\n",
            "100%|██████████| 469/469 [00:47<00:00,  9.81it/s]\n",
            "100%|██████████| 79/79 [00:03<00:00, 22.25it/s]\n",
            "100%|██████████| 469/469 [00:47<00:00,  9.81it/s]\n",
            "100%|██████████| 79/79 [00:03<00:00, 21.86it/s]\n",
            "100%|██████████| 469/469 [00:47<00:00,  9.79it/s]\n",
            "100%|██████████| 79/79 [00:03<00:00, 22.03it/s]\n",
            "100%|██████████| 469/469 [00:47<00:00,  9.79it/s]\n",
            "100%|██████████| 79/79 [00:03<00:00, 22.14it/s]\n",
            "100%|██████████| 469/469 [00:47<00:00,  9.81it/s]\n",
            "100%|██████████| 79/79 [00:03<00:00, 22.24it/s]\n",
            "\u001b[32m[I 2021-05-18 19:42:43,046]\u001b[0m Trial 2 finished with value: 52.48 and parameters: {'dim': 128, 'depth': 8, 'heads': 32, 'mlp_dim': 1024, 'optimizer': 'RMSprop', 'lr': 0.01169049393154513}. Best is trial 1 with value: 85.77.\u001b[0m\n",
            "100%|██████████| 469/469 [00:38<00:00, 12.26it/s]\n",
            "100%|██████████| 79/79 [00:02<00:00, 35.46it/s]\n",
            "100%|██████████| 469/469 [00:38<00:00, 12.20it/s]\n",
            "100%|██████████| 79/79 [00:02<00:00, 35.21it/s]\n",
            "100%|██████████| 469/469 [00:38<00:00, 12.19it/s]\n",
            "100%|██████████| 79/79 [00:02<00:00, 35.89it/s]\n",
            "100%|██████████| 469/469 [00:38<00:00, 12.21it/s]\n",
            "100%|██████████| 79/79 [00:02<00:00, 35.50it/s]\n",
            "100%|██████████| 469/469 [00:38<00:00, 12.21it/s]\n",
            "100%|██████████| 79/79 [00:02<00:00, 35.39it/s]\n",
            "100%|██████████| 469/469 [00:39<00:00, 12.02it/s]\n",
            "100%|██████████| 79/79 [00:02<00:00, 35.47it/s]\n",
            "100%|██████████| 469/469 [00:38<00:00, 12.04it/s]\n",
            "100%|██████████| 79/79 [00:02<00:00, 35.96it/s]\n",
            "100%|██████████| 469/469 [00:39<00:00, 12.02it/s]\n",
            "100%|██████████| 79/79 [00:02<00:00, 35.01it/s]\n",
            "100%|██████████| 469/469 [00:38<00:00, 12.11it/s]\n",
            "100%|██████████| 79/79 [00:02<00:00, 35.18it/s]\n",
            "100%|██████████| 469/469 [00:38<00:00, 12.07it/s]\n",
            "100%|██████████| 79/79 [00:02<00:00, 35.60it/s]\n",
            "100%|██████████| 469/469 [00:38<00:00, 12.07it/s]\n",
            "100%|██████████| 79/79 [00:02<00:00, 35.22it/s]\n",
            "100%|██████████| 469/469 [00:39<00:00, 12.01it/s]\n",
            "100%|██████████| 79/79 [00:02<00:00, 35.14it/s]\n",
            "100%|██████████| 469/469 [00:38<00:00, 12.07it/s]\n",
            "100%|██████████| 79/79 [00:02<00:00, 34.85it/s]\n",
            "100%|██████████| 469/469 [00:39<00:00, 12.02it/s]\n",
            "100%|██████████| 79/79 [00:02<00:00, 35.16it/s]\n",
            "100%|██████████| 469/469 [00:38<00:00, 12.03it/s]\n",
            "100%|██████████| 79/79 [00:02<00:00, 35.59it/s]\n",
            "\u001b[32m[I 2021-05-18 19:52:58,112]\u001b[0m Trial 3 finished with value: 35.31 and parameters: {'dim': 32, 'depth': 8, 'heads': 8, 'mlp_dim': 128, 'optimizer': 'RMSprop', 'lr': 1.0030612974339437e-05}. Best is trial 1 with value: 85.77.\u001b[0m\n",
            "100%|██████████| 469/469 [00:50<00:00,  9.31it/s]\n",
            "100%|██████████| 79/79 [00:03<00:00, 22.75it/s]\n",
            "100%|██████████| 469/469 [00:51<00:00,  9.07it/s]\n",
            "100%|██████████| 79/79 [00:03<00:00, 21.94it/s]\n",
            "100%|██████████| 469/469 [00:50<00:00,  9.27it/s]\n",
            "100%|██████████| 79/79 [00:03<00:00, 22.50it/s]\n",
            "100%|██████████| 469/469 [00:51<00:00,  9.17it/s]\n",
            "100%|██████████| 79/79 [00:03<00:00, 22.35it/s]\n",
            "100%|██████████| 469/469 [00:51<00:00,  9.04it/s]\n",
            "100%|██████████| 79/79 [00:03<00:00, 22.16it/s]\n",
            "100%|██████████| 469/469 [00:50<00:00,  9.21it/s]\n",
            "100%|██████████| 79/79 [00:03<00:00, 22.37it/s]\n",
            "100%|██████████| 469/469 [00:50<00:00,  9.36it/s]\n",
            "100%|██████████| 79/79 [00:03<00:00, 22.36it/s]\n",
            "100%|██████████| 469/469 [00:49<00:00,  9.39it/s]\n",
            "100%|██████████| 79/79 [00:03<00:00, 22.53it/s]\n",
            "100%|██████████| 469/469 [00:49<00:00,  9.40it/s]\n",
            "100%|██████████| 79/79 [00:03<00:00, 22.43it/s]\n",
            "100%|██████████| 469/469 [00:49<00:00,  9.39it/s]\n",
            "100%|██████████| 79/79 [00:03<00:00, 22.27it/s]\n",
            "100%|██████████| 469/469 [00:49<00:00,  9.39it/s]\n",
            "100%|██████████| 79/79 [00:03<00:00, 22.27it/s]\n",
            "100%|██████████| 469/469 [00:49<00:00,  9.38it/s]\n",
            "100%|██████████| 79/79 [00:03<00:00, 22.44it/s]\n",
            "100%|██████████| 469/469 [00:50<00:00,  9.36it/s]\n",
            "100%|██████████| 79/79 [00:03<00:00, 22.36it/s]\n",
            "100%|██████████| 469/469 [00:50<00:00,  9.26it/s]\n",
            "100%|██████████| 79/79 [00:03<00:00, 22.32it/s]\n",
            "100%|██████████| 469/469 [00:50<00:00,  9.24it/s]\n",
            "100%|██████████| 79/79 [00:03<00:00, 22.16it/s]\n",
            "\u001b[32m[I 2021-05-18 20:06:29,402]\u001b[0m Trial 4 finished with value: 26.3 and parameters: {'dim': 64, 'depth': 16, 'heads': 16, 'mlp_dim': 1024, 'optimizer': 'RMSprop', 'lr': 0.04584377271572918}. Best is trial 1 with value: 85.77.\u001b[0m\n",
            "100%|██████████| 469/469 [01:16<00:00,  6.11it/s]\n",
            "100%|██████████| 79/79 [00:04<00:00, 16.23it/s]\n",
            "100%|██████████| 469/469 [01:16<00:00,  6.12it/s]\n",
            "100%|██████████| 79/79 [00:04<00:00, 16.26it/s]\n",
            "100%|██████████| 469/469 [01:16<00:00,  6.10it/s]\n",
            "100%|██████████| 79/79 [00:04<00:00, 16.21it/s]\n",
            "100%|██████████| 469/469 [01:16<00:00,  6.10it/s]\n",
            "100%|██████████| 79/79 [00:04<00:00, 16.16it/s]\n",
            "\u001b[32m[I 2021-05-18 20:11:56,220]\u001b[0m Trial 5 pruned. \u001b[0m\n",
            "100%|██████████| 469/469 [00:42<00:00, 11.15it/s]\n",
            "100%|██████████| 79/79 [00:02<00:00, 27.41it/s]\n",
            "100%|██████████| 469/469 [00:41<00:00, 11.20it/s]\n",
            "100%|██████████| 79/79 [00:02<00:00, 28.09it/s]\n",
            "100%|██████████| 469/469 [00:41<00:00, 11.24it/s]\n",
            "100%|██████████| 79/79 [00:02<00:00, 27.32it/s]\n",
            "100%|██████████| 469/469 [00:42<00:00, 11.10it/s]\n",
            "100%|██████████| 79/79 [00:02<00:00, 27.19it/s]\n",
            "100%|██████████| 469/469 [00:42<00:00, 11.13it/s]\n",
            "100%|██████████| 79/79 [00:02<00:00, 27.22it/s]\n",
            "100%|██████████| 469/469 [00:42<00:00, 11.11it/s]\n",
            "100%|██████████| 79/79 [00:02<00:00, 27.48it/s]\n",
            "100%|██████████| 469/469 [00:42<00:00, 11.14it/s]\n",
            "100%|██████████| 79/79 [00:02<00:00, 27.47it/s]\n",
            "100%|██████████| 469/469 [00:42<00:00, 11.11it/s]\n",
            "100%|██████████| 79/79 [00:02<00:00, 27.24it/s]\n",
            "100%|██████████| 469/469 [00:42<00:00, 11.12it/s]\n",
            "100%|██████████| 79/79 [00:02<00:00, 27.83it/s]\n",
            "100%|██████████| 469/469 [00:42<00:00, 11.07it/s]\n",
            "100%|██████████| 79/79 [00:02<00:00, 27.48it/s]\n",
            "100%|██████████| 469/469 [00:42<00:00, 11.09it/s]\n",
            "100%|██████████| 79/79 [00:02<00:00, 27.32it/s]\n",
            "100%|██████████| 469/469 [00:42<00:00, 11.11it/s]\n",
            "100%|██████████| 79/79 [00:02<00:00, 27.34it/s]\n",
            "100%|██████████| 469/469 [00:42<00:00, 11.11it/s]\n",
            "100%|██████████| 79/79 [00:02<00:00, 27.43it/s]\n",
            "100%|██████████| 469/469 [00:42<00:00, 11.13it/s]\n",
            "100%|██████████| 79/79 [00:02<00:00, 27.50it/s]\n",
            "100%|██████████| 469/469 [00:41<00:00, 11.21it/s]\n",
            "100%|██████████| 79/79 [00:02<00:00, 27.37it/s]\n",
            "\u001b[32m[I 2021-05-18 20:23:11,560]\u001b[0m Trial 6 finished with value: 64.13 and parameters: {'dim': 32, 'depth': 8, 'heads': 32, 'mlp_dim': 512, 'optimizer': 'Adam', 'lr': 0.022282195754700442}. Best is trial 1 with value: 85.77.\u001b[0m\n",
            "100%|██████████| 469/469 [01:25<00:00,  5.50it/s]\n",
            "100%|██████████| 79/79 [00:05<00:00, 14.40it/s]\n",
            "\u001b[32m[I 2021-05-18 20:24:42,425]\u001b[0m Trial 7 pruned. \u001b[0m\n",
            "100%|██████████| 469/469 [00:51<00:00,  9.15it/s]\n",
            "100%|██████████| 79/79 [00:02<00:00, 27.34it/s]\n",
            "100%|██████████| 469/469 [00:51<00:00,  9.12it/s]\n",
            "100%|██████████| 79/79 [00:02<00:00, 27.90it/s]\n",
            "100%|██████████| 469/469 [00:51<00:00,  9.11it/s]\n",
            "100%|██████████| 79/79 [00:02<00:00, 27.73it/s]\n",
            "100%|██████████| 469/469 [00:51<00:00,  9.18it/s]\n",
            "100%|██████████| 79/79 [00:02<00:00, 27.32it/s]\n",
            "100%|██████████| 469/469 [00:51<00:00,  9.19it/s]\n",
            "100%|██████████| 79/79 [00:02<00:00, 28.24it/s]\n",
            "100%|██████████| 469/469 [00:51<00:00,  9.17it/s]\n",
            "100%|██████████| 79/79 [00:02<00:00, 27.73it/s]\n",
            "100%|██████████| 469/469 [00:50<00:00,  9.20it/s]\n",
            "100%|██████████| 79/79 [00:02<00:00, 27.83it/s]\n",
            "100%|██████████| 469/469 [00:51<00:00,  9.13it/s]\n",
            "100%|██████████| 79/79 [00:02<00:00, 27.25it/s]\n",
            "100%|██████████| 469/469 [00:51<00:00,  9.13it/s]\n",
            "100%|██████████| 79/79 [00:02<00:00, 27.64it/s]\n",
            "100%|██████████| 469/469 [00:51<00:00,  9.12it/s]\n",
            "100%|██████████| 79/79 [00:02<00:00, 27.61it/s]\n",
            "100%|██████████| 469/469 [00:51<00:00,  9.12it/s]\n",
            "100%|██████████| 79/79 [00:02<00:00, 27.63it/s]\n",
            "100%|██████████| 469/469 [00:51<00:00,  9.16it/s]\n",
            "100%|██████████| 79/79 [00:02<00:00, 27.96it/s]\n",
            "100%|██████████| 469/469 [00:51<00:00,  9.18it/s]\n",
            "100%|██████████| 79/79 [00:02<00:00, 27.28it/s]\n",
            "100%|██████████| 469/469 [00:51<00:00,  9.19it/s]\n",
            "100%|██████████| 79/79 [00:02<00:00, 27.25it/s]\n",
            "100%|██████████| 469/469 [00:50<00:00,  9.21it/s]\n",
            "100%|██████████| 79/79 [00:02<00:00, 27.81it/s]\n",
            "\u001b[32m[I 2021-05-18 20:38:13,946]\u001b[0m Trial 8 finished with value: 80.86 and parameters: {'dim': 64, 'depth': 16, 'heads': 8, 'mlp_dim': 512, 'optimizer': 'Adam', 'lr': 2.8671689568635266e-05}. Best is trial 1 with value: 85.77.\u001b[0m\n",
            "100%|██████████| 469/469 [01:30<00:00,  5.18it/s]\n",
            "100%|██████████| 79/79 [00:06<00:00, 13.02it/s]\n",
            "100%|██████████| 469/469 [01:30<00:00,  5.19it/s]\n",
            "100%|██████████| 79/79 [00:06<00:00, 12.98it/s]\n",
            "100%|██████████| 469/469 [01:30<00:00,  5.18it/s]\n",
            "100%|██████████| 79/79 [00:06<00:00, 12.96it/s]\n",
            "100%|██████████| 469/469 [01:30<00:00,  5.17it/s]\n",
            "100%|██████████| 79/79 [00:06<00:00, 12.86it/s]\n",
            "100%|██████████| 469/469 [01:30<00:00,  5.19it/s]\n",
            "100%|██████████| 79/79 [00:06<00:00, 12.89it/s]\n",
            "100%|██████████| 469/469 [01:30<00:00,  5.17it/s]\n",
            "100%|██████████| 79/79 [00:06<00:00, 12.92it/s]\n",
            "100%|██████████| 469/469 [01:30<00:00,  5.18it/s]\n",
            "100%|██████████| 79/79 [00:06<00:00, 12.92it/s]\n",
            "100%|██████████| 469/469 [01:30<00:00,  5.19it/s]\n",
            "100%|██████████| 79/79 [00:06<00:00, 12.92it/s]\n",
            "100%|██████████| 469/469 [01:30<00:00,  5.17it/s]\n",
            "100%|██████████| 79/79 [00:06<00:00, 12.83it/s]\n",
            "100%|██████████| 469/469 [01:30<00:00,  5.17it/s]\n",
            "100%|██████████| 79/79 [00:06<00:00, 12.85it/s]\n",
            "100%|██████████| 469/469 [01:30<00:00,  5.17it/s]\n",
            "100%|██████████| 79/79 [00:06<00:00, 12.79it/s]\n",
            "100%|██████████| 469/469 [01:30<00:00,  5.17it/s]\n",
            "100%|██████████| 79/79 [00:06<00:00, 12.84it/s]\n",
            "100%|██████████| 469/469 [01:30<00:00,  5.18it/s]\n",
            "100%|██████████| 79/79 [00:06<00:00, 12.77it/s]\n",
            "100%|██████████| 469/469 [01:30<00:00,  5.17it/s]\n",
            "100%|██████████| 79/79 [00:06<00:00, 12.89it/s]\n",
            "100%|██████████| 469/469 [01:30<00:00,  5.17it/s]\n",
            "100%|██████████| 79/79 [00:06<00:00, 12.76it/s]\n",
            "\u001b[32m[I 2021-05-18 21:02:25,306]\u001b[0m Trial 9 finished with value: 88.33 and parameters: {'dim': 128, 'depth': 16, 'heads': 32, 'mlp_dim': 512, 'optimizer': 'RMSprop', 'lr': 3.507829480565259e-05}. Best is trial 9 with value: 88.33.\u001b[0m\n"
          ],
          "name": "stderr"
        },
        {
          "output_type": "stream",
          "text": [
            "Study statistics: \n",
            "  Number of finished trials:  10\n",
            "  Number of pruned trials:  2\n",
            "  Number of complete trials:  8\n",
            "Best trial:\n",
            "  Value:  88.33\n",
            "  Params: \n"
          ],
          "name": "stdout"
        }
      ]
    },
    {
      "cell_type": "code",
      "metadata": {
        "id": "upRwevgtaBKI"
      },
      "source": [
        ""
      ],
      "execution_count": 23,
      "outputs": []
    }
  ]
}